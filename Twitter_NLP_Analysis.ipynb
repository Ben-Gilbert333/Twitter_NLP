{
 "cells": [
  {
   "cell_type": "markdown",
   "metadata": {},
   "source": [
    "# Twitter NLP Analysis"
   ]
  },
  {
   "cell_type": "markdown",
   "metadata": {},
   "source": [
    "## Overview\n",
    "\n",
    "A one-paragraph overview of the project, including the business problem, data, methods, results and recommendations.\n",
    "\n",
    "## Business Problem\n",
    "\n",
    "Summary of the business problem you are trying to solve, and the data questions that you plan to answer to solve them.\n",
    "\n",
    "Questions to consider:\n",
    "\n",
    "- Who are your stakeholders?\n",
    "- What are your stakeholders' pain points related to this project?\n",
    "- Why are your predictions important from a business perspective?\n",
    "- What exactly is your deliverable: your analysis, or the model itself?\n",
    "- Does your business understanding/stakeholder require a specific type of model?\n",
    "    - For example: a highly regulated industry would require a very transparent/simple/interpretable model, whereas a situation where the model itself is your deliverable would likely benefit from a more complex and thus stronger model\n",
    "   \n",
    "\n",
    "Additional questions to consider for classification:\n",
    "\n",
    "- What does a false positive look like in this context?\n",
    "- What does a false negative look like in this context?\n",
    "- Which is worse for your stakeholder?\n",
    "- What metric are you focusing on optimizing, given the answers to the above questions?"
   ]
  },
  {
   "cell_type": "markdown",
   "metadata": {},
   "source": [
    "## Data Understanding\n",
    "\n",
    "The data comes from CrowdFlower via [data.world](https://data.world/crowdflower/brands-and-product-emotions). It consists of 9,000 tweets about Apple and Google products from a South by Southwest (SXSW) event. Human raters rated the sentiment of the tweets as positive, negative, neutral, or indistinguishable. There are 3 columns including the tweet, the product the tweet is about, and the sentiment of the tweet. The variable we used as the target is sentiment. Our goal is to find key words in tweets that can be used to identify the sentiment of each tweet. "
   ]
  },
  {
   "cell_type": "code",
   "execution_count": 33,
   "metadata": {},
   "outputs": [
    {
     "name": "stderr",
     "output_type": "stream",
     "text": [
      "[nltk_data] Downloading package stopwords to\n",
      "[nltk_data]     C:\\Users\\42ben\\AppData\\Roaming\\nltk_data...\n",
      "[nltk_data]   Package stopwords is already up-to-date!\n"
     ]
    }
   ],
   "source": [
    "# Importing everything we will need\n",
    "import pandas as pd\n",
    "import numpy as np\n",
    "import nltk\n",
    "nltk.download('stopwords')\n",
    "from nltk.tokenize import RegexpTokenizer\n",
    "from nltk.corpus import stopwords\n",
    "from nltk.stem import PorterStemmer\n",
    "from sklearn.feature_extraction.text import CountVectorizer\n",
    "import matplotlib.pyplot as plt\n",
    "import seaborn as sns\n",
    "from sklearn.model_selection import train_test_split\n",
    "from sklearn.model_selection import cross_val_score\n",
    "from sklearn.tree import DecisionTreeClassifier\n",
    "from sklearn.pipeline import Pipeline\n",
    "from sklearn.metrics import accuracy_score, precision_score, ConfusionMatrixDisplay, recall_score, confusion_matrix\n",
    "from sklearn.ensemble import RandomForestClassifier\n",
    "from sklearn.model_selection import GridSearchCV\n",
    "from sklearn.linear_model import LogisticRegression\n",
    "from sklearn.naive_bayes import MultinomialNB\n",
    "from sklearn.feature_extraction.text import CountVectorizer, TfidfVectorizer, HashingVectorizer\n",
    "from sklearn.ensemble import StackingClassifier\n",
    "from sklearn.preprocessing import StandardScaler"
   ]
  },
  {
   "cell_type": "code",
   "execution_count": 17,
   "metadata": {
    "scrolled": true
   },
   "outputs": [
    {
     "data": {
      "text/html": [
       "<div>\n",
       "<style scoped>\n",
       "    .dataframe tbody tr th:only-of-type {\n",
       "        vertical-align: middle;\n",
       "    }\n",
       "\n",
       "    .dataframe tbody tr th {\n",
       "        vertical-align: top;\n",
       "    }\n",
       "\n",
       "    .dataframe thead th {\n",
       "        text-align: right;\n",
       "    }\n",
       "</style>\n",
       "<table border=\"1\" class=\"dataframe\">\n",
       "  <thead>\n",
       "    <tr style=\"text-align: right;\">\n",
       "      <th></th>\n",
       "      <th>tweet_text</th>\n",
       "      <th>emotion_in_tweet_is_directed_at</th>\n",
       "      <th>is_there_an_emotion_directed_at_a_brand_or_product</th>\n",
       "    </tr>\n",
       "  </thead>\n",
       "  <tbody>\n",
       "    <tr>\n",
       "      <th>0</th>\n",
       "      <td>.@wesley83 I have a 3G iPhone. After 3 hrs twe...</td>\n",
       "      <td>iPhone</td>\n",
       "      <td>Negative emotion</td>\n",
       "    </tr>\n",
       "    <tr>\n",
       "      <th>1</th>\n",
       "      <td>@jessedee Know about @fludapp ? Awesome iPad/i...</td>\n",
       "      <td>iPad or iPhone App</td>\n",
       "      <td>Positive emotion</td>\n",
       "    </tr>\n",
       "    <tr>\n",
       "      <th>2</th>\n",
       "      <td>@swonderlin Can not wait for #iPad 2 also. The...</td>\n",
       "      <td>iPad</td>\n",
       "      <td>Positive emotion</td>\n",
       "    </tr>\n",
       "    <tr>\n",
       "      <th>3</th>\n",
       "      <td>@sxsw I hope this year's festival isn't as cra...</td>\n",
       "      <td>iPad or iPhone App</td>\n",
       "      <td>Negative emotion</td>\n",
       "    </tr>\n",
       "    <tr>\n",
       "      <th>4</th>\n",
       "      <td>@sxtxstate great stuff on Fri #SXSW: Marissa M...</td>\n",
       "      <td>Google</td>\n",
       "      <td>Positive emotion</td>\n",
       "    </tr>\n",
       "  </tbody>\n",
       "</table>\n",
       "</div>"
      ],
      "text/plain": [
       "                                          tweet_text  \\\n",
       "0  .@wesley83 I have a 3G iPhone. After 3 hrs twe...   \n",
       "1  @jessedee Know about @fludapp ? Awesome iPad/i...   \n",
       "2  @swonderlin Can not wait for #iPad 2 also. The...   \n",
       "3  @sxsw I hope this year's festival isn't as cra...   \n",
       "4  @sxtxstate great stuff on Fri #SXSW: Marissa M...   \n",
       "\n",
       "  emotion_in_tweet_is_directed_at  \\\n",
       "0                          iPhone   \n",
       "1              iPad or iPhone App   \n",
       "2                            iPad   \n",
       "3              iPad or iPhone App   \n",
       "4                          Google   \n",
       "\n",
       "  is_there_an_emotion_directed_at_a_brand_or_product  \n",
       "0                                   Negative emotion  \n",
       "1                                   Positive emotion  \n",
       "2                                   Positive emotion  \n",
       "3                                   Negative emotion  \n",
       "4                                   Positive emotion  "
      ]
     },
     "execution_count": 17,
     "metadata": {},
     "output_type": "execute_result"
    }
   ],
   "source": [
    "# Reading in the data\n",
    "df = pd.read_csv(\"tweets.csv\", encoding='latin1')\n",
    "df.head()"
   ]
  },
  {
   "cell_type": "code",
   "execution_count": 18,
   "metadata": {},
   "outputs": [
    {
     "data": {
      "text/plain": [
       "iPad                               946\n",
       "Apple                              661\n",
       "iPad or iPhone App                 470\n",
       "Google                             430\n",
       "iPhone                             297\n",
       "Other Google product or service    293\n",
       "Android App                         81\n",
       "Android                             78\n",
       "Other Apple product or service      35\n",
       "Name: emotion_in_tweet_is_directed_at, dtype: int64"
      ]
     },
     "execution_count": 18,
     "metadata": {},
     "output_type": "execute_result"
    }
   ],
   "source": [
    "df['emotion_in_tweet_is_directed_at'].value_counts()"
   ]
  },
  {
   "cell_type": "code",
   "execution_count": 19,
   "metadata": {},
   "outputs": [
    {
     "data": {
      "text/plain": [
       "No emotion toward brand or product    5389\n",
       "Positive emotion                      2978\n",
       "Negative emotion                       570\n",
       "I can't tell                           156\n",
       "Name: is_there_an_emotion_directed_at_a_brand_or_product, dtype: int64"
      ]
     },
     "execution_count": 19,
     "metadata": {},
     "output_type": "execute_result"
    }
   ],
   "source": [
    "df['is_there_an_emotion_directed_at_a_brand_or_product'].value_counts()"
   ]
  },
  {
   "cell_type": "code",
   "execution_count": 20,
   "metadata": {},
   "outputs": [
    {
     "data": {
      "text/plain": [
       "(9093, 3)"
      ]
     },
     "execution_count": 20,
     "metadata": {},
     "output_type": "execute_result"
    }
   ],
   "source": [
    "df.shape"
   ]
  },
  {
   "cell_type": "code",
   "execution_count": 21,
   "metadata": {},
   "outputs": [
    {
     "data": {
      "text/plain": [
       "tweet_text                                               1\n",
       "emotion_in_tweet_is_directed_at                       5802\n",
       "is_there_an_emotion_directed_at_a_brand_or_product       0\n",
       "dtype: int64"
      ]
     },
     "execution_count": 21,
     "metadata": {},
     "output_type": "execute_result"
    }
   ],
   "source": [
    "df.isna().sum()"
   ]
  },
  {
   "cell_type": "markdown",
   "metadata": {},
   "source": [
    "## Data Preparation\n",
    "\n",
    "The steps we took to prepare our data before NLP processing included:\n",
    " - dropping a column\n",
    " - dropping a null\n",
    " - renaming a column\n",
    " - dropping tweets with 'I can't tell' as sentiment\n",
    "\n",
    "The NLP steps performed included:\n",
    " - tokenizing\n",
    " - removing stopwords\n",
    " - stemming"
   ]
  },
  {
   "cell_type": "markdown",
   "metadata": {},
   "source": [
    "Dropped `emotion_in_tweet_is_directed_at` column because we focused on the relationship between the `tweet_text` and the sentiment of the respective tweet. "
   ]
  },
  {
   "cell_type": "code",
   "execution_count": 22,
   "metadata": {
    "scrolled": true
   },
   "outputs": [
    {
     "data": {
      "text/html": [
       "<div>\n",
       "<style scoped>\n",
       "    .dataframe tbody tr th:only-of-type {\n",
       "        vertical-align: middle;\n",
       "    }\n",
       "\n",
       "    .dataframe tbody tr th {\n",
       "        vertical-align: top;\n",
       "    }\n",
       "\n",
       "    .dataframe thead th {\n",
       "        text-align: right;\n",
       "    }\n",
       "</style>\n",
       "<table border=\"1\" class=\"dataframe\">\n",
       "  <thead>\n",
       "    <tr style=\"text-align: right;\">\n",
       "      <th></th>\n",
       "      <th>tweet_text</th>\n",
       "      <th>is_there_an_emotion_directed_at_a_brand_or_product</th>\n",
       "    </tr>\n",
       "  </thead>\n",
       "  <tbody>\n",
       "    <tr>\n",
       "      <th>0</th>\n",
       "      <td>.@wesley83 I have a 3G iPhone. After 3 hrs twe...</td>\n",
       "      <td>Negative emotion</td>\n",
       "    </tr>\n",
       "    <tr>\n",
       "      <th>1</th>\n",
       "      <td>@jessedee Know about @fludapp ? Awesome iPad/i...</td>\n",
       "      <td>Positive emotion</td>\n",
       "    </tr>\n",
       "    <tr>\n",
       "      <th>2</th>\n",
       "      <td>@swonderlin Can not wait for #iPad 2 also. The...</td>\n",
       "      <td>Positive emotion</td>\n",
       "    </tr>\n",
       "    <tr>\n",
       "      <th>3</th>\n",
       "      <td>@sxsw I hope this year's festival isn't as cra...</td>\n",
       "      <td>Negative emotion</td>\n",
       "    </tr>\n",
       "    <tr>\n",
       "      <th>4</th>\n",
       "      <td>@sxtxstate great stuff on Fri #SXSW: Marissa M...</td>\n",
       "      <td>Positive emotion</td>\n",
       "    </tr>\n",
       "  </tbody>\n",
       "</table>\n",
       "</div>"
      ],
      "text/plain": [
       "                                          tweet_text  \\\n",
       "0  .@wesley83 I have a 3G iPhone. After 3 hrs twe...   \n",
       "1  @jessedee Know about @fludapp ? Awesome iPad/i...   \n",
       "2  @swonderlin Can not wait for #iPad 2 also. The...   \n",
       "3  @sxsw I hope this year's festival isn't as cra...   \n",
       "4  @sxtxstate great stuff on Fri #SXSW: Marissa M...   \n",
       "\n",
       "  is_there_an_emotion_directed_at_a_brand_or_product  \n",
       "0                                   Negative emotion  \n",
       "1                                   Positive emotion  \n",
       "2                                   Positive emotion  \n",
       "3                                   Negative emotion  \n",
       "4                                   Positive emotion  "
      ]
     },
     "execution_count": 22,
     "metadata": {},
     "output_type": "execute_result"
    }
   ],
   "source": [
    "# Dropping middle column in DataFrame\n",
    "sent_df = df.drop('emotion_in_tweet_is_directed_at', axis=1)\n",
    "sent_df.head()"
   ]
  },
  {
   "cell_type": "markdown",
   "metadata": {},
   "source": [
    "Dropped the one and only null row in the DataFrame."
   ]
  },
  {
   "cell_type": "code",
   "execution_count": 23,
   "metadata": {},
   "outputs": [],
   "source": [
    "# Dropping nulls\n",
    "sent_df.dropna(inplace=True)"
   ]
  },
  {
   "cell_type": "markdown",
   "metadata": {},
   "source": [
    "Changed `is_there_an_emotion_directed_at_a_brand_or_product` to `sentiment` to make it more manageable and interpretable."
   ]
  },
  {
   "cell_type": "code",
   "execution_count": 24,
   "metadata": {},
   "outputs": [],
   "source": [
    "# Changing name of column\n",
    "sent_df['sentiment'] = sent_df['is_there_an_emotion_directed_at_a_brand_or_product']\n",
    "sent_df.drop('is_there_an_emotion_directed_at_a_brand_or_product', axis = 1, inplace=True)"
   ]
  },
  {
   "cell_type": "markdown",
   "metadata": {},
   "source": [
    "Based on \"I can't tell\" not being useful for our predictive model and there only being 156 corresponding data points, we decided to drop these rows."
   ]
  },
  {
   "cell_type": "code",
   "execution_count": 25,
   "metadata": {},
   "outputs": [],
   "source": [
    "sent_df.drop(sent_df.loc[sent_df['sentiment']==\"I can't tell\"].index, inplace=True)"
   ]
  },
  {
   "cell_type": "markdown",
   "metadata": {},
   "source": [
    "### NLP Processing"
   ]
  },
  {
   "cell_type": "markdown",
   "metadata": {},
   "source": [
    "We included hashtags in our Regex pattern becuase we thought hashtags can add valuable meaning in order to predict sentiment. However, we did not include mentions because these do not seem to add valuable meaning when predicting sentiment. We began with the corpus of stopwords from nltk. We added to the list of stopwords later when looking at a chart in our notebook showing the top tokens from each category. This will be explained more in depth later."
   ]
  },
  {
   "cell_type": "code",
   "execution_count": 26,
   "metadata": {},
   "outputs": [],
   "source": [
    "# Create an intance of the RegexpTokenizer with the variable name `tokenizer`\n",
    "# The regex pattern should select all words with three or more characters\n",
    "tokenizer = RegexpTokenizer(pattern=r\"(?u)[\\w#]{3,}\")\n",
    "\n",
    "# Create a list of stopwords in English\n",
    "stopwords_list = stopwords.words('english')\n",
    "# Add to stopwords_list here\n",
    "stopwords_list.extend(['#sxsw', 'mention', 'googl', 'link', 'ipad','quot', 'appl', 'iphon', 'store', 'circl'])\n",
    "stopwords_list.extend(['new','app','austin','like','launch','pop','sxsw', 'line', 'get', 'amp'])\n",
    "\n",
    "# Create an instance of nltk's PorterStemmer with the variable name `stemmer`\n",
    "stemmer = PorterStemmer()"
   ]
  },
  {
   "cell_type": "markdown",
   "metadata": {},
   "source": [
    "Created a function that preproccesses the tweets by standardizing, tokenizing, removing stopwords, stemming, and removing tokens we decided to exclude after looking at the chart below. These were removed because they appeared commonly among all sentiments. These tokens had already been stemmed, this is why we remove stopwords again after the stemming in this function."
   ]
  },
  {
   "cell_type": "code",
   "execution_count": 27,
   "metadata": {},
   "outputs": [],
   "source": [
    "def preprocess_text(text, tokenizer, stopwords_list, stemmer):\n",
    "    # Standardize case (lowercase the text)\n",
    "    text = text.lower()\n",
    "    # Tokenize text using `tokenizer`\n",
    "    tokenized_text = tokenizer.tokenize(text)\n",
    "    # Remove stopwords using `stopwords_list`\n",
    "    filtered_text = [token for token in tokenized_text if token not in stopwords_list]\n",
    "    # Stem the tokenized text using `stemmer`\n",
    "    stemmed_text = [stemmer.stem(token) for token in filtered_text]\n",
    "    # Remove stopword stems using extended `stopwords_list`\n",
    "    stemmed_filtered_text = [token for token in stemmed_text if token not in stopwords_list]\n",
    "    # Return the preprocessed text (do not join, just return the list of tokens)\n",
    "    return stemmed_filtered_text\n",
    "# Apply function to 'tweet_text' column\n",
    "sent_df['preprocessed_text'] = sent_df['tweet_text'].apply(lambda x: preprocess_text(x, tokenizer, stopwords_list, stemmer))"
   ]
  },
  {
   "cell_type": "markdown",
   "metadata": {},
   "source": [
    "Created three bar charts that display the top 10 most common tokens in each sentiment group (positive, negative, and neutral). These charts are how we decided which tokens needed to be added to our stopwords list. If a token was prevelant in all sentiment groups we added it to our stopwords list because these tokens do not add any value in determining sentiment. This process was repeated until we felt the top tokens were diverse and meaningful.\n",
    "\n",
    "Paying attention to the class imbalance is important for this process. For example, in this final iteration of the charts 'social' appears as a top token in the neutral and negative groups. The scales between these groups is substantial: 'social' appears about 30 times in the negative group and nearly 500 times in the neutral group. Due to this difference we decided not to add 'social' to our stopwords list."
   ]
  },
  {
   "cell_type": "code",
   "execution_count": 28,
   "metadata": {},
   "outputs": [
    {
     "data": {
      "image/png": "[encoded data removed]",
      "text/plain": [
       "<Figure size 864x864 with 3 Axes>"
      ]
     },
     "metadata": {
      "needs_background": "light"
     },
     "output_type": "display_data"
    }
   ],
   "source": [
    "# Set up figure and axes\n",
    "fig, axes = plt.subplots(nrows=3, figsize=(12, 12))\n",
    "\n",
    "# Empty dict to hold words that have already been plotted and their colors\n",
    "plotted_words_and_colors = {}\n",
    "# Establish color palette to pull from\n",
    "color_palette = sns.color_palette('cividis', n_colors=38)\n",
    "\n",
    "# Create a plot for each unique sentiment\n",
    "data_by_sent = [y for _, y in sent_df.groupby('sentiment', as_index=False)]\n",
    "for idx, group in enumerate(data_by_sent):\n",
    "    # Find top 10 words in each sentiment\n",
    "    all_words_in_sent = group.preprocessed_text.explode()\n",
    "    top_10 = all_words_in_sent.value_counts()[:10]\n",
    "    \n",
    "    # Select appropriate colors, reusing colors if words repeat\n",
    "    colors = []\n",
    "    for word in top_10.index:\n",
    "        if word not in plotted_words_and_colors:\n",
    "            new_color = color_palette.pop(0)\n",
    "            plotted_words_and_colors[word] = new_color\n",
    "        colors.append(plotted_words_and_colors[word])\n",
    "    \n",
    "    # Select axes, plot data, set title\n",
    "    ax = axes[idx]\n",
    "    ax.bar(top_10.index, top_10.values, color=colors)\n",
    "    ax.set_title(group.iloc[0].sentiment.title())\n",
    "    \n",
    "fig.tight_layout()"
   ]
  },
  {
   "cell_type": "markdown",
   "metadata": {},
   "source": [
    "Once all the actions above were completed, the data was ready for a train/test split in order to begin the modeling process."
   ]
  },
  {
   "cell_type": "code",
   "execution_count": 29,
   "metadata": {},
   "outputs": [
    {
     "data": {
      "text/plain": [
       "7817    everyon alreadi one anti theft protect leav la...\n",
       "3158                             kick talk design headach\n",
       "7555    frabjou day callooh callay baaah ûólewi carrol...\n",
       "6829            umm would keep win shit thank killer case\n",
       "3719                    design interfac navig schema #uxd\n",
       "                              ...                        \n",
       "5593    cameron sinclair spearhead japan disast relief...\n",
       "7664                   #ipad therefor #appl near send pic\n",
       "6173               crazi look around realiz last year one\n",
       "987              nice outsid #appl guess peopl want ipad2\n",
       "8310                              might well popup #ipad2\n",
       "Name: joined_preprocessed_text, Length: 6702, dtype: object"
      ]
     },
     "execution_count": 29,
     "metadata": {},
     "output_type": "execute_result"
    }
   ],
   "source": [
    "# Convert token lists to strings\n",
    "sent_df[\"joined_preprocessed_text\"] = sent_df[\"preprocessed_text\"].str.join(\" \")\n",
    "\n",
    "# Create train test split\n",
    "X = sent_df['joined_preprocessed_text']\n",
    "y = sent_df['sentiment']\n",
    "# Explain zoom room 3 here\n",
    "X_train, X_test, y_train, y_test = train_test_split(X, y, random_state=333)\n",
    "\n",
    "X_train"
   ]
  },
  {
   "cell_type": "markdown",
   "metadata": {},
   "source": [
    "## Modeling\n",
    "\n",
    "Describe and justify the process for analyzing or modeling the data.\n",
    "\n",
    "Questions to consider:\n",
    "\n",
    "- How will you analyze the data to arrive at an initial approach?\n",
    "- How will you iterate on your initial approach to make it better?\n",
    "- What model type is most appropriate, given the data and the business problem?"
   ]
  },
  {
   "cell_type": "markdown",
   "metadata": {},
   "source": [
    "## Evaluation\n",
    "\n",
    "The evaluation of each model should accompany the creation of each model, and you should be sure to evaluate your models consistently.\n",
    "\n",
    "Evaluate how well your work solves the stated business problem. \n",
    "\n",
    "Questions to consider:\n",
    "\n",
    "- How do you interpret the results?\n",
    "- How well does your model fit your data? How much better is this than your baseline model? Is it over or under fit?\n",
    "- How well does your model/data fit any relevant modeling assumptions?\n",
    "\n",
    "For the final model, you might also consider:\n",
    "\n",
    "- How confident are you that your results would generalize beyond the data you have?\n",
    "- How confident are you that this model would benefit the business if put into use?\n",
    "- What does this final model tell you about the relationship between your inputs and outputs?"
   ]
  },
  {
   "cell_type": "markdown",
   "metadata": {},
   "source": [
    "### Baseline Understanding\n",
    "\n",
    "The most dominant sentiment in the data is neutral, therefore we set our baseline accuracy as a model predicting neutral sentiment every time. This would result in an accuracy score of approximately 60%. "
   ]
  },
  {
   "cell_type": "code",
   "execution_count": 30,
   "metadata": {},
   "outputs": [
    {
     "data": {
      "text/plain": [
       "0.6029543419874664"
      ]
     },
     "execution_count": 30,
     "metadata": {},
     "output_type": "execute_result"
    }
   ],
   "source": [
    "# Setting baseline_accuracy equal to the normalized value_counts of neutral sentiment\n",
    "baseline_accuracy = sent_df['sentiment'].value_counts(normalize=True)[0]\n",
    "baseline_accuracy"
   ]
  },
  {
   "cell_type": "markdown",
   "metadata": {},
   "source": [
    "### First Model (Decision Tree)\n",
    "\n",
    "Created a decision tree model with all default parameters. Our goal here was to purposefully create an overfit model in order to confirm it achieves a high accuracy score. Accomplishing this tells us we are using good enough data in order to predict our targe variable. "
   ]
  },
  {
   "cell_type": "code",
   "execution_count": 31,
   "metadata": {},
   "outputs": [
    {
     "data": {
      "text/html": [
       "<style>#sk-container-id-1 {color: black;}#sk-container-id-1 pre{padding: 0;}#sk-container-id-1 div.sk-toggleable {background-color: white;}#sk-container-id-1 label.sk-toggleable__label {cursor: pointer;display: block;width: 100%;margin-bottom: 0;padding: 0.3em;box-sizing: border-box;text-align: center;}#sk-container-id-1 label.sk-toggleable__label-arrow:before {content: \"▸\";float: left;margin-right: 0.25em;color: #696969;}#sk-container-id-1 label.sk-toggleable__label-arrow:hover:before {color: black;}#sk-container-id-1 div.sk-estimator:hover label.sk-toggleable__label-arrow:before {color: black;}#sk-container-id-1 div.sk-toggleable__content {max-height: 0;max-width: 0;overflow: hidden;text-align: left;background-color: #f0f8ff;}#sk-container-id-1 div.sk-toggleable__content pre {margin: 0.2em;color: black;border-radius: 0.25em;background-color: #f0f8ff;}#sk-container-id-1 input.sk-toggleable__control:checked~div.sk-toggleable__content {max-height: 200px;max-width: 100%;overflow: auto;}#sk-container-id-1 input.sk-toggleable__control:checked~label.sk-toggleable__label-arrow:before {content: \"▾\";}#sk-container-id-1 div.sk-estimator input.sk-toggleable__control:checked~label.sk-toggleable__label {background-color: #d4ebff;}#sk-container-id-1 div.sk-label input.sk-toggleable__control:checked~label.sk-toggleable__label {background-color: #d4ebff;}#sk-container-id-1 input.sk-hidden--visually {border: 0;clip: rect(1px 1px 1px 1px);clip: rect(1px, 1px, 1px, 1px);height: 1px;margin: -1px;overflow: hidden;padding: 0;position: absolute;width: 1px;}#sk-container-id-1 div.sk-estimator {font-family: monospace;background-color: #f0f8ff;border: 1px dotted black;border-radius: 0.25em;box-sizing: border-box;margin-bottom: 0.5em;}#sk-container-id-1 div.sk-estimator:hover {background-color: #d4ebff;}#sk-container-id-1 div.sk-parallel-item::after {content: \"\";width: 100%;border-bottom: 1px solid gray;flex-grow: 1;}#sk-container-id-1 div.sk-label:hover label.sk-toggleable__label {background-color: #d4ebff;}#sk-container-id-1 div.sk-serial::before {content: \"\";position: absolute;border-left: 1px solid gray;box-sizing: border-box;top: 0;bottom: 0;left: 50%;z-index: 0;}#sk-container-id-1 div.sk-serial {display: flex;flex-direction: column;align-items: center;background-color: white;padding-right: 0.2em;padding-left: 0.2em;position: relative;}#sk-container-id-1 div.sk-item {position: relative;z-index: 1;}#sk-container-id-1 div.sk-parallel {display: flex;align-items: stretch;justify-content: center;background-color: white;position: relative;}#sk-container-id-1 div.sk-item::before, #sk-container-id-1 div.sk-parallel-item::before {content: \"\";position: absolute;border-left: 1px solid gray;box-sizing: border-box;top: 0;bottom: 0;left: 50%;z-index: -1;}#sk-container-id-1 div.sk-parallel-item {display: flex;flex-direction: column;z-index: 1;position: relative;background-color: white;}#sk-container-id-1 div.sk-parallel-item:first-child::after {align-self: flex-end;width: 50%;}#sk-container-id-1 div.sk-parallel-item:last-child::after {align-self: flex-start;width: 50%;}#sk-container-id-1 div.sk-parallel-item:only-child::after {width: 0;}#sk-container-id-1 div.sk-dashed-wrapped {border: 1px dashed gray;margin: 0 0.4em 0.5em 0.4em;box-sizing: border-box;padding-bottom: 0.4em;background-color: white;}#sk-container-id-1 div.sk-label label {font-family: monospace;font-weight: bold;display: inline-block;line-height: 1.2em;}#sk-container-id-1 div.sk-label-container {text-align: center;}#sk-container-id-1 div.sk-container {/* jupyter's `normalize.less` sets `[hidden] { display: none; }` but bootstrap.min.css set `[hidden] { display: none !important; }` so we also need the `!important` here to be able to override the default hidden behavior on the sphinx rendered scikit-learn.org. See: https://github.com/scikit-learn/scikit-learn/issues/21755 */display: inline-block !important;position: relative;}#sk-container-id-1 div.sk-text-repr-fallback {display: none;}</style><div id=\"sk-container-id-1\" class=\"sk-top-container\"><div class=\"sk-text-repr-fallback\"><pre>Pipeline(steps=[(&#x27;cv&#x27;, CountVectorizer(stop_words=&#x27;english&#x27;)),\n",
       "                (&#x27;tree&#x27;, DecisionTreeClassifier())])</pre><b>In a Jupyter environment, please rerun this cell to show the HTML representation or trust the notebook. <br />On GitHub, the HTML representation is unable to render, please try loading this page with nbviewer.org.</b></div><div class=\"sk-container\" hidden><div class=\"sk-item sk-dashed-wrapped\"><div class=\"sk-label-container\"><div class=\"sk-label sk-toggleable\"><input class=\"sk-toggleable__control sk-hidden--visually\" id=\"sk-estimator-id-1\" type=\"checkbox\" ><label for=\"sk-estimator-id-1\" class=\"sk-toggleable__label sk-toggleable__label-arrow\">Pipeline</label><div class=\"sk-toggleable__content\"><pre>Pipeline(steps=[(&#x27;cv&#x27;, CountVectorizer(stop_words=&#x27;english&#x27;)),\n",
       "                (&#x27;tree&#x27;, DecisionTreeClassifier())])</pre></div></div></div><div class=\"sk-serial\"><div class=\"sk-item\"><div class=\"sk-estimator sk-toggleable\"><input class=\"sk-toggleable__control sk-hidden--visually\" id=\"sk-estimator-id-2\" type=\"checkbox\" ><label for=\"sk-estimator-id-2\" class=\"sk-toggleable__label sk-toggleable__label-arrow\">CountVectorizer</label><div class=\"sk-toggleable__content\"><pre>CountVectorizer(stop_words=&#x27;english&#x27;)</pre></div></div></div><div class=\"sk-item\"><div class=\"sk-estimator sk-toggleable\"><input class=\"sk-toggleable__control sk-hidden--visually\" id=\"sk-estimator-id-3\" type=\"checkbox\" ><label for=\"sk-estimator-id-3\" class=\"sk-toggleable__label sk-toggleable__label-arrow\">DecisionTreeClassifier</label><div class=\"sk-toggleable__content\"><pre>DecisionTreeClassifier()</pre></div></div></div></div></div></div></div>"
      ],
      "text/plain": [
       "Pipeline(steps=[('cv', CountVectorizer(stop_words='english')),\n",
       "                ('tree', DecisionTreeClassifier())])"
      ]
     },
     "execution_count": 31,
     "metadata": {},
     "output_type": "execute_result"
    }
   ],
   "source": [
    "# Creating steps for a Pipeline \n",
    "tree_steps = [('cv', CountVectorizer(stop_words='english')),\n",
    "         ('tree', DecisionTreeClassifier())]\n",
    "# Feeding the Pipeline the steps defined above\n",
    "tree_pipe = Pipeline(tree_steps)\n",
    "# Fitting the training data to the Pipeline\n",
    "tree_pipe.fit(X_train, y_train)"
   ]
  },
  {
   "cell_type": "markdown",
   "metadata": {},
   "source": [
    "This worked successfully, this model received an accuracy score of 95.17% on the training data."
   ]
  },
  {
   "cell_type": "code",
   "execution_count": 32,
   "metadata": {},
   "outputs": [
    {
     "data": {
      "text/plain": [
       "0.9571769621008654"
      ]
     },
     "execution_count": 32,
     "metadata": {},
     "output_type": "execute_result"
    }
   ],
   "source": [
    "# Defining the predictions from the Pipeline using the training data\n",
    "y_pred = tree_pipe.predict(X_train)\n",
    "# Evaluating the accuracy score on the training data\n",
    "accuracy_score(y_train, y_pred)"
   ]
  },
  {
   "cell_type": "markdown",
   "metadata": {},
   "source": [
    "But, the cross_val_score is much lower (64%) showing this model is very overfit. This is still performing a little better than the baseline model."
   ]
  },
  {
   "cell_type": "code",
   "execution_count": 35,
   "metadata": {},
   "outputs": [
    {
     "data": {
      "text/plain": [
       "0.649508386479237"
      ]
     },
     "execution_count": 35,
     "metadata": {},
     "output_type": "execute_result"
    }
   ],
   "source": [
    "# Calculating mean of the 5-fold cross_val_score\n",
    "cross_val_score(tree_pipe, X_train, y_train, cv=5).mean()"
   ]
  },
  {
   "cell_type": "markdown",
   "metadata": {},
   "source": [
    "### Second Model (Random Forest)\n",
    "\n",
    "Created a Random Forest model with default parameters."
   ]
  },
  {
   "cell_type": "code",
   "execution_count": 36,
   "metadata": {},
   "outputs": [
    {
     "data": {
      "text/html": [
       "<style>#sk-container-id-2 {color: black;}#sk-container-id-2 pre{padding: 0;}#sk-container-id-2 div.sk-toggleable {background-color: white;}#sk-container-id-2 label.sk-toggleable__label {cursor: pointer;display: block;width: 100%;margin-bottom: 0;padding: 0.3em;box-sizing: border-box;text-align: center;}#sk-container-id-2 label.sk-toggleable__label-arrow:before {content: \"▸\";float: left;margin-right: 0.25em;color: #696969;}#sk-container-id-2 label.sk-toggleable__label-arrow:hover:before {color: black;}#sk-container-id-2 div.sk-estimator:hover label.sk-toggleable__label-arrow:before {color: black;}#sk-container-id-2 div.sk-toggleable__content {max-height: 0;max-width: 0;overflow: hidden;text-align: left;background-color: #f0f8ff;}#sk-container-id-2 div.sk-toggleable__content pre {margin: 0.2em;color: black;border-radius: 0.25em;background-color: #f0f8ff;}#sk-container-id-2 input.sk-toggleable__control:checked~div.sk-toggleable__content {max-height: 200px;max-width: 100%;overflow: auto;}#sk-container-id-2 input.sk-toggleable__control:checked~label.sk-toggleable__label-arrow:before {content: \"▾\";}#sk-container-id-2 div.sk-estimator input.sk-toggleable__control:checked~label.sk-toggleable__label {background-color: #d4ebff;}#sk-container-id-2 div.sk-label input.sk-toggleable__control:checked~label.sk-toggleable__label {background-color: #d4ebff;}#sk-container-id-2 input.sk-hidden--visually {border: 0;clip: rect(1px 1px 1px 1px);clip: rect(1px, 1px, 1px, 1px);height: 1px;margin: -1px;overflow: hidden;padding: 0;position: absolute;width: 1px;}#sk-container-id-2 div.sk-estimator {font-family: monospace;background-color: #f0f8ff;border: 1px dotted black;border-radius: 0.25em;box-sizing: border-box;margin-bottom: 0.5em;}#sk-container-id-2 div.sk-estimator:hover {background-color: #d4ebff;}#sk-container-id-2 div.sk-parallel-item::after {content: \"\";width: 100%;border-bottom: 1px solid gray;flex-grow: 1;}#sk-container-id-2 div.sk-label:hover label.sk-toggleable__label {background-color: #d4ebff;}#sk-container-id-2 div.sk-serial::before {content: \"\";position: absolute;border-left: 1px solid gray;box-sizing: border-box;top: 0;bottom: 0;left: 50%;z-index: 0;}#sk-container-id-2 div.sk-serial {display: flex;flex-direction: column;align-items: center;background-color: white;padding-right: 0.2em;padding-left: 0.2em;position: relative;}#sk-container-id-2 div.sk-item {position: relative;z-index: 1;}#sk-container-id-2 div.sk-parallel {display: flex;align-items: stretch;justify-content: center;background-color: white;position: relative;}#sk-container-id-2 div.sk-item::before, #sk-container-id-2 div.sk-parallel-item::before {content: \"\";position: absolute;border-left: 1px solid gray;box-sizing: border-box;top: 0;bottom: 0;left: 50%;z-index: -1;}#sk-container-id-2 div.sk-parallel-item {display: flex;flex-direction: column;z-index: 1;position: relative;background-color: white;}#sk-container-id-2 div.sk-parallel-item:first-child::after {align-self: flex-end;width: 50%;}#sk-container-id-2 div.sk-parallel-item:last-child::after {align-self: flex-start;width: 50%;}#sk-container-id-2 div.sk-parallel-item:only-child::after {width: 0;}#sk-container-id-2 div.sk-dashed-wrapped {border: 1px dashed gray;margin: 0 0.4em 0.5em 0.4em;box-sizing: border-box;padding-bottom: 0.4em;background-color: white;}#sk-container-id-2 div.sk-label label {font-family: monospace;font-weight: bold;display: inline-block;line-height: 1.2em;}#sk-container-id-2 div.sk-label-container {text-align: center;}#sk-container-id-2 div.sk-container {/* jupyter's `normalize.less` sets `[hidden] { display: none; }` but bootstrap.min.css set `[hidden] { display: none !important; }` so we also need the `!important` here to be able to override the default hidden behavior on the sphinx rendered scikit-learn.org. See: https://github.com/scikit-learn/scikit-learn/issues/21755 */display: inline-block !important;position: relative;}#sk-container-id-2 div.sk-text-repr-fallback {display: none;}</style><div id=\"sk-container-id-2\" class=\"sk-top-container\"><div class=\"sk-text-repr-fallback\"><pre>Pipeline(steps=[(&#x27;cv&#x27;, CountVectorizer(stop_words=&#x27;english&#x27;)),\n",
       "                (&#x27;forest&#x27;, RandomForestClassifier(random_state=333))])</pre><b>In a Jupyter environment, please rerun this cell to show the HTML representation or trust the notebook. <br />On GitHub, the HTML representation is unable to render, please try loading this page with nbviewer.org.</b></div><div class=\"sk-container\" hidden><div class=\"sk-item sk-dashed-wrapped\"><div class=\"sk-label-container\"><div class=\"sk-label sk-toggleable\"><input class=\"sk-toggleable__control sk-hidden--visually\" id=\"sk-estimator-id-4\" type=\"checkbox\" ><label for=\"sk-estimator-id-4\" class=\"sk-toggleable__label sk-toggleable__label-arrow\">Pipeline</label><div class=\"sk-toggleable__content\"><pre>Pipeline(steps=[(&#x27;cv&#x27;, CountVectorizer(stop_words=&#x27;english&#x27;)),\n",
       "                (&#x27;forest&#x27;, RandomForestClassifier(random_state=333))])</pre></div></div></div><div class=\"sk-serial\"><div class=\"sk-item\"><div class=\"sk-estimator sk-toggleable\"><input class=\"sk-toggleable__control sk-hidden--visually\" id=\"sk-estimator-id-5\" type=\"checkbox\" ><label for=\"sk-estimator-id-5\" class=\"sk-toggleable__label sk-toggleable__label-arrow\">CountVectorizer</label><div class=\"sk-toggleable__content\"><pre>CountVectorizer(stop_words=&#x27;english&#x27;)</pre></div></div></div><div class=\"sk-item\"><div class=\"sk-estimator sk-toggleable\"><input class=\"sk-toggleable__control sk-hidden--visually\" id=\"sk-estimator-id-6\" type=\"checkbox\" ><label for=\"sk-estimator-id-6\" class=\"sk-toggleable__label sk-toggleable__label-arrow\">RandomForestClassifier</label><div class=\"sk-toggleable__content\"><pre>RandomForestClassifier(random_state=333)</pre></div></div></div></div></div></div></div>"
      ],
      "text/plain": [
       "Pipeline(steps=[('cv', CountVectorizer(stop_words='english')),\n",
       "                ('forest', RandomForestClassifier(random_state=333))])"
      ]
     },
     "execution_count": 36,
     "metadata": {},
     "output_type": "execute_result"
    }
   ],
   "source": [
    "# Creating steps for a Pipeline \n",
    "forest_steps = [('cv', CountVectorizer(stop_words='english')),\n",
    "         ('forest', RandomForestClassifier(random_state=333))]\n",
    "# Feeding the Pipeline the steps defined above\n",
    "forest_pipe = Pipeline(forest_steps)\n",
    "# Fitting the training data to the Pipeline\n",
    "forest_pipe.fit(X_train, y_train)"
   ]
  },
  {
   "cell_type": "markdown",
   "metadata": {},
   "source": [
    "Again, this random forest model earned a high accuracy score on the training data but it is most likely due to overfitting."
   ]
  },
  {
   "cell_type": "code",
   "execution_count": 37,
   "metadata": {},
   "outputs": [
    {
     "data": {
      "text/plain": [
       "0.9571769621008654"
      ]
     },
     "execution_count": 37,
     "metadata": {},
     "output_type": "execute_result"
    }
   ],
   "source": [
    "# Defining the predictions from the Pipeline using the training data\n",
    "y_pred = forest_pipe.predict(X_train)\n",
    "# Evaluating the accuracy score on the training data\n",
    "accuracy_score(y_train, y_pred)"
   ]
  },
  {
   "cell_type": "markdown",
   "metadata": {},
   "source": [
    "The cross validation score is a bit higher than it was for the decision tree model. This random forest model is still very overfit to the training data."
   ]
  },
  {
   "cell_type": "code",
   "execution_count": 38,
   "metadata": {},
   "outputs": [
    {
     "data": {
      "text/plain": [
       "0.6809913519650073"
      ]
     },
     "execution_count": 38,
     "metadata": {},
     "output_type": "execute_result"
    }
   ],
   "source": [
    "# Calculating mean of the 5-fold cross_val_score\n",
    "cross_val_score(forest_pipe, X_train, y_train, cv=5).mean()"
   ]
  },
  {
   "cell_type": "markdown",
   "metadata": {},
   "source": [
    "### Random Forest with GridSearch\n",
    "\n",
    "In order to combat the overfit results we used a GridSearch to help tune the hyperparameters."
   ]
  },
  {
   "cell_type": "code",
   "execution_count": 39,
   "metadata": {},
   "outputs": [
    {
     "data": {
      "text/html": [
       "<style>#sk-container-id-3 {color: black;}#sk-container-id-3 pre{padding: 0;}#sk-container-id-3 div.sk-toggleable {background-color: white;}#sk-container-id-3 label.sk-toggleable__label {cursor: pointer;display: block;width: 100%;margin-bottom: 0;padding: 0.3em;box-sizing: border-box;text-align: center;}#sk-container-id-3 label.sk-toggleable__label-arrow:before {content: \"▸\";float: left;margin-right: 0.25em;color: #696969;}#sk-container-id-3 label.sk-toggleable__label-arrow:hover:before {color: black;}#sk-container-id-3 div.sk-estimator:hover label.sk-toggleable__label-arrow:before {color: black;}#sk-container-id-3 div.sk-toggleable__content {max-height: 0;max-width: 0;overflow: hidden;text-align: left;background-color: #f0f8ff;}#sk-container-id-3 div.sk-toggleable__content pre {margin: 0.2em;color: black;border-radius: 0.25em;background-color: #f0f8ff;}#sk-container-id-3 input.sk-toggleable__control:checked~div.sk-toggleable__content {max-height: 200px;max-width: 100%;overflow: auto;}#sk-container-id-3 input.sk-toggleable__control:checked~label.sk-toggleable__label-arrow:before {content: \"▾\";}#sk-container-id-3 div.sk-estimator input.sk-toggleable__control:checked~label.sk-toggleable__label {background-color: #d4ebff;}#sk-container-id-3 div.sk-label input.sk-toggleable__control:checked~label.sk-toggleable__label {background-color: #d4ebff;}#sk-container-id-3 input.sk-hidden--visually {border: 0;clip: rect(1px 1px 1px 1px);clip: rect(1px, 1px, 1px, 1px);height: 1px;margin: -1px;overflow: hidden;padding: 0;position: absolute;width: 1px;}#sk-container-id-3 div.sk-estimator {font-family: monospace;background-color: #f0f8ff;border: 1px dotted black;border-radius: 0.25em;box-sizing: border-box;margin-bottom: 0.5em;}#sk-container-id-3 div.sk-estimator:hover {background-color: #d4ebff;}#sk-container-id-3 div.sk-parallel-item::after {content: \"\";width: 100%;border-bottom: 1px solid gray;flex-grow: 1;}#sk-container-id-3 div.sk-label:hover label.sk-toggleable__label {background-color: #d4ebff;}#sk-container-id-3 div.sk-serial::before {content: \"\";position: absolute;border-left: 1px solid gray;box-sizing: border-box;top: 0;bottom: 0;left: 50%;z-index: 0;}#sk-container-id-3 div.sk-serial {display: flex;flex-direction: column;align-items: center;background-color: white;padding-right: 0.2em;padding-left: 0.2em;position: relative;}#sk-container-id-3 div.sk-item {position: relative;z-index: 1;}#sk-container-id-3 div.sk-parallel {display: flex;align-items: stretch;justify-content: center;background-color: white;position: relative;}#sk-container-id-3 div.sk-item::before, #sk-container-id-3 div.sk-parallel-item::before {content: \"\";position: absolute;border-left: 1px solid gray;box-sizing: border-box;top: 0;bottom: 0;left: 50%;z-index: -1;}#sk-container-id-3 div.sk-parallel-item {display: flex;flex-direction: column;z-index: 1;position: relative;background-color: white;}#sk-container-id-3 div.sk-parallel-item:first-child::after {align-self: flex-end;width: 50%;}#sk-container-id-3 div.sk-parallel-item:last-child::after {align-self: flex-start;width: 50%;}#sk-container-id-3 div.sk-parallel-item:only-child::after {width: 0;}#sk-container-id-3 div.sk-dashed-wrapped {border: 1px dashed gray;margin: 0 0.4em 0.5em 0.4em;box-sizing: border-box;padding-bottom: 0.4em;background-color: white;}#sk-container-id-3 div.sk-label label {font-family: monospace;font-weight: bold;display: inline-block;line-height: 1.2em;}#sk-container-id-3 div.sk-label-container {text-align: center;}#sk-container-id-3 div.sk-container {/* jupyter's `normalize.less` sets `[hidden] { display: none; }` but bootstrap.min.css set `[hidden] { display: none !important; }` so we also need the `!important` here to be able to override the default hidden behavior on the sphinx rendered scikit-learn.org. See: https://github.com/scikit-learn/scikit-learn/issues/21755 */display: inline-block !important;position: relative;}#sk-container-id-3 div.sk-text-repr-fallback {display: none;}</style><div id=\"sk-container-id-3\" class=\"sk-top-container\"><div class=\"sk-text-repr-fallback\"><pre>GridSearchCV(cv=5,\n",
       "             estimator=Pipeline(steps=[(&#x27;cv&#x27;,\n",
       "                                        CountVectorizer(stop_words=&#x27;english&#x27;)),\n",
       "                                       (&#x27;forest&#x27;,\n",
       "                                        RandomForestClassifier(random_state=333))]),\n",
       "             param_grid={&#x27;forest__max_depth&#x27;: [10, 100, None],\n",
       "                         &#x27;forest__max_features&#x27;: [5, 50],\n",
       "                         &#x27;forest__n_estimators&#x27;: [5, 10]},\n",
       "             scoring=&#x27;accuracy&#x27;)</pre><b>In a Jupyter environment, please rerun this cell to show the HTML representation or trust the notebook. <br />On GitHub, the HTML representation is unable to render, please try loading this page with nbviewer.org.</b></div><div class=\"sk-container\" hidden><div class=\"sk-item sk-dashed-wrapped\"><div class=\"sk-label-container\"><div class=\"sk-label sk-toggleable\"><input class=\"sk-toggleable__control sk-hidden--visually\" id=\"sk-estimator-id-7\" type=\"checkbox\" ><label for=\"sk-estimator-id-7\" class=\"sk-toggleable__label sk-toggleable__label-arrow\">GridSearchCV</label><div class=\"sk-toggleable__content\"><pre>GridSearchCV(cv=5,\n",
       "             estimator=Pipeline(steps=[(&#x27;cv&#x27;,\n",
       "                                        CountVectorizer(stop_words=&#x27;english&#x27;)),\n",
       "                                       (&#x27;forest&#x27;,\n",
       "                                        RandomForestClassifier(random_state=333))]),\n",
       "             param_grid={&#x27;forest__max_depth&#x27;: [10, 100, None],\n",
       "                         &#x27;forest__max_features&#x27;: [5, 50],\n",
       "                         &#x27;forest__n_estimators&#x27;: [5, 10]},\n",
       "             scoring=&#x27;accuracy&#x27;)</pre></div></div></div><div class=\"sk-parallel\"><div class=\"sk-parallel-item\"><div class=\"sk-item\"><div class=\"sk-label-container\"><div class=\"sk-label sk-toggleable\"><input class=\"sk-toggleable__control sk-hidden--visually\" id=\"sk-estimator-id-8\" type=\"checkbox\" ><label for=\"sk-estimator-id-8\" class=\"sk-toggleable__label sk-toggleable__label-arrow\">estimator: Pipeline</label><div class=\"sk-toggleable__content\"><pre>Pipeline(steps=[(&#x27;cv&#x27;, CountVectorizer(stop_words=&#x27;english&#x27;)),\n",
       "                (&#x27;forest&#x27;, RandomForestClassifier(random_state=333))])</pre></div></div></div><div class=\"sk-serial\"><div class=\"sk-item\"><div class=\"sk-serial\"><div class=\"sk-item\"><div class=\"sk-estimator sk-toggleable\"><input class=\"sk-toggleable__control sk-hidden--visually\" id=\"sk-estimator-id-9\" type=\"checkbox\" ><label for=\"sk-estimator-id-9\" class=\"sk-toggleable__label sk-toggleable__label-arrow\">CountVectorizer</label><div class=\"sk-toggleable__content\"><pre>CountVectorizer(stop_words=&#x27;english&#x27;)</pre></div></div></div><div class=\"sk-item\"><div class=\"sk-estimator sk-toggleable\"><input class=\"sk-toggleable__control sk-hidden--visually\" id=\"sk-estimator-id-10\" type=\"checkbox\" ><label for=\"sk-estimator-id-10\" class=\"sk-toggleable__label sk-toggleable__label-arrow\">RandomForestClassifier</label><div class=\"sk-toggleable__content\"><pre>RandomForestClassifier(random_state=333)</pre></div></div></div></div></div></div></div></div></div></div></div></div>"
      ],
      "text/plain": [
       "GridSearchCV(cv=5,\n",
       "             estimator=Pipeline(steps=[('cv',\n",
       "                                        CountVectorizer(stop_words='english')),\n",
       "                                       ('forest',\n",
       "                                        RandomForestClassifier(random_state=333))]),\n",
       "             param_grid={'forest__max_depth': [10, 100, None],\n",
       "                         'forest__max_features': [5, 50],\n",
       "                         'forest__n_estimators': [5, 10]},\n",
       "             scoring='accuracy')"
      ]
     },
     "execution_count": 39,
     "metadata": {},
     "output_type": "execute_result"
    }
   ],
   "source": [
    "# Creating parameters for GridSearch\n",
    "params = {'forest__max_depth': [10, 100, None],\n",
    "         'forest__max_features': [5, 50],\n",
    "         'forest__n_estimators': [5, 10]}\n",
    "# GridSearch with the random forest pipeline, parameters above, 5 fold cross validation, and accuracy score\n",
    "forest_grid = GridSearchCV(estimator=forest_pipe, param_grid=params, cv=5, scoring='accuracy')\n",
    "# Fitting the GridSearch\n",
    "forest_grid.fit(X_train, y_train)"
   ]
  },
  {
   "cell_type": "markdown",
   "metadata": {},
   "source": [
    "The GridSearch discovered max_depth=None, max_features=5, and n_estimators=10 had the best cross validation score. This is a worse score than the random forest model with default parameters."
   ]
  },
  {
   "cell_type": "code",
   "execution_count": 40,
   "metadata": {},
   "outputs": [
    {
     "name": "stdout",
     "output_type": "stream",
     "text": [
      "Pipeline(steps=[('cv', CountVectorizer(stop_words='english')),\n",
      "                ('forest',\n",
      "                 RandomForestClassifier(max_features=5, n_estimators=10,\n",
      "                                        random_state=333))])\n",
      "0.667711331485748\n"
     ]
    }
   ],
   "source": [
    "# Displaying the best estimator from the GridSearch and the accuracy score\n",
    "print(forest_grid.best_estimator_)\n",
    "print(forest_grid.best_score_)"
   ]
  },
  {
   "cell_type": "markdown",
   "metadata": {},
   "source": [
    "### Updated Params (1st time)\n",
    "\n",
    "Tried to improve results with new GridSearch."
   ]
  },
  {
   "cell_type": "code",
   "execution_count": 42,
   "metadata": {},
   "outputs": [
    {
     "name": "stdout",
     "output_type": "stream",
     "text": [
      "Fitting 5 folds for each of 27 candidates, totalling 135 fits\n",
      "[CV 1/5] END forest__max_depth=100, forest__max_features=50, forest__n_estimators=10;, score=0.654 total time=   1.6s\n",
      "[CV 2/5] END forest__max_depth=100, forest__max_features=50, forest__n_estimators=10;, score=0.657 total time=   1.5s\n",
      "[CV 3/5] END forest__max_depth=100, forest__max_features=50, forest__n_estimators=10;, score=0.661 total time=   1.5s\n",
      "[CV 4/5] END forest__max_depth=100, forest__max_features=50, forest__n_estimators=10;, score=0.682 total time=   1.5s\n",
      "[CV 5/5] END forest__max_depth=100, forest__max_features=50, forest__n_estimators=10;, score=0.663 total time=   1.5s\n",
      "[CV 1/5] END forest__max_depth=100, forest__max_features=50, forest__n_estimators=20;, score=0.677 total time=   3.3s\n",
      "[CV 2/5] END forest__max_depth=100, forest__max_features=50, forest__n_estimators=20;, score=0.671 total time=   3.0s\n",
      "[CV 3/5] END forest__max_depth=100, forest__max_features=50, forest__n_estimators=20;, score=0.672 total time=   3.0s\n",
      "[CV 4/5] END forest__max_depth=100, forest__max_features=50, forest__n_estimators=20;, score=0.687 total time=   3.1s\n",
      "[CV 5/5] END forest__max_depth=100, forest__max_features=50, forest__n_estimators=20;, score=0.676 total time=   3.2s\n",
      "[CV 1/5] END forest__max_depth=100, forest__max_features=50, forest__n_estimators=30;, score=0.680 total time=   4.9s\n",
      "[CV 2/5] END forest__max_depth=100, forest__max_features=50, forest__n_estimators=30;, score=0.673 total time=   4.8s\n",
      "[CV 3/5] END forest__max_depth=100, forest__max_features=50, forest__n_estimators=30;, score=0.670 total time=   4.5s\n",
      "[CV 4/5] END forest__max_depth=100, forest__max_features=50, forest__n_estimators=30;, score=0.688 total time=   4.8s\n",
      "[CV 5/5] END forest__max_depth=100, forest__max_features=50, forest__n_estimators=30;, score=0.684 total time=   4.7s\n",
      "[CV 1/5] END forest__max_depth=100, forest__max_features=75, forest__n_estimators=10;, score=0.666 total time=   1.6s\n",
      "[CV 2/5] END forest__max_depth=100, forest__max_features=75, forest__n_estimators=10;, score=0.685 total time=   1.6s\n",
      "[CV 3/5] END forest__max_depth=100, forest__max_features=75, forest__n_estimators=10;, score=0.672 total time=   1.6s\n",
      "[CV 4/5] END forest__max_depth=100, forest__max_features=75, forest__n_estimators=10;, score=0.660 total time=   1.7s\n",
      "[CV 5/5] END forest__max_depth=100, forest__max_features=75, forest__n_estimators=10;, score=0.669 total time=   1.5s\n",
      "[CV 1/5] END forest__max_depth=100, forest__max_features=75, forest__n_estimators=20;, score=0.678 total time=   3.3s\n",
      "[CV 2/5] END forest__max_depth=100, forest__max_features=75, forest__n_estimators=20;, score=0.694 total time=   3.2s\n",
      "[CV 3/5] END forest__max_depth=100, forest__max_features=75, forest__n_estimators=20;, score=0.669 total time=   3.1s\n",
      "[CV 4/5] END forest__max_depth=100, forest__max_features=75, forest__n_estimators=20;, score=0.675 total time=   3.3s\n",
      "[CV 5/5] END forest__max_depth=100, forest__max_features=75, forest__n_estimators=20;, score=0.675 total time=   3.1s\n",
      "[CV 1/5] END forest__max_depth=100, forest__max_features=75, forest__n_estimators=30;, score=0.679 total time=   5.1s\n",
      "[CV 2/5] END forest__max_depth=100, forest__max_features=75, forest__n_estimators=30;, score=0.685 total time=   4.8s\n",
      "[CV 3/5] END forest__max_depth=100, forest__max_features=75, forest__n_estimators=30;, score=0.669 total time=   4.7s\n",
      "[CV 4/5] END forest__max_depth=100, forest__max_features=75, forest__n_estimators=30;, score=0.679 total time=   5.0s\n",
      "[CV 5/5] END forest__max_depth=100, forest__max_features=75, forest__n_estimators=30;, score=0.676 total time=   4.8s\n",
      "[CV 1/5] END forest__max_depth=100, forest__max_features=100, forest__n_estimators=10;, score=0.668 total time=   1.6s\n",
      "[CV 2/5] END forest__max_depth=100, forest__max_features=100, forest__n_estimators=10;, score=0.694 total time=   1.5s\n",
      "[CV 3/5] END forest__max_depth=100, forest__max_features=100, forest__n_estimators=10;, score=0.666 total time=   1.7s\n",
      "[CV 4/5] END forest__max_depth=100, forest__max_features=100, forest__n_estimators=10;, score=0.681 total time=   1.6s\n",
      "[CV 5/5] END forest__max_depth=100, forest__max_features=100, forest__n_estimators=10;, score=0.675 total time=   1.5s\n",
      "[CV 1/5] END forest__max_depth=100, forest__max_features=100, forest__n_estimators=20;, score=0.676 total time=   3.3s\n",
      "[CV 2/5] END forest__max_depth=100, forest__max_features=100, forest__n_estimators=20;, score=0.679 total time=   3.2s\n",
      "[CV 3/5] END forest__max_depth=100, forest__max_features=100, forest__n_estimators=20;, score=0.661 total time=   3.5s\n",
      "[CV 4/5] END forest__max_depth=100, forest__max_features=100, forest__n_estimators=20;, score=0.687 total time=   3.4s\n",
      "[CV 5/5] END forest__max_depth=100, forest__max_features=100, forest__n_estimators=20;, score=0.678 total time=   3.2s\n",
      "[CV 1/5] END forest__max_depth=100, forest__max_features=100, forest__n_estimators=30;, score=0.674 total time=   5.1s\n",
      "[CV 2/5] END forest__max_depth=100, forest__max_features=100, forest__n_estimators=30;, score=0.690 total time=   4.9s\n",
      "[CV 3/5] END forest__max_depth=100, forest__max_features=100, forest__n_estimators=30;, score=0.661 total time=   5.0s\n",
      "[CV 4/5] END forest__max_depth=100, forest__max_features=100, forest__n_estimators=30;, score=0.690 total time=   5.1s\n",
      "[CV 5/5] END forest__max_depth=100, forest__max_features=100, forest__n_estimators=30;, score=0.684 total time=   4.8s\n",
      "[CV 1/5] END forest__max_depth=300, forest__max_features=50, forest__n_estimators=10;, score=0.664 total time=   2.9s\n",
      "[CV 2/5] END forest__max_depth=300, forest__max_features=50, forest__n_estimators=10;, score=0.685 total time=   2.9s\n",
      "[CV 3/5] END forest__max_depth=300, forest__max_features=50, forest__n_estimators=10;, score=0.658 total time=   2.8s\n",
      "[CV 4/5] END forest__max_depth=300, forest__max_features=50, forest__n_estimators=10;, score=0.679 total time=   2.8s\n",
      "[CV 5/5] END forest__max_depth=300, forest__max_features=50, forest__n_estimators=10;, score=0.672 total time=   2.8s\n",
      "[CV 1/5] END forest__max_depth=300, forest__max_features=50, forest__n_estimators=20;, score=0.670 total time=   5.9s\n",
      "[CV 2/5] END forest__max_depth=300, forest__max_features=50, forest__n_estimators=20;, score=0.688 total time=   6.0s\n",
      "[CV 3/5] END forest__max_depth=300, forest__max_features=50, forest__n_estimators=20;, score=0.676 total time=   5.7s\n",
      "[CV 4/5] END forest__max_depth=300, forest__max_features=50, forest__n_estimators=20;, score=0.688 total time=   5.8s\n",
      "[CV 5/5] END forest__max_depth=300, forest__max_features=50, forest__n_estimators=20;, score=0.696 total time=   5.6s\n",
      "[CV 1/5] END forest__max_depth=300, forest__max_features=50, forest__n_estimators=30;, score=0.670 total time=   8.9s\n",
      "[CV 2/5] END forest__max_depth=300, forest__max_features=50, forest__n_estimators=30;, score=0.693 total time=   8.9s\n",
      "[CV 3/5] END forest__max_depth=300, forest__max_features=50, forest__n_estimators=30;, score=0.681 total time=   8.4s\n",
      "[CV 4/5] END forest__max_depth=300, forest__max_features=50, forest__n_estimators=30;, score=0.687 total time=   9.0s\n",
      "[CV 5/5] END forest__max_depth=300, forest__max_features=50, forest__n_estimators=30;, score=0.690 total time=   8.7s\n",
      "[CV 1/5] END forest__max_depth=300, forest__max_features=75, forest__n_estimators=10;, score=0.663 total time=   2.8s\n",
      "[CV 2/5] END forest__max_depth=300, forest__max_features=75, forest__n_estimators=10;, score=0.691 total time=   2.8s\n",
      "[CV 3/5] END forest__max_depth=300, forest__max_features=75, forest__n_estimators=10;, score=0.672 total time=   2.7s\n",
      "[CV 4/5] END forest__max_depth=300, forest__max_features=75, forest__n_estimators=10;, score=0.678 total time=   2.9s\n",
      "[CV 5/5] END forest__max_depth=300, forest__max_features=75, forest__n_estimators=10;, score=0.681 total time=   2.7s\n",
      "[CV 1/5] END forest__max_depth=300, forest__max_features=75, forest__n_estimators=20;, score=0.671 total time=   5.8s\n",
      "[CV 2/5] END forest__max_depth=300, forest__max_features=75, forest__n_estimators=20;, score=0.699 total time=   5.6s\n",
      "[CV 3/5] END forest__max_depth=300, forest__max_features=75, forest__n_estimators=20;, score=0.672 total time=   5.5s\n",
      "[CV 4/5] END forest__max_depth=300, forest__max_features=75, forest__n_estimators=20;, score=0.691 total time=   5.7s\n"
     ]
    },
    {
     "name": "stdout",
     "output_type": "stream",
     "text": [
      "[CV 5/5] END forest__max_depth=300, forest__max_features=75, forest__n_estimators=20;, score=0.690 total time=   5.5s\n",
      "[CV 1/5] END forest__max_depth=300, forest__max_features=75, forest__n_estimators=30;, score=0.671 total time=   8.5s\n",
      "[CV 2/5] END forest__max_depth=300, forest__max_features=75, forest__n_estimators=30;, score=0.698 total time=   8.6s\n",
      "[CV 3/5] END forest__max_depth=300, forest__max_features=75, forest__n_estimators=30;, score=0.669 total time=   8.1s\n",
      "[CV 4/5] END forest__max_depth=300, forest__max_features=75, forest__n_estimators=30;, score=0.685 total time=   8.7s\n",
      "[CV 5/5] END forest__max_depth=300, forest__max_features=75, forest__n_estimators=30;, score=0.687 total time=   8.4s\n",
      "[CV 1/5] END forest__max_depth=300, forest__max_features=100, forest__n_estimators=10;, score=0.670 total time=   2.7s\n",
      "[CV 2/5] END forest__max_depth=300, forest__max_features=100, forest__n_estimators=10;, score=0.678 total time=   2.6s\n",
      "[CV 3/5] END forest__max_depth=300, forest__max_features=100, forest__n_estimators=10;, score=0.674 total time=   2.8s\n",
      "[CV 4/5] END forest__max_depth=300, forest__max_features=100, forest__n_estimators=10;, score=0.676 total time=   2.7s\n",
      "[CV 5/5] END forest__max_depth=300, forest__max_features=100, forest__n_estimators=10;, score=0.687 total time=   2.6s\n",
      "[CV 1/5] END forest__max_depth=300, forest__max_features=100, forest__n_estimators=20;, score=0.673 total time=   5.6s\n",
      "[CV 2/5] END forest__max_depth=300, forest__max_features=100, forest__n_estimators=20;, score=0.680 total time=   5.6s\n",
      "[CV 3/5] END forest__max_depth=300, forest__max_features=100, forest__n_estimators=20;, score=0.679 total time=   5.6s\n",
      "[CV 4/5] END forest__max_depth=300, forest__max_features=100, forest__n_estimators=20;, score=0.683 total time=   5.5s\n",
      "[CV 5/5] END forest__max_depth=300, forest__max_features=100, forest__n_estimators=20;, score=0.689 total time=   5.4s\n",
      "[CV 1/5] END forest__max_depth=300, forest__max_features=100, forest__n_estimators=30;, score=0.669 total time=   8.4s\n",
      "[CV 2/5] END forest__max_depth=300, forest__max_features=100, forest__n_estimators=30;, score=0.686 total time=   8.4s\n",
      "[CV 3/5] END forest__max_depth=300, forest__max_features=100, forest__n_estimators=30;, score=0.676 total time=   8.2s\n",
      "[CV 4/5] END forest__max_depth=300, forest__max_features=100, forest__n_estimators=30;, score=0.694 total time=   8.3s\n",
      "[CV 5/5] END forest__max_depth=300, forest__max_features=100, forest__n_estimators=30;, score=0.689 total time=   8.2s\n",
      "[CV 1/5] END forest__max_depth=None, forest__max_features=50, forest__n_estimators=10;, score=0.670 total time=   3.8s\n",
      "[CV 2/5] END forest__max_depth=None, forest__max_features=50, forest__n_estimators=10;, score=0.673 total time=   3.9s\n",
      "[CV 3/5] END forest__max_depth=None, forest__max_features=50, forest__n_estimators=10;, score=0.651 total time=   3.7s\n",
      "[CV 4/5] END forest__max_depth=None, forest__max_features=50, forest__n_estimators=10;, score=0.669 total time=   3.8s\n",
      "[CV 5/5] END forest__max_depth=None, forest__max_features=50, forest__n_estimators=10;, score=0.674 total time=   3.7s\n",
      "[CV 1/5] END forest__max_depth=None, forest__max_features=50, forest__n_estimators=20;, score=0.658 total time=   7.7s\n",
      "[CV 2/5] END forest__max_depth=None, forest__max_features=50, forest__n_estimators=20;, score=0.680 total time=   7.7s\n",
      "[CV 3/5] END forest__max_depth=None, forest__max_features=50, forest__n_estimators=20;, score=0.666 total time=   7.5s\n",
      "[CV 4/5] END forest__max_depth=None, forest__max_features=50, forest__n_estimators=20;, score=0.681 total time=   7.7s\n",
      "[CV 5/5] END forest__max_depth=None, forest__max_features=50, forest__n_estimators=20;, score=0.686 total time=   7.6s\n",
      "[CV 1/5] END forest__max_depth=None, forest__max_features=50, forest__n_estimators=30;, score=0.673 total time=  11.5s\n",
      "[CV 2/5] END forest__max_depth=None, forest__max_features=50, forest__n_estimators=30;, score=0.685 total time=  11.8s\n",
      "[CV 3/5] END forest__max_depth=None, forest__max_features=50, forest__n_estimators=30;, score=0.659 total time=  11.2s\n",
      "[CV 4/5] END forest__max_depth=None, forest__max_features=50, forest__n_estimators=30;, score=0.690 total time=  11.6s\n",
      "[CV 5/5] END forest__max_depth=None, forest__max_features=50, forest__n_estimators=30;, score=0.684 total time=  11.5s\n",
      "[CV 1/5] END forest__max_depth=None, forest__max_features=75, forest__n_estimators=10;, score=0.658 total time=   3.6s\n",
      "[CV 2/5] END forest__max_depth=None, forest__max_features=75, forest__n_estimators=10;, score=0.674 total time=   3.6s\n",
      "[CV 3/5] END forest__max_depth=None, forest__max_features=75, forest__n_estimators=10;, score=0.670 total time=   3.7s\n",
      "[CV 4/5] END forest__max_depth=None, forest__max_features=75, forest__n_estimators=10;, score=0.684 total time=   3.7s\n",
      "[CV 5/5] END forest__max_depth=None, forest__max_features=75, forest__n_estimators=10;, score=0.667 total time=   3.7s\n",
      "[CV 1/5] END forest__max_depth=None, forest__max_features=75, forest__n_estimators=20;, score=0.669 total time=   7.3s\n",
      "[CV 2/5] END forest__max_depth=None, forest__max_features=75, forest__n_estimators=20;, score=0.681 total time=   7.4s\n",
      "[CV 3/5] END forest__max_depth=None, forest__max_features=75, forest__n_estimators=20;, score=0.675 total time=   7.3s\n",
      "[CV 4/5] END forest__max_depth=None, forest__max_features=75, forest__n_estimators=20;, score=0.684 total time=   7.6s\n",
      "[CV 5/5] END forest__max_depth=None, forest__max_features=75, forest__n_estimators=20;, score=0.679 total time=   7.3s\n",
      "[CV 1/5] END forest__max_depth=None, forest__max_features=75, forest__n_estimators=30;, score=0.667 total time=  11.0s\n",
      "[CV 2/5] END forest__max_depth=None, forest__max_features=75, forest__n_estimators=30;, score=0.683 total time=  11.3s\n",
      "[CV 3/5] END forest__max_depth=None, forest__max_features=75, forest__n_estimators=30;, score=0.674 total time=  11.0s\n",
      "[CV 4/5] END forest__max_depth=None, forest__max_features=75, forest__n_estimators=30;, score=0.689 total time=  11.2s\n",
      "[CV 5/5] END forest__max_depth=None, forest__max_features=75, forest__n_estimators=30;, score=0.682 total time=  11.0s\n",
      "[CV 1/5] END forest__max_depth=None, forest__max_features=100, forest__n_estimators=10;, score=0.668 total time=   3.6s\n",
      "[CV 2/5] END forest__max_depth=None, forest__max_features=100, forest__n_estimators=10;, score=0.679 total time=   3.6s\n",
      "[CV 3/5] END forest__max_depth=None, forest__max_features=100, forest__n_estimators=10;, score=0.669 total time=   3.6s\n",
      "[CV 4/5] END forest__max_depth=None, forest__max_features=100, forest__n_estimators=10;, score=0.664 total time=   3.6s\n",
      "[CV 5/5] END forest__max_depth=None, forest__max_features=100, forest__n_estimators=10;, score=0.672 total time=   3.6s\n",
      "[CV 1/5] END forest__max_depth=None, forest__max_features=100, forest__n_estimators=20;, score=0.672 total time=   7.2s\n",
      "[CV 2/5] END forest__max_depth=None, forest__max_features=100, forest__n_estimators=20;, score=0.679 total time=   7.3s\n",
      "[CV 3/5] END forest__max_depth=None, forest__max_features=100, forest__n_estimators=20;, score=0.663 total time=   7.1s\n",
      "[CV 4/5] END forest__max_depth=None, forest__max_features=100, forest__n_estimators=20;, score=0.680 total time=   7.2s\n",
      "[CV 5/5] END forest__max_depth=None, forest__max_features=100, forest__n_estimators=20;, score=0.675 total time=   7.3s\n",
      "[CV 1/5] END forest__max_depth=None, forest__max_features=100, forest__n_estimators=30;, score=0.670 total time=  10.8s\n",
      "[CV 2/5] END forest__max_depth=None, forest__max_features=100, forest__n_estimators=30;, score=0.679 total time=  11.0s\n",
      "[CV 3/5] END forest__max_depth=None, forest__max_features=100, forest__n_estimators=30;, score=0.669 total time=  10.6s\n",
      "[CV 4/5] END forest__max_depth=None, forest__max_features=100, forest__n_estimators=30;, score=0.680 total time=  10.9s\n",
      "[CV 5/5] END forest__max_depth=None, forest__max_features=100, forest__n_estimators=30;, score=0.681 total time=  10.9s\n"
     ]
    },
    {
     "data": {
      "text/html": [
       "<style>#sk-container-id-4 {color: black;}#sk-container-id-4 pre{padding: 0;}#sk-container-id-4 div.sk-toggleable {background-color: white;}#sk-container-id-4 label.sk-toggleable__label {cursor: pointer;display: block;width: 100%;margin-bottom: 0;padding: 0.3em;box-sizing: border-box;text-align: center;}#sk-container-id-4 label.sk-toggleable__label-arrow:before {content: \"▸\";float: left;margin-right: 0.25em;color: #696969;}#sk-container-id-4 label.sk-toggleable__label-arrow:hover:before {color: black;}#sk-container-id-4 div.sk-estimator:hover label.sk-toggleable__label-arrow:before {color: black;}#sk-container-id-4 div.sk-toggleable__content {max-height: 0;max-width: 0;overflow: hidden;text-align: left;background-color: #f0f8ff;}#sk-container-id-4 div.sk-toggleable__content pre {margin: 0.2em;color: black;border-radius: 0.25em;background-color: #f0f8ff;}#sk-container-id-4 input.sk-toggleable__control:checked~div.sk-toggleable__content {max-height: 200px;max-width: 100%;overflow: auto;}#sk-container-id-4 input.sk-toggleable__control:checked~label.sk-toggleable__label-arrow:before {content: \"▾\";}#sk-container-id-4 div.sk-estimator input.sk-toggleable__control:checked~label.sk-toggleable__label {background-color: #d4ebff;}#sk-container-id-4 div.sk-label input.sk-toggleable__control:checked~label.sk-toggleable__label {background-color: #d4ebff;}#sk-container-id-4 input.sk-hidden--visually {border: 0;clip: rect(1px 1px 1px 1px);clip: rect(1px, 1px, 1px, 1px);height: 1px;margin: -1px;overflow: hidden;padding: 0;position: absolute;width: 1px;}#sk-container-id-4 div.sk-estimator {font-family: monospace;background-color: #f0f8ff;border: 1px dotted black;border-radius: 0.25em;box-sizing: border-box;margin-bottom: 0.5em;}#sk-container-id-4 div.sk-estimator:hover {background-color: #d4ebff;}#sk-container-id-4 div.sk-parallel-item::after {content: \"\";width: 100%;border-bottom: 1px solid gray;flex-grow: 1;}#sk-container-id-4 div.sk-label:hover label.sk-toggleable__label {background-color: #d4ebff;}#sk-container-id-4 div.sk-serial::before {content: \"\";position: absolute;border-left: 1px solid gray;box-sizing: border-box;top: 0;bottom: 0;left: 50%;z-index: 0;}#sk-container-id-4 div.sk-serial {display: flex;flex-direction: column;align-items: center;background-color: white;padding-right: 0.2em;padding-left: 0.2em;position: relative;}#sk-container-id-4 div.sk-item {position: relative;z-index: 1;}#sk-container-id-4 div.sk-parallel {display: flex;align-items: stretch;justify-content: center;background-color: white;position: relative;}#sk-container-id-4 div.sk-item::before, #sk-container-id-4 div.sk-parallel-item::before {content: \"\";position: absolute;border-left: 1px solid gray;box-sizing: border-box;top: 0;bottom: 0;left: 50%;z-index: -1;}#sk-container-id-4 div.sk-parallel-item {display: flex;flex-direction: column;z-index: 1;position: relative;background-color: white;}#sk-container-id-4 div.sk-parallel-item:first-child::after {align-self: flex-end;width: 50%;}#sk-container-id-4 div.sk-parallel-item:last-child::after {align-self: flex-start;width: 50%;}#sk-container-id-4 div.sk-parallel-item:only-child::after {width: 0;}#sk-container-id-4 div.sk-dashed-wrapped {border: 1px dashed gray;margin: 0 0.4em 0.5em 0.4em;box-sizing: border-box;padding-bottom: 0.4em;background-color: white;}#sk-container-id-4 div.sk-label label {font-family: monospace;font-weight: bold;display: inline-block;line-height: 1.2em;}#sk-container-id-4 div.sk-label-container {text-align: center;}#sk-container-id-4 div.sk-container {/* jupyter's `normalize.less` sets `[hidden] { display: none; }` but bootstrap.min.css set `[hidden] { display: none !important; }` so we also need the `!important` here to be able to override the default hidden behavior on the sphinx rendered scikit-learn.org. See: https://github.com/scikit-learn/scikit-learn/issues/21755 */display: inline-block !important;position: relative;}#sk-container-id-4 div.sk-text-repr-fallback {display: none;}</style><div id=\"sk-container-id-4\" class=\"sk-top-container\"><div class=\"sk-text-repr-fallback\"><pre>GridSearchCV(cv=5,\n",
       "             estimator=Pipeline(steps=[(&#x27;cv&#x27;,\n",
       "                                        CountVectorizer(stop_words=&#x27;english&#x27;)),\n",
       "                                       (&#x27;forest&#x27;,\n",
       "                                        RandomForestClassifier(random_state=333))]),\n",
       "             param_grid={&#x27;forest__max_depth&#x27;: [100, 300, None],\n",
       "                         &#x27;forest__max_features&#x27;: [50, 75, 100],\n",
       "                         &#x27;forest__n_estimators&#x27;: [10, 20, 30]},\n",
       "             scoring=&#x27;accuracy&#x27;, verbose=3)</pre><b>In a Jupyter environment, please rerun this cell to show the HTML representation or trust the notebook. <br />On GitHub, the HTML representation is unable to render, please try loading this page with nbviewer.org.</b></div><div class=\"sk-container\" hidden><div class=\"sk-item sk-dashed-wrapped\"><div class=\"sk-label-container\"><div class=\"sk-label sk-toggleable\"><input class=\"sk-toggleable__control sk-hidden--visually\" id=\"sk-estimator-id-11\" type=\"checkbox\" ><label for=\"sk-estimator-id-11\" class=\"sk-toggleable__label sk-toggleable__label-arrow\">GridSearchCV</label><div class=\"sk-toggleable__content\"><pre>GridSearchCV(cv=5,\n",
       "             estimator=Pipeline(steps=[(&#x27;cv&#x27;,\n",
       "                                        CountVectorizer(stop_words=&#x27;english&#x27;)),\n",
       "                                       (&#x27;forest&#x27;,\n",
       "                                        RandomForestClassifier(random_state=333))]),\n",
       "             param_grid={&#x27;forest__max_depth&#x27;: [100, 300, None],\n",
       "                         &#x27;forest__max_features&#x27;: [50, 75, 100],\n",
       "                         &#x27;forest__n_estimators&#x27;: [10, 20, 30]},\n",
       "             scoring=&#x27;accuracy&#x27;, verbose=3)</pre></div></div></div><div class=\"sk-parallel\"><div class=\"sk-parallel-item\"><div class=\"sk-item\"><div class=\"sk-label-container\"><div class=\"sk-label sk-toggleable\"><input class=\"sk-toggleable__control sk-hidden--visually\" id=\"sk-estimator-id-12\" type=\"checkbox\" ><label for=\"sk-estimator-id-12\" class=\"sk-toggleable__label sk-toggleable__label-arrow\">estimator: Pipeline</label><div class=\"sk-toggleable__content\"><pre>Pipeline(steps=[(&#x27;cv&#x27;, CountVectorizer(stop_words=&#x27;english&#x27;)),\n",
       "                (&#x27;forest&#x27;, RandomForestClassifier(random_state=333))])</pre></div></div></div><div class=\"sk-serial\"><div class=\"sk-item\"><div class=\"sk-serial\"><div class=\"sk-item\"><div class=\"sk-estimator sk-toggleable\"><input class=\"sk-toggleable__control sk-hidden--visually\" id=\"sk-estimator-id-13\" type=\"checkbox\" ><label for=\"sk-estimator-id-13\" class=\"sk-toggleable__label sk-toggleable__label-arrow\">CountVectorizer</label><div class=\"sk-toggleable__content\"><pre>CountVectorizer(stop_words=&#x27;english&#x27;)</pre></div></div></div><div class=\"sk-item\"><div class=\"sk-estimator sk-toggleable\"><input class=\"sk-toggleable__control sk-hidden--visually\" id=\"sk-estimator-id-14\" type=\"checkbox\" ><label for=\"sk-estimator-id-14\" class=\"sk-toggleable__label sk-toggleable__label-arrow\">RandomForestClassifier</label><div class=\"sk-toggleable__content\"><pre>RandomForestClassifier(random_state=333)</pre></div></div></div></div></div></div></div></div></div></div></div></div>"
      ],
      "text/plain": [
       "GridSearchCV(cv=5,\n",
       "             estimator=Pipeline(steps=[('cv',\n",
       "                                        CountVectorizer(stop_words='english')),\n",
       "                                       ('forest',\n",
       "                                        RandomForestClassifier(random_state=333))]),\n",
       "             param_grid={'forest__max_depth': [100, 300, None],\n",
       "                         'forest__max_features': [50, 75, 100],\n",
       "                         'forest__n_estimators': [10, 20, 30]},\n",
       "             scoring='accuracy', verbose=3)"
      ]
     },
     "execution_count": 42,
     "metadata": {},
     "output_type": "execute_result"
    }
   ],
   "source": [
    "# Creating parameters for GridSearch\n",
    "params2 = {'forest__max_depth': [100, 300, None],\n",
    "         'forest__max_features': [50, 75, 100],\n",
    "         'forest__n_estimators': [10, 20, 30]}\n",
    "# GridSearch with the random forest pipeline, parameters above, 5 fold cross validation, and accuracy score\n",
    "forest_grid2 = GridSearchCV(estimator=forest_pipe, param_grid=params2, cv=5, scoring='accuracy', verbose=3)\n",
    "# Fitting the GridSearch\n",
    "forest_grid2.fit(X_train, y_train)"
   ]
  },
  {
   "cell_type": "markdown",
   "metadata": {},
   "source": [
    "The GridSearch discovered max_depth=300, max_features=75, and n_estimators=20 had the best cross validation score. This is right around the same score as the random forest model with default parameters."
   ]
  },
  {
   "cell_type": "code",
   "execution_count": 43,
   "metadata": {},
   "outputs": [
    {
     "name": "stdout",
     "output_type": "stream",
     "text": [
      "Pipeline(steps=[('cv', CountVectorizer(stop_words='english')),\n",
      "                ('forest',\n",
      "                 RandomForestClassifier(max_depth=300, max_features=75,\n",
      "                                        n_estimators=20, random_state=333))])\n",
      "0.6845715494117777\n"
     ]
    }
   ],
   "source": [
    "# Displaying the best estimator from the GridSearch and the accuracy score\n",
    "print(forest_grid2.best_estimator_)\n",
    "print(forest_grid2.best_score_)"
   ]
  },
  {
   "cell_type": "markdown",
   "metadata": {},
   "source": [
    "### Updated Params (2nd time)\n",
    "\n",
    "Tried to improve results with new GridSearch."
   ]
  },
  {
   "cell_type": "code",
   "execution_count": 44,
   "metadata": {
    "scrolled": true
   },
   "outputs": [
    {
     "name": "stdout",
     "output_type": "stream",
     "text": [
      "Fitting 5 folds for each of 27 candidates, totalling 135 fits\n",
      "[CV] END forest__max_depth=300, forest__max_features=60, forest__n_estimators=30; total time=   8.5s\n",
      "[CV] END forest__max_depth=300, forest__max_features=60, forest__n_estimators=30; total time=   8.5s\n",
      "[CV] END forest__max_depth=300, forest__max_features=60, forest__n_estimators=30; total time=   8.4s\n",
      "[CV] END forest__max_depth=300, forest__max_features=60, forest__n_estimators=30; total time=   8.8s\n",
      "[CV] END forest__max_depth=300, forest__max_features=60, forest__n_estimators=30; total time=   8.5s\n",
      "[CV] END forest__max_depth=300, forest__max_features=60, forest__n_estimators=50; total time=  14.5s\n",
      "[CV] END forest__max_depth=300, forest__max_features=60, forest__n_estimators=50; total time=  14.5s\n",
      "[CV] END forest__max_depth=300, forest__max_features=60, forest__n_estimators=50; total time=  14.2s\n",
      "[CV] END forest__max_depth=300, forest__max_features=60, forest__n_estimators=50; total time=  14.6s\n",
      "[CV] END forest__max_depth=300, forest__max_features=60, forest__n_estimators=50; total time=  14.1s\n",
      "[CV] END forest__max_depth=300, forest__max_features=60, forest__n_estimators=70; total time=  20.2s\n",
      "[CV] END forest__max_depth=300, forest__max_features=60, forest__n_estimators=70; total time=  20.8s\n",
      "[CV] END forest__max_depth=300, forest__max_features=60, forest__n_estimators=70; total time=  19.8s\n",
      "[CV] END forest__max_depth=300, forest__max_features=60, forest__n_estimators=70; total time=  20.2s\n",
      "[CV] END forest__max_depth=300, forest__max_features=60, forest__n_estimators=70; total time=  19.6s\n",
      "[CV] END forest__max_depth=300, forest__max_features=75, forest__n_estimators=30; total time=   8.4s\n",
      "[CV] END forest__max_depth=300, forest__max_features=75, forest__n_estimators=30; total time=   8.6s\n",
      "[CV] END forest__max_depth=300, forest__max_features=75, forest__n_estimators=30; total time=   8.1s\n",
      "[CV] END forest__max_depth=300, forest__max_features=75, forest__n_estimators=30; total time=   8.6s\n",
      "[CV] END forest__max_depth=300, forest__max_features=75, forest__n_estimators=30; total time=   8.4s\n",
      "[CV] END forest__max_depth=300, forest__max_features=75, forest__n_estimators=50; total time=  14.3s\n",
      "[CV] END forest__max_depth=300, forest__max_features=75, forest__n_estimators=50; total time=  14.5s\n",
      "[CV] END forest__max_depth=300, forest__max_features=75, forest__n_estimators=50; total time=  13.8s\n",
      "[CV] END forest__max_depth=300, forest__max_features=75, forest__n_estimators=50; total time=  14.4s\n",
      "[CV] END forest__max_depth=300, forest__max_features=75, forest__n_estimators=50; total time=  14.0s\n",
      "[CV] END forest__max_depth=300, forest__max_features=75, forest__n_estimators=70; total time=  19.8s\n",
      "[CV] END forest__max_depth=300, forest__max_features=75, forest__n_estimators=70; total time=  20.2s\n",
      "[CV] END forest__max_depth=300, forest__max_features=75, forest__n_estimators=70; total time=  19.4s\n",
      "[CV] END forest__max_depth=300, forest__max_features=75, forest__n_estimators=70; total time=  20.1s\n",
      "[CV] END forest__max_depth=300, forest__max_features=75, forest__n_estimators=70; total time=  19.7s\n",
      "[CV] END forest__max_depth=300, forest__max_features=90, forest__n_estimators=30; total time=   8.4s\n",
      "[CV] END forest__max_depth=300, forest__max_features=90, forest__n_estimators=30; total time=   8.7s\n",
      "[CV] END forest__max_depth=300, forest__max_features=90, forest__n_estimators=30; total time=   8.3s\n",
      "[CV] END forest__max_depth=300, forest__max_features=90, forest__n_estimators=30; total time=   8.6s\n",
      "[CV] END forest__max_depth=300, forest__max_features=90, forest__n_estimators=30; total time=   8.2s\n",
      "[CV] END forest__max_depth=300, forest__max_features=90, forest__n_estimators=50; total time=  14.3s\n",
      "[CV] END forest__max_depth=300, forest__max_features=90, forest__n_estimators=50; total time=  14.4s\n",
      "[CV] END forest__max_depth=300, forest__max_features=90, forest__n_estimators=50; total time=  13.9s\n",
      "[CV] END forest__max_depth=300, forest__max_features=90, forest__n_estimators=50; total time=  14.1s\n",
      "[CV] END forest__max_depth=300, forest__max_features=90, forest__n_estimators=50; total time=  13.7s\n",
      "[CV] END forest__max_depth=300, forest__max_features=90, forest__n_estimators=70; total time=  19.7s\n",
      "[CV] END forest__max_depth=300, forest__max_features=90, forest__n_estimators=70; total time=  20.5s\n",
      "[CV] END forest__max_depth=300, forest__max_features=90, forest__n_estimators=70; total time=  19.8s\n",
      "[CV] END forest__max_depth=300, forest__max_features=90, forest__n_estimators=70; total time=  20.2s\n",
      "[CV] END forest__max_depth=300, forest__max_features=90, forest__n_estimators=70; total time=  19.6s\n",
      "[CV] END forest__max_depth=500, forest__max_features=60, forest__n_estimators=30; total time=  11.3s\n",
      "[CV] END forest__max_depth=500, forest__max_features=60, forest__n_estimators=30; total time=  11.6s\n",
      "[CV] END forest__max_depth=500, forest__max_features=60, forest__n_estimators=30; total time=  11.1s\n",
      "[CV] END forest__max_depth=500, forest__max_features=60, forest__n_estimators=30; total time=  11.5s\n",
      "[CV] END forest__max_depth=500, forest__max_features=60, forest__n_estimators=30; total time=  11.3s\n",
      "[CV] END forest__max_depth=500, forest__max_features=60, forest__n_estimators=50; total time=  18.8s\n",
      "[CV] END forest__max_depth=500, forest__max_features=60, forest__n_estimators=50; total time=  19.4s\n",
      "[CV] END forest__max_depth=500, forest__max_features=60, forest__n_estimators=50; total time=  18.6s\n",
      "[CV] END forest__max_depth=500, forest__max_features=60, forest__n_estimators=50; total time=  19.3s\n",
      "[CV] END forest__max_depth=500, forest__max_features=60, forest__n_estimators=50; total time=  18.9s\n",
      "[CV] END forest__max_depth=500, forest__max_features=60, forest__n_estimators=70; total time=  26.4s\n",
      "[CV] END forest__max_depth=500, forest__max_features=60, forest__n_estimators=70; total time=  27.3s\n",
      "[CV] END forest__max_depth=500, forest__max_features=60, forest__n_estimators=70; total time=  26.2s\n",
      "[CV] END forest__max_depth=500, forest__max_features=60, forest__n_estimators=70; total time=  27.4s\n",
      "[CV] END forest__max_depth=500, forest__max_features=60, forest__n_estimators=70; total time=  26.8s\n",
      "[CV] END forest__max_depth=500, forest__max_features=75, forest__n_estimators=30; total time=  11.1s\n",
      "[CV] END forest__max_depth=500, forest__max_features=75, forest__n_estimators=30; total time=  11.3s\n",
      "[CV] END forest__max_depth=500, forest__max_features=75, forest__n_estimators=30; total time=  11.0s\n",
      "[CV] END forest__max_depth=500, forest__max_features=75, forest__n_estimators=30; total time=  11.3s\n",
      "[CV] END forest__max_depth=500, forest__max_features=75, forest__n_estimators=30; total time=  11.1s\n",
      "[CV] END forest__max_depth=500, forest__max_features=75, forest__n_estimators=50; total time=  18.5s\n",
      "[CV] END forest__max_depth=500, forest__max_features=75, forest__n_estimators=50; total time=  18.9s\n",
      "[CV] END forest__max_depth=500, forest__max_features=75, forest__n_estimators=50; total time=  18.3s\n",
      "[CV] END forest__max_depth=500, forest__max_features=75, forest__n_estimators=50; total time=  19.0s\n",
      "[CV] END forest__max_depth=500, forest__max_features=75, forest__n_estimators=50; total time=  18.6s\n",
      "[CV] END forest__max_depth=500, forest__max_features=75, forest__n_estimators=70; total time=  25.9s\n",
      "[CV] END forest__max_depth=500, forest__max_features=75, forest__n_estimators=70; total time=  26.5s\n",
      "[CV] END forest__max_depth=500, forest__max_features=75, forest__n_estimators=70; total time=  25.1s\n",
      "[CV] END forest__max_depth=500, forest__max_features=75, forest__n_estimators=70; total time=  25.9s\n",
      "[CV] END forest__max_depth=500, forest__max_features=75, forest__n_estimators=70; total time=  25.5s\n",
      "[CV] END forest__max_depth=500, forest__max_features=90, forest__n_estimators=30; total time=  10.7s\n",
      "[CV] END forest__max_depth=500, forest__max_features=90, forest__n_estimators=30; total time=  11.2s\n",
      "[CV] END forest__max_depth=500, forest__max_features=90, forest__n_estimators=30; total time=  10.6s\n",
      "[CV] END forest__max_depth=500, forest__max_features=90, forest__n_estimators=30; total time=  11.1s\n",
      "[CV] END forest__max_depth=500, forest__max_features=90, forest__n_estimators=30; total time=  10.9s\n",
      "[CV] END forest__max_depth=500, forest__max_features=90, forest__n_estimators=50; total time=  18.0s\n"
     ]
    },
    {
     "name": "stdout",
     "output_type": "stream",
     "text": [
      "[CV] END forest__max_depth=500, forest__max_features=90, forest__n_estimators=50; total time=  18.5s\n",
      "[CV] END forest__max_depth=500, forest__max_features=90, forest__n_estimators=50; total time=  17.6s\n",
      "[CV] END forest__max_depth=500, forest__max_features=90, forest__n_estimators=50; total time=  18.3s\n",
      "[CV] END forest__max_depth=500, forest__max_features=90, forest__n_estimators=50; total time=  18.1s\n",
      "[CV] END forest__max_depth=500, forest__max_features=90, forest__n_estimators=70; total time=  25.1s\n",
      "[CV] END forest__max_depth=500, forest__max_features=90, forest__n_estimators=70; total time=  26.0s\n",
      "[CV] END forest__max_depth=500, forest__max_features=90, forest__n_estimators=70; total time=  24.7s\n",
      "[CV] END forest__max_depth=500, forest__max_features=90, forest__n_estimators=70; total time=  25.3s\n",
      "[CV] END forest__max_depth=500, forest__max_features=90, forest__n_estimators=70; total time=  25.2s\n",
      "[CV] END forest__max_depth=None, forest__max_features=60, forest__n_estimators=30; total time=  11.1s\n",
      "[CV] END forest__max_depth=None, forest__max_features=60, forest__n_estimators=30; total time=  11.3s\n",
      "[CV] END forest__max_depth=None, forest__max_features=60, forest__n_estimators=30; total time=  11.0s\n",
      "[CV] END forest__max_depth=None, forest__max_features=60, forest__n_estimators=30; total time=  11.3s\n",
      "[CV] END forest__max_depth=None, forest__max_features=60, forest__n_estimators=30; total time=  11.1s\n",
      "[CV] END forest__max_depth=None, forest__max_features=60, forest__n_estimators=50; total time=  18.8s\n",
      "[CV] END forest__max_depth=None, forest__max_features=60, forest__n_estimators=50; total time=  19.2s\n",
      "[CV] END forest__max_depth=None, forest__max_features=60, forest__n_estimators=50; total time=  19.0s\n",
      "[CV] END forest__max_depth=None, forest__max_features=60, forest__n_estimators=50; total time=  19.3s\n",
      "[CV] END forest__max_depth=None, forest__max_features=60, forest__n_estimators=50; total time=  18.9s\n",
      "[CV] END forest__max_depth=None, forest__max_features=60, forest__n_estimators=70; total time=  25.9s\n",
      "[CV] END forest__max_depth=None, forest__max_features=60, forest__n_estimators=70; total time=  26.8s\n",
      "[CV] END forest__max_depth=None, forest__max_features=60, forest__n_estimators=70; total time=  26.1s\n",
      "[CV] END forest__max_depth=None, forest__max_features=60, forest__n_estimators=70; total time=  26.4s\n",
      "[CV] END forest__max_depth=None, forest__max_features=60, forest__n_estimators=70; total time=  26.5s\n",
      "[CV] END forest__max_depth=None, forest__max_features=75, forest__n_estimators=30; total time=  11.0s\n",
      "[CV] END forest__max_depth=None, forest__max_features=75, forest__n_estimators=30; total time=  11.2s\n",
      "[CV] END forest__max_depth=None, forest__max_features=75, forest__n_estimators=30; total time=  10.8s\n",
      "[CV] END forest__max_depth=None, forest__max_features=75, forest__n_estimators=30; total time=  11.2s\n",
      "[CV] END forest__max_depth=None, forest__max_features=75, forest__n_estimators=30; total time=  11.2s\n",
      "[CV] END forest__max_depth=None, forest__max_features=75, forest__n_estimators=50; total time=  18.2s\n",
      "[CV] END forest__max_depth=None, forest__max_features=75, forest__n_estimators=50; total time=  19.3s\n",
      "[CV] END forest__max_depth=None, forest__max_features=75, forest__n_estimators=50; total time=  18.2s\n",
      "[CV] END forest__max_depth=None, forest__max_features=75, forest__n_estimators=50; total time=  18.7s\n",
      "[CV] END forest__max_depth=None, forest__max_features=75, forest__n_estimators=50; total time=  18.4s\n",
      "[CV] END forest__max_depth=None, forest__max_features=75, forest__n_estimators=70; total time=  25.4s\n",
      "[CV] END forest__max_depth=None, forest__max_features=75, forest__n_estimators=70; total time=  26.3s\n",
      "[CV] END forest__max_depth=None, forest__max_features=75, forest__n_estimators=70; total time=  25.3s\n",
      "[CV] END forest__max_depth=None, forest__max_features=75, forest__n_estimators=70; total time=  26.2s\n",
      "[CV] END forest__max_depth=None, forest__max_features=75, forest__n_estimators=70; total time=  26.2s\n",
      "[CV] END forest__max_depth=None, forest__max_features=90, forest__n_estimators=30; total time=  11.0s\n",
      "[CV] END forest__max_depth=None, forest__max_features=90, forest__n_estimators=30; total time=  11.2s\n",
      "[CV] END forest__max_depth=None, forest__max_features=90, forest__n_estimators=30; total time=  10.6s\n",
      "[CV] END forest__max_depth=None, forest__max_features=90, forest__n_estimators=30; total time=  10.9s\n",
      "[CV] END forest__max_depth=None, forest__max_features=90, forest__n_estimators=30; total time=  10.8s\n",
      "[CV] END forest__max_depth=None, forest__max_features=90, forest__n_estimators=50; total time=  17.9s\n",
      "[CV] END forest__max_depth=None, forest__max_features=90, forest__n_estimators=50; total time=  18.7s\n",
      "[CV] END forest__max_depth=None, forest__max_features=90, forest__n_estimators=50; total time=  17.9s\n",
      "[CV] END forest__max_depth=None, forest__max_features=90, forest__n_estimators=50; total time=  18.3s\n",
      "[CV] END forest__max_depth=None, forest__max_features=90, forest__n_estimators=50; total time=  18.2s\n",
      "[CV] END forest__max_depth=None, forest__max_features=90, forest__n_estimators=70; total time=  25.0s\n",
      "[CV] END forest__max_depth=None, forest__max_features=90, forest__n_estimators=70; total time=  26.3s\n",
      "[CV] END forest__max_depth=None, forest__max_features=90, forest__n_estimators=70; total time=  25.1s\n",
      "[CV] END forest__max_depth=None, forest__max_features=90, forest__n_estimators=70; total time=  25.5s\n",
      "[CV] END forest__max_depth=None, forest__max_features=90, forest__n_estimators=70; total time=  25.7s\n"
     ]
    },
    {
     "data": {
      "text/html": [
       "<style>#sk-container-id-5 {color: black;}#sk-container-id-5 pre{padding: 0;}#sk-container-id-5 div.sk-toggleable {background-color: white;}#sk-container-id-5 label.sk-toggleable__label {cursor: pointer;display: block;width: 100%;margin-bottom: 0;padding: 0.3em;box-sizing: border-box;text-align: center;}#sk-container-id-5 label.sk-toggleable__label-arrow:before {content: \"▸\";float: left;margin-right: 0.25em;color: #696969;}#sk-container-id-5 label.sk-toggleable__label-arrow:hover:before {color: black;}#sk-container-id-5 div.sk-estimator:hover label.sk-toggleable__label-arrow:before {color: black;}#sk-container-id-5 div.sk-toggleable__content {max-height: 0;max-width: 0;overflow: hidden;text-align: left;background-color: #f0f8ff;}#sk-container-id-5 div.sk-toggleable__content pre {margin: 0.2em;color: black;border-radius: 0.25em;background-color: #f0f8ff;}#sk-container-id-5 input.sk-toggleable__control:checked~div.sk-toggleable__content {max-height: 200px;max-width: 100%;overflow: auto;}#sk-container-id-5 input.sk-toggleable__control:checked~label.sk-toggleable__label-arrow:before {content: \"▾\";}#sk-container-id-5 div.sk-estimator input.sk-toggleable__control:checked~label.sk-toggleable__label {background-color: #d4ebff;}#sk-container-id-5 div.sk-label input.sk-toggleable__control:checked~label.sk-toggleable__label {background-color: #d4ebff;}#sk-container-id-5 input.sk-hidden--visually {border: 0;clip: rect(1px 1px 1px 1px);clip: rect(1px, 1px, 1px, 1px);height: 1px;margin: -1px;overflow: hidden;padding: 0;position: absolute;width: 1px;}#sk-container-id-5 div.sk-estimator {font-family: monospace;background-color: #f0f8ff;border: 1px dotted black;border-radius: 0.25em;box-sizing: border-box;margin-bottom: 0.5em;}#sk-container-id-5 div.sk-estimator:hover {background-color: #d4ebff;}#sk-container-id-5 div.sk-parallel-item::after {content: \"\";width: 100%;border-bottom: 1px solid gray;flex-grow: 1;}#sk-container-id-5 div.sk-label:hover label.sk-toggleable__label {background-color: #d4ebff;}#sk-container-id-5 div.sk-serial::before {content: \"\";position: absolute;border-left: 1px solid gray;box-sizing: border-box;top: 0;bottom: 0;left: 50%;z-index: 0;}#sk-container-id-5 div.sk-serial {display: flex;flex-direction: column;align-items: center;background-color: white;padding-right: 0.2em;padding-left: 0.2em;position: relative;}#sk-container-id-5 div.sk-item {position: relative;z-index: 1;}#sk-container-id-5 div.sk-parallel {display: flex;align-items: stretch;justify-content: center;background-color: white;position: relative;}#sk-container-id-5 div.sk-item::before, #sk-container-id-5 div.sk-parallel-item::before {content: \"\";position: absolute;border-left: 1px solid gray;box-sizing: border-box;top: 0;bottom: 0;left: 50%;z-index: -1;}#sk-container-id-5 div.sk-parallel-item {display: flex;flex-direction: column;z-index: 1;position: relative;background-color: white;}#sk-container-id-5 div.sk-parallel-item:first-child::after {align-self: flex-end;width: 50%;}#sk-container-id-5 div.sk-parallel-item:last-child::after {align-self: flex-start;width: 50%;}#sk-container-id-5 div.sk-parallel-item:only-child::after {width: 0;}#sk-container-id-5 div.sk-dashed-wrapped {border: 1px dashed gray;margin: 0 0.4em 0.5em 0.4em;box-sizing: border-box;padding-bottom: 0.4em;background-color: white;}#sk-container-id-5 div.sk-label label {font-family: monospace;font-weight: bold;display: inline-block;line-height: 1.2em;}#sk-container-id-5 div.sk-label-container {text-align: center;}#sk-container-id-5 div.sk-container {/* jupyter's `normalize.less` sets `[hidden] { display: none; }` but bootstrap.min.css set `[hidden] { display: none !important; }` so we also need the `!important` here to be able to override the default hidden behavior on the sphinx rendered scikit-learn.org. See: https://github.com/scikit-learn/scikit-learn/issues/21755 */display: inline-block !important;position: relative;}#sk-container-id-5 div.sk-text-repr-fallback {display: none;}</style><div id=\"sk-container-id-5\" class=\"sk-top-container\"><div class=\"sk-text-repr-fallback\"><pre>GridSearchCV(cv=5,\n",
       "             estimator=Pipeline(steps=[(&#x27;cv&#x27;,\n",
       "                                        CountVectorizer(stop_words=&#x27;english&#x27;)),\n",
       "                                       (&#x27;forest&#x27;,\n",
       "                                        RandomForestClassifier(random_state=333))]),\n",
       "             param_grid={&#x27;forest__max_depth&#x27;: [300, 500, None],\n",
       "                         &#x27;forest__max_features&#x27;: [60, 75, 90],\n",
       "                         &#x27;forest__n_estimators&#x27;: [30, 50, 70]},\n",
       "             scoring=&#x27;accuracy&#x27;, verbose=2)</pre><b>In a Jupyter environment, please rerun this cell to show the HTML representation or trust the notebook. <br />On GitHub, the HTML representation is unable to render, please try loading this page with nbviewer.org.</b></div><div class=\"sk-container\" hidden><div class=\"sk-item sk-dashed-wrapped\"><div class=\"sk-label-container\"><div class=\"sk-label sk-toggleable\"><input class=\"sk-toggleable__control sk-hidden--visually\" id=\"sk-estimator-id-15\" type=\"checkbox\" ><label for=\"sk-estimator-id-15\" class=\"sk-toggleable__label sk-toggleable__label-arrow\">GridSearchCV</label><div class=\"sk-toggleable__content\"><pre>GridSearchCV(cv=5,\n",
       "             estimator=Pipeline(steps=[(&#x27;cv&#x27;,\n",
       "                                        CountVectorizer(stop_words=&#x27;english&#x27;)),\n",
       "                                       (&#x27;forest&#x27;,\n",
       "                                        RandomForestClassifier(random_state=333))]),\n",
       "             param_grid={&#x27;forest__max_depth&#x27;: [300, 500, None],\n",
       "                         &#x27;forest__max_features&#x27;: [60, 75, 90],\n",
       "                         &#x27;forest__n_estimators&#x27;: [30, 50, 70]},\n",
       "             scoring=&#x27;accuracy&#x27;, verbose=2)</pre></div></div></div><div class=\"sk-parallel\"><div class=\"sk-parallel-item\"><div class=\"sk-item\"><div class=\"sk-label-container\"><div class=\"sk-label sk-toggleable\"><input class=\"sk-toggleable__control sk-hidden--visually\" id=\"sk-estimator-id-16\" type=\"checkbox\" ><label for=\"sk-estimator-id-16\" class=\"sk-toggleable__label sk-toggleable__label-arrow\">estimator: Pipeline</label><div class=\"sk-toggleable__content\"><pre>Pipeline(steps=[(&#x27;cv&#x27;, CountVectorizer(stop_words=&#x27;english&#x27;)),\n",
       "                (&#x27;forest&#x27;, RandomForestClassifier(random_state=333))])</pre></div></div></div><div class=\"sk-serial\"><div class=\"sk-item\"><div class=\"sk-serial\"><div class=\"sk-item\"><div class=\"sk-estimator sk-toggleable\"><input class=\"sk-toggleable__control sk-hidden--visually\" id=\"sk-estimator-id-17\" type=\"checkbox\" ><label for=\"sk-estimator-id-17\" class=\"sk-toggleable__label sk-toggleable__label-arrow\">CountVectorizer</label><div class=\"sk-toggleable__content\"><pre>CountVectorizer(stop_words=&#x27;english&#x27;)</pre></div></div></div><div class=\"sk-item\"><div class=\"sk-estimator sk-toggleable\"><input class=\"sk-toggleable__control sk-hidden--visually\" id=\"sk-estimator-id-18\" type=\"checkbox\" ><label for=\"sk-estimator-id-18\" class=\"sk-toggleable__label sk-toggleable__label-arrow\">RandomForestClassifier</label><div class=\"sk-toggleable__content\"><pre>RandomForestClassifier(random_state=333)</pre></div></div></div></div></div></div></div></div></div></div></div></div>"
      ],
      "text/plain": [
       "GridSearchCV(cv=5,\n",
       "             estimator=Pipeline(steps=[('cv',\n",
       "                                        CountVectorizer(stop_words='english')),\n",
       "                                       ('forest',\n",
       "                                        RandomForestClassifier(random_state=333))]),\n",
       "             param_grid={'forest__max_depth': [300, 500, None],\n",
       "                         'forest__max_features': [60, 75, 90],\n",
       "                         'forest__n_estimators': [30, 50, 70]},\n",
       "             scoring='accuracy', verbose=2)"
      ]
     },
     "execution_count": 44,
     "metadata": {},
     "output_type": "execute_result"
    }
   ],
   "source": [
    "# Creating parameters for GridSearch\n",
    "params3 = {'forest__max_depth': [300, 500, None],\n",
    "         'forest__max_features': [60, 75, 90],\n",
    "         'forest__n_estimators': [30, 50, 70]}\n",
    "# GridSearch with the random forest pipeline, parameters above, 5 fold cross validation, and accuracy score\n",
    "forest_grid3 = GridSearchCV(estimator=forest_pipe, param_grid=params3, cv=5, scoring='accuracy', verbose=2)\n",
    "# Fitting the GridSearch\n",
    "forest_grid3.fit(X_train, y_train)"
   ]
  },
  {
   "cell_type": "markdown",
   "metadata": {},
   "source": [
    "The GridSearch discovered max_depth=300, max_features=90, and n_estimators=70 had the best cross validation score. This improvement was minimal from the previous GridSearch iteration so we decided to move on to a new model."
   ]
  },
  {
   "cell_type": "code",
   "execution_count": 45,
   "metadata": {},
   "outputs": [
    {
     "name": "stdout",
     "output_type": "stream",
     "text": [
      "Pipeline(steps=[('cv', CountVectorizer(stop_words='english')),\n",
      "                ('forest',\n",
      "                 RandomForestClassifier(max_depth=300, max_features=90,\n",
      "                                        n_estimators=70, random_state=333))])\n",
      "0.6877062116709517\n"
     ]
    }
   ],
   "source": [
    "# Displaying the best estimator from the GridSearch and the accuracy score\n",
    "print(forest_grid3.best_estimator_)\n",
    "print(forest_grid3.best_score_)"
   ]
  },
  {
   "cell_type": "markdown",
   "metadata": {},
   "source": [
    "### Third Model (Logistic Regression)\n",
    "\n",
    "Created a logistic regression model with an awareness that logistic regression does not handle class imbalances as well as decision trees/random forests."
   ]
  },
  {
   "cell_type": "code",
   "execution_count": 59,
   "metadata": {},
   "outputs": [
    {
     "data": {
      "text/html": [
       "<style>#sk-container-id-12 {color: black;}#sk-container-id-12 pre{padding: 0;}#sk-container-id-12 div.sk-toggleable {background-color: white;}#sk-container-id-12 label.sk-toggleable__label {cursor: pointer;display: block;width: 100%;margin-bottom: 0;padding: 0.3em;box-sizing: border-box;text-align: center;}#sk-container-id-12 label.sk-toggleable__label-arrow:before {content: \"▸\";float: left;margin-right: 0.25em;color: #696969;}#sk-container-id-12 label.sk-toggleable__label-arrow:hover:before {color: black;}#sk-container-id-12 div.sk-estimator:hover label.sk-toggleable__label-arrow:before {color: black;}#sk-container-id-12 div.sk-toggleable__content {max-height: 0;max-width: 0;overflow: hidden;text-align: left;background-color: #f0f8ff;}#sk-container-id-12 div.sk-toggleable__content pre {margin: 0.2em;color: black;border-radius: 0.25em;background-color: #f0f8ff;}#sk-container-id-12 input.sk-toggleable__control:checked~div.sk-toggleable__content {max-height: 200px;max-width: 100%;overflow: auto;}#sk-container-id-12 input.sk-toggleable__control:checked~label.sk-toggleable__label-arrow:before {content: \"▾\";}#sk-container-id-12 div.sk-estimator input.sk-toggleable__control:checked~label.sk-toggleable__label {background-color: #d4ebff;}#sk-container-id-12 div.sk-label input.sk-toggleable__control:checked~label.sk-toggleable__label {background-color: #d4ebff;}#sk-container-id-12 input.sk-hidden--visually {border: 0;clip: rect(1px 1px 1px 1px);clip: rect(1px, 1px, 1px, 1px);height: 1px;margin: -1px;overflow: hidden;padding: 0;position: absolute;width: 1px;}#sk-container-id-12 div.sk-estimator {font-family: monospace;background-color: #f0f8ff;border: 1px dotted black;border-radius: 0.25em;box-sizing: border-box;margin-bottom: 0.5em;}#sk-container-id-12 div.sk-estimator:hover {background-color: #d4ebff;}#sk-container-id-12 div.sk-parallel-item::after {content: \"\";width: 100%;border-bottom: 1px solid gray;flex-grow: 1;}#sk-container-id-12 div.sk-label:hover label.sk-toggleable__label {background-color: #d4ebff;}#sk-container-id-12 div.sk-serial::before {content: \"\";position: absolute;border-left: 1px solid gray;box-sizing: border-box;top: 0;bottom: 0;left: 50%;z-index: 0;}#sk-container-id-12 div.sk-serial {display: flex;flex-direction: column;align-items: center;background-color: white;padding-right: 0.2em;padding-left: 0.2em;position: relative;}#sk-container-id-12 div.sk-item {position: relative;z-index: 1;}#sk-container-id-12 div.sk-parallel {display: flex;align-items: stretch;justify-content: center;background-color: white;position: relative;}#sk-container-id-12 div.sk-item::before, #sk-container-id-12 div.sk-parallel-item::before {content: \"\";position: absolute;border-left: 1px solid gray;box-sizing: border-box;top: 0;bottom: 0;left: 50%;z-index: -1;}#sk-container-id-12 div.sk-parallel-item {display: flex;flex-direction: column;z-index: 1;position: relative;background-color: white;}#sk-container-id-12 div.sk-parallel-item:first-child::after {align-self: flex-end;width: 50%;}#sk-container-id-12 div.sk-parallel-item:last-child::after {align-self: flex-start;width: 50%;}#sk-container-id-12 div.sk-parallel-item:only-child::after {width: 0;}#sk-container-id-12 div.sk-dashed-wrapped {border: 1px dashed gray;margin: 0 0.4em 0.5em 0.4em;box-sizing: border-box;padding-bottom: 0.4em;background-color: white;}#sk-container-id-12 div.sk-label label {font-family: monospace;font-weight: bold;display: inline-block;line-height: 1.2em;}#sk-container-id-12 div.sk-label-container {text-align: center;}#sk-container-id-12 div.sk-container {/* jupyter's `normalize.less` sets `[hidden] { display: none; }` but bootstrap.min.css set `[hidden] { display: none !important; }` so we also need the `!important` here to be able to override the default hidden behavior on the sphinx rendered scikit-learn.org. See: https://github.com/scikit-learn/scikit-learn/issues/21755 */display: inline-block !important;position: relative;}#sk-container-id-12 div.sk-text-repr-fallback {display: none;}</style><div id=\"sk-container-id-12\" class=\"sk-top-container\"><div class=\"sk-text-repr-fallback\"><pre>Pipeline(steps=[(&#x27;cv&#x27;, CountVectorizer(stop_words=&#x27;english&#x27;)),\n",
       "                (&#x27;logreg&#x27;,\n",
       "                 LogisticRegression(max_iter=1000, random_state=333))])</pre><b>In a Jupyter environment, please rerun this cell to show the HTML representation or trust the notebook. <br />On GitHub, the HTML representation is unable to render, please try loading this page with nbviewer.org.</b></div><div class=\"sk-container\" hidden><div class=\"sk-item sk-dashed-wrapped\"><div class=\"sk-label-container\"><div class=\"sk-label sk-toggleable\"><input class=\"sk-toggleable__control sk-hidden--visually\" id=\"sk-estimator-id-41\" type=\"checkbox\" ><label for=\"sk-estimator-id-41\" class=\"sk-toggleable__label sk-toggleable__label-arrow\">Pipeline</label><div class=\"sk-toggleable__content\"><pre>Pipeline(steps=[(&#x27;cv&#x27;, CountVectorizer(stop_words=&#x27;english&#x27;)),\n",
       "                (&#x27;logreg&#x27;,\n",
       "                 LogisticRegression(max_iter=1000, random_state=333))])</pre></div></div></div><div class=\"sk-serial\"><div class=\"sk-item\"><div class=\"sk-estimator sk-toggleable\"><input class=\"sk-toggleable__control sk-hidden--visually\" id=\"sk-estimator-id-42\" type=\"checkbox\" ><label for=\"sk-estimator-id-42\" class=\"sk-toggleable__label sk-toggleable__label-arrow\">CountVectorizer</label><div class=\"sk-toggleable__content\"><pre>CountVectorizer(stop_words=&#x27;english&#x27;)</pre></div></div></div><div class=\"sk-item\"><div class=\"sk-estimator sk-toggleable\"><input class=\"sk-toggleable__control sk-hidden--visually\" id=\"sk-estimator-id-43\" type=\"checkbox\" ><label for=\"sk-estimator-id-43\" class=\"sk-toggleable__label sk-toggleable__label-arrow\">LogisticRegression</label><div class=\"sk-toggleable__content\"><pre>LogisticRegression(max_iter=1000, random_state=333)</pre></div></div></div></div></div></div></div>"
      ],
      "text/plain": [
       "Pipeline(steps=[('cv', CountVectorizer(stop_words='english')),\n",
       "                ('logreg',\n",
       "                 LogisticRegression(max_iter=1000, random_state=333))])"
      ]
     },
     "execution_count": 59,
     "metadata": {},
     "output_type": "execute_result"
    }
   ],
   "source": [
    "# Creating steps for a Pipeline \n",
    "logreg_steps = [('cv', CountVectorizer(stop_words='english')),\n",
    "         ('logreg', LogisticRegression(random_state=333, max_iter=1000))]\n",
    "# Feeding the Pipeline the steps defined above\n",
    "logreg_pipe = Pipeline(logreg_steps)\n",
    "# Fitting the training data to the Pipeline\n",
    "logreg_pipe.fit(X_train, y_train)"
   ]
  },
  {
   "cell_type": "markdown",
   "metadata": {},
   "source": [
    "This logistic regression has an 88% accuracy score which is pretty high but it could be overfit to the training data and probably isn't doing well with the class imbalance."
   ]
  },
  {
   "cell_type": "code",
   "execution_count": 60,
   "metadata": {},
   "outputs": [
    {
     "data": {
      "text/plain": [
       "0.8836168307967771"
      ]
     },
     "execution_count": 60,
     "metadata": {},
     "output_type": "execute_result"
    }
   ],
   "source": [
    "# Defining the predictions from the Pipeline using the training data\n",
    "y_pred = logreg_pipe.predict(X_train)\n",
    "# Evaluating the accuracy score on the training data\n",
    "accuracy_score(y_train, y_pred)"
   ]
  },
  {
   "cell_type": "markdown",
   "metadata": {},
   "source": [
    "Created confusion matrix in order to investigate how the model is handling the class imbalance. It shows that this model is struggling predicting the negative and positive sentiments accurately but is doing pretty well with the neutral sentiment becuase most of the data is neutral. "
   ]
  },
  {
   "cell_type": "code",
   "execution_count": 61,
   "metadata": {},
   "outputs": [
    {
     "data": {
      "text/plain": [
       "<sklearn.metrics._plot.confusion_matrix.ConfusionMatrixDisplay at 0x1c5c4c598b0>"
      ]
     },
     "execution_count": 61,
     "metadata": {},
     "output_type": "execute_result"
    },
    {
     "data": {
      "image/png": "[encoded data removed]",
      "text/plain": [
       "<Figure size 432x288 with 2 Axes>"
      ]
     },
     "metadata": {
      "needs_background": "light"
     },
     "output_type": "display_data"
    }
   ],
   "source": [
    "cf = confusion_matrix(y_train, y_pred)\n",
    "ConfusionMatrixDisplay(cf, display_labels=['Negative', 'Neutral', 'Positive']).plot()"
   ]
  },
  {
   "cell_type": "markdown",
   "metadata": {},
   "source": [
    "Compared the training results to a cross validation score. This shows the model is also very overfit because of the much lower cross validation score."
   ]
  },
  {
   "cell_type": "code",
   "execution_count": 62,
   "metadata": {},
   "outputs": [
    {
     "data": {
      "text/plain": [
       "0.6883016683918216"
      ]
     },
     "execution_count": 62,
     "metadata": {},
     "output_type": "execute_result"
    }
   ],
   "source": [
    "# Calculating mean of the 5-fold cross_val_score\n",
    "cross_val_score(logreg_pipe, X_train, y_train, cv=5).mean()"
   ]
  },
  {
   "cell_type": "markdown",
   "metadata": {},
   "source": [
    "### Logistic Regression with GridSearch\n",
    "\n",
    "In order to combat the poor performance due to overfitting and the class imbalance, we used a GridSearch to help tune the hyperparameters."
   ]
  },
  {
   "cell_type": "code",
   "execution_count": 66,
   "metadata": {
    "scrolled": true
   },
   "outputs": [
    {
     "name": "stdout",
     "output_type": "stream",
     "text": [
      "Fitting 5 folds for each of 48 candidates, totalling 240 fits\n",
      "[CV 1/5] END logreg__C=0.1, logreg__class_weight=None, logreg__max_iter=5000, logreg__solver=lbfgs;, score=0.676 total time=   0.1s\n",
      "[CV 2/5] END logreg__C=0.1, logreg__class_weight=None, logreg__max_iter=5000, logreg__solver=lbfgs;, score=0.682 total time=   0.1s\n",
      "[CV 3/5] END logreg__C=0.1, logreg__class_weight=None, logreg__max_iter=5000, logreg__solver=lbfgs;, score=0.676 total time=   0.1s\n",
      "[CV 4/5] END logreg__C=0.1, logreg__class_weight=None, logreg__max_iter=5000, logreg__solver=lbfgs;, score=0.684 total time=   0.1s\n",
      "[CV 5/5] END logreg__C=0.1, logreg__class_weight=None, logreg__max_iter=5000, logreg__solver=lbfgs;, score=0.684 total time=   0.2s\n",
      "[CV 1/5] END logreg__C=0.1, logreg__class_weight=None, logreg__max_iter=5000, logreg__solver=sag;, score=0.676 total time=   0.1s\n",
      "[CV 2/5] END logreg__C=0.1, logreg__class_weight=None, logreg__max_iter=5000, logreg__solver=sag;, score=0.682 total time=   0.0s\n",
      "[CV 3/5] END logreg__C=0.1, logreg__class_weight=None, logreg__max_iter=5000, logreg__solver=sag;, score=0.676 total time=   0.0s\n",
      "[CV 4/5] END logreg__C=0.1, logreg__class_weight=None, logreg__max_iter=5000, logreg__solver=sag;, score=0.684 total time=   0.0s\n",
      "[CV 5/5] END logreg__C=0.1, logreg__class_weight=None, logreg__max_iter=5000, logreg__solver=sag;, score=0.684 total time=   0.0s\n",
      "[CV 1/5] END logreg__C=0.1, logreg__class_weight=None, logreg__max_iter=5000, logreg__solver=newton-cg;, score=0.676 total time=   0.1s\n",
      "[CV 2/5] END logreg__C=0.1, logreg__class_weight=None, logreg__max_iter=5000, logreg__solver=newton-cg;, score=0.682 total time=   0.1s\n",
      "[CV 3/5] END logreg__C=0.1, logreg__class_weight=None, logreg__max_iter=5000, logreg__solver=newton-cg;, score=0.676 total time=   0.1s\n",
      "[CV 4/5] END logreg__C=0.1, logreg__class_weight=None, logreg__max_iter=5000, logreg__solver=newton-cg;, score=0.684 total time=   0.2s\n",
      "[CV 5/5] END logreg__C=0.1, logreg__class_weight=None, logreg__max_iter=5000, logreg__solver=newton-cg;, score=0.684 total time=   0.1s\n",
      "[CV 1/5] END logreg__C=0.1, logreg__class_weight=None, logreg__max_iter=5000, logreg__solver=saga;, score=0.676 total time=   0.3s\n",
      "[CV 2/5] END logreg__C=0.1, logreg__class_weight=None, logreg__max_iter=5000, logreg__solver=saga;, score=0.682 total time=   0.3s\n",
      "[CV 3/5] END logreg__C=0.1, logreg__class_weight=None, logreg__max_iter=5000, logreg__solver=saga;, score=0.676 total time=   0.3s\n",
      "[CV 4/5] END logreg__C=0.1, logreg__class_weight=None, logreg__max_iter=5000, logreg__solver=saga;, score=0.684 total time=   0.3s\n",
      "[CV 5/5] END logreg__C=0.1, logreg__class_weight=None, logreg__max_iter=5000, logreg__solver=saga;, score=0.684 total time=   0.3s\n",
      "[CV 1/5] END logreg__C=0.1, logreg__class_weight=balanced, logreg__max_iter=5000, logreg__solver=lbfgs;, score=0.610 total time=   0.1s\n",
      "[CV 2/5] END logreg__C=0.1, logreg__class_weight=balanced, logreg__max_iter=5000, logreg__solver=lbfgs;, score=0.640 total time=   0.1s\n",
      "[CV 3/5] END logreg__C=0.1, logreg__class_weight=balanced, logreg__max_iter=5000, logreg__solver=lbfgs;, score=0.624 total time=   0.1s\n",
      "[CV 4/5] END logreg__C=0.1, logreg__class_weight=balanced, logreg__max_iter=5000, logreg__solver=lbfgs;, score=0.629 total time=   0.1s\n",
      "[CV 5/5] END logreg__C=0.1, logreg__class_weight=balanced, logreg__max_iter=5000, logreg__solver=lbfgs;, score=0.633 total time=   0.1s\n"
     ]
    },
    {
     "name": "stderr",
     "output_type": "stream",
     "text": [
      "C:\\Users\\42ben\\anaconda3\\envs\\learn-env\\lib\\site-packages\\sklearn\\linear_model\\_sag.py:350: ConvergenceWarning: The max_iter was reached which means the coef_ did not converge\n",
      "  warnings.warn(\n"
     ]
    },
    {
     "name": "stdout",
     "output_type": "stream",
     "text": [
      "[CV 1/5] END logreg__C=0.1, logreg__class_weight=balanced, logreg__max_iter=5000, logreg__solver=sag;, score=0.611 total time=   7.9s\n"
     ]
    },
    {
     "name": "stderr",
     "output_type": "stream",
     "text": [
      "C:\\Users\\42ben\\anaconda3\\envs\\learn-env\\lib\\site-packages\\sklearn\\linear_model\\_sag.py:350: ConvergenceWarning: The max_iter was reached which means the coef_ did not converge\n",
      "  warnings.warn(\n"
     ]
    },
    {
     "name": "stdout",
     "output_type": "stream",
     "text": [
      "[CV 2/5] END logreg__C=0.1, logreg__class_weight=balanced, logreg__max_iter=5000, logreg__solver=sag;, score=0.638 total time=   7.9s\n"
     ]
    },
    {
     "name": "stderr",
     "output_type": "stream",
     "text": [
      "C:\\Users\\42ben\\anaconda3\\envs\\learn-env\\lib\\site-packages\\sklearn\\linear_model\\_sag.py:350: ConvergenceWarning: The max_iter was reached which means the coef_ did not converge\n",
      "  warnings.warn(\n"
     ]
    },
    {
     "name": "stdout",
     "output_type": "stream",
     "text": [
      "[CV 3/5] END logreg__C=0.1, logreg__class_weight=balanced, logreg__max_iter=5000, logreg__solver=sag;, score=0.622 total time=   8.1s\n",
      "[CV 4/5] END logreg__C=0.1, logreg__class_weight=balanced, logreg__max_iter=5000, logreg__solver=sag;, score=0.629 total time=   7.4s\n"
     ]
    },
    {
     "name": "stderr",
     "output_type": "stream",
     "text": [
      "C:\\Users\\42ben\\anaconda3\\envs\\learn-env\\lib\\site-packages\\sklearn\\linear_model\\_sag.py:350: ConvergenceWarning: The max_iter was reached which means the coef_ did not converge\n",
      "  warnings.warn(\n"
     ]
    },
    {
     "name": "stdout",
     "output_type": "stream",
     "text": [
      "[CV 5/5] END logreg__C=0.1, logreg__class_weight=balanced, logreg__max_iter=5000, logreg__solver=sag;, score=0.629 total time=   8.0s\n",
      "[CV 1/5] END logreg__C=0.1, logreg__class_weight=balanced, logreg__max_iter=5000, logreg__solver=newton-cg;, score=0.610 total time=   0.2s\n",
      "[CV 2/5] END logreg__C=0.1, logreg__class_weight=balanced, logreg__max_iter=5000, logreg__solver=newton-cg;, score=0.640 total time=   0.2s\n",
      "[CV 3/5] END logreg__C=0.1, logreg__class_weight=balanced, logreg__max_iter=5000, logreg__solver=newton-cg;, score=0.624 total time=   0.2s\n",
      "[CV 4/5] END logreg__C=0.1, logreg__class_weight=balanced, logreg__max_iter=5000, logreg__solver=newton-cg;, score=0.629 total time=   0.2s\n",
      "[CV 5/5] END logreg__C=0.1, logreg__class_weight=balanced, logreg__max_iter=5000, logreg__solver=newton-cg;, score=0.633 total time=   0.2s\n"
     ]
    },
    {
     "name": "stderr",
     "output_type": "stream",
     "text": [
      "C:\\Users\\42ben\\anaconda3\\envs\\learn-env\\lib\\site-packages\\sklearn\\linear_model\\_sag.py:350: ConvergenceWarning: The max_iter was reached which means the coef_ did not converge\n",
      "  warnings.warn(\n"
     ]
    },
    {
     "name": "stdout",
     "output_type": "stream",
     "text": [
      "[CV 1/5] END logreg__C=0.1, logreg__class_weight=balanced, logreg__max_iter=5000, logreg__solver=saga;, score=0.606 total time=   8.9s\n"
     ]
    },
    {
     "name": "stderr",
     "output_type": "stream",
     "text": [
      "C:\\Users\\42ben\\anaconda3\\envs\\learn-env\\lib\\site-packages\\sklearn\\linear_model\\_sag.py:350: ConvergenceWarning: The max_iter was reached which means the coef_ did not converge\n",
      "  warnings.warn(\n"
     ]
    },
    {
     "name": "stdout",
     "output_type": "stream",
     "text": [
      "[CV 2/5] END logreg__C=0.1, logreg__class_weight=balanced, logreg__max_iter=5000, logreg__solver=saga;, score=0.651 total time=   8.6s\n"
     ]
    },
    {
     "name": "stderr",
     "output_type": "stream",
     "text": [
      "C:\\Users\\42ben\\anaconda3\\envs\\learn-env\\lib\\site-packages\\sklearn\\linear_model\\_sag.py:350: ConvergenceWarning: The max_iter was reached which means the coef_ did not converge\n",
      "  warnings.warn(\n"
     ]
    },
    {
     "name": "stdout",
     "output_type": "stream",
     "text": [
      "[CV 3/5] END logreg__C=0.1, logreg__class_weight=balanced, logreg__max_iter=5000, logreg__solver=saga;, score=0.622 total time=   8.7s\n"
     ]
    },
    {
     "name": "stderr",
     "output_type": "stream",
     "text": [
      "C:\\Users\\42ben\\anaconda3\\envs\\learn-env\\lib\\site-packages\\sklearn\\linear_model\\_sag.py:350: ConvergenceWarning: The max_iter was reached which means the coef_ did not converge\n",
      "  warnings.warn(\n"
     ]
    },
    {
     "name": "stdout",
     "output_type": "stream",
     "text": [
      "[CV 4/5] END logreg__C=0.1, logreg__class_weight=balanced, logreg__max_iter=5000, logreg__solver=saga;, score=0.628 total time=   8.7s\n"
     ]
    },
    {
     "name": "stderr",
     "output_type": "stream",
     "text": [
      "C:\\Users\\42ben\\anaconda3\\envs\\learn-env\\lib\\site-packages\\sklearn\\linear_model\\_sag.py:350: ConvergenceWarning: The max_iter was reached which means the coef_ did not converge\n",
      "  warnings.warn(\n"
     ]
    },
    {
     "name": "stdout",
     "output_type": "stream",
     "text": [
      "[CV 5/5] END logreg__C=0.1, logreg__class_weight=balanced, logreg__max_iter=5000, logreg__solver=saga;, score=0.631 total time=   8.7s\n",
      "[CV 1/5] END logreg__C=0.1, logreg__class_weight=[4, 1, 2], logreg__max_iter=5000, logreg__solver=lbfgs;, score=nan total time=   0.0s\n",
      "[CV 2/5] END logreg__C=0.1, logreg__class_weight=[4, 1, 2], logreg__max_iter=5000, logreg__solver=lbfgs;, score=nan total time=   0.0s\n",
      "[CV 3/5] END logreg__C=0.1, logreg__class_weight=[4, 1, 2], logreg__max_iter=5000, logreg__solver=lbfgs;, score=nan total time=   0.0s\n",
      "[CV 4/5] END logreg__C=0.1, logreg__class_weight=[4, 1, 2], logreg__max_iter=5000, logreg__solver=lbfgs;, score=nan total time=   0.0s\n",
      "[CV 5/5] END logreg__C=0.1, logreg__class_weight=[4, 1, 2], logreg__max_iter=5000, logreg__solver=lbfgs;, score=nan total time=   0.0s\n",
      "[CV 1/5] END logreg__C=0.1, logreg__class_weight=[4, 1, 2], logreg__max_iter=5000, logreg__solver=sag;, score=nan total time=   0.0s\n",
      "[CV 2/5] END logreg__C=0.1, logreg__class_weight=[4, 1, 2], logreg__max_iter=5000, logreg__solver=sag;, score=nan total time=   0.0s\n",
      "[CV 3/5] END logreg__C=0.1, logreg__class_weight=[4, 1, 2], logreg__max_iter=5000, logreg__solver=sag;, score=nan total time=   0.0s\n",
      "[CV 4/5] END logreg__C=0.1, logreg__class_weight=[4, 1, 2], logreg__max_iter=5000, logreg__solver=sag;, score=nan total time=   0.0s\n",
      "[CV 5/5] END logreg__C=0.1, logreg__class_weight=[4, 1, 2], logreg__max_iter=5000, logreg__solver=sag;, score=nan total time=   0.0s\n",
      "[CV 1/5] END logreg__C=0.1, logreg__class_weight=[4, 1, 2], logreg__max_iter=5000, logreg__solver=newton-cg;, score=nan total time=   0.0s\n",
      "[CV 2/5] END logreg__C=0.1, logreg__class_weight=[4, 1, 2], logreg__max_iter=5000, logreg__solver=newton-cg;, score=nan total time=   0.0s\n",
      "[CV 3/5] END logreg__C=0.1, logreg__class_weight=[4, 1, 2], logreg__max_iter=5000, logreg__solver=newton-cg;, score=nan total time=   0.0s\n",
      "[CV 4/5] END logreg__C=0.1, logreg__class_weight=[4, 1, 2], logreg__max_iter=5000, logreg__solver=newton-cg;, score=nan total time=   0.0s\n",
      "[CV 5/5] END logreg__C=0.1, logreg__class_weight=[4, 1, 2], logreg__max_iter=5000, logreg__solver=newton-cg;, score=nan total time=   0.0s\n",
      "[CV 1/5] END logreg__C=0.1, logreg__class_weight=[4, 1, 2], logreg__max_iter=5000, logreg__solver=saga;, score=nan total time=   0.0s\n",
      "[CV 2/5] END logreg__C=0.1, logreg__class_weight=[4, 1, 2], logreg__max_iter=5000, logreg__solver=saga;, score=nan total time=   0.0s\n",
      "[CV 3/5] END logreg__C=0.1, logreg__class_weight=[4, 1, 2], logreg__max_iter=5000, logreg__solver=saga;, score=nan total time=   0.0s\n",
      "[CV 4/5] END logreg__C=0.1, logreg__class_weight=[4, 1, 2], logreg__max_iter=5000, logreg__solver=saga;, score=nan total time=   0.0s\n",
      "[CV 5/5] END logreg__C=0.1, logreg__class_weight=[4, 1, 2], logreg__max_iter=5000, logreg__solver=saga;, score=nan total time=   0.0s\n",
      "[CV 1/5] END logreg__C=1, logreg__class_weight=None, logreg__max_iter=5000, logreg__solver=lbfgs;, score=0.685 total time=   0.3s\n",
      "[CV 2/5] END logreg__C=1, logreg__class_weight=None, logreg__max_iter=5000, logreg__solver=lbfgs;, score=0.694 total time=   0.5s\n",
      "[CV 3/5] END logreg__C=1, logreg__class_weight=None, logreg__max_iter=5000, logreg__solver=lbfgs;, score=0.683 total time=   0.3s\n",
      "[CV 4/5] END logreg__C=1, logreg__class_weight=None, logreg__max_iter=5000, logreg__solver=lbfgs;, score=0.690 total time=   0.3s\n",
      "[CV 5/5] END logreg__C=1, logreg__class_weight=None, logreg__max_iter=5000, logreg__solver=lbfgs;, score=0.690 total time=   0.3s\n",
      "[CV 1/5] END logreg__C=1, logreg__class_weight=None, logreg__max_iter=5000, logreg__solver=sag;, score=0.685 total time=   0.2s\n",
      "[CV 2/5] END logreg__C=1, logreg__class_weight=None, logreg__max_iter=5000, logreg__solver=sag;, score=0.694 total time=   0.1s\n",
      "[CV 3/5] END logreg__C=1, logreg__class_weight=None, logreg__max_iter=5000, logreg__solver=sag;, score=0.683 total time=   0.1s\n",
      "[CV 4/5] END logreg__C=1, logreg__class_weight=None, logreg__max_iter=5000, logreg__solver=sag;, score=0.690 total time=   0.1s\n",
      "[CV 5/5] END logreg__C=1, logreg__class_weight=None, logreg__max_iter=5000, logreg__solver=sag;, score=0.690 total time=   0.1s\n",
      "[CV 1/5] END logreg__C=1, logreg__class_weight=None, logreg__max_iter=5000, logreg__solver=newton-cg;, score=0.685 total time=   0.3s\n",
      "[CV 2/5] END logreg__C=1, logreg__class_weight=None, logreg__max_iter=5000, logreg__solver=newton-cg;, score=0.694 total time=   0.2s\n",
      "[CV 3/5] END logreg__C=1, logreg__class_weight=None, logreg__max_iter=5000, logreg__solver=newton-cg;, score=0.683 total time=   0.2s\n",
      "[CV 4/5] END logreg__C=1, logreg__class_weight=None, logreg__max_iter=5000, logreg__solver=newton-cg;, score=0.690 total time=   0.2s\n",
      "[CV 5/5] END logreg__C=1, logreg__class_weight=None, logreg__max_iter=5000, logreg__solver=newton-cg;, score=0.690 total time=   0.2s\n",
      "[CV 1/5] END logreg__C=1, logreg__class_weight=None, logreg__max_iter=5000, logreg__solver=saga;, score=0.685 total time=   0.4s\n",
      "[CV 2/5] END logreg__C=1, logreg__class_weight=None, logreg__max_iter=5000, logreg__solver=saga;, score=0.695 total time=   0.4s\n",
      "[CV 3/5] END logreg__C=1, logreg__class_weight=None, logreg__max_iter=5000, logreg__solver=saga;, score=0.683 total time=   0.3s\n",
      "[CV 4/5] END logreg__C=1, logreg__class_weight=None, logreg__max_iter=5000, logreg__solver=saga;, score=0.690 total time=   0.4s\n",
      "[CV 5/5] END logreg__C=1, logreg__class_weight=None, logreg__max_iter=5000, logreg__solver=saga;, score=0.692 total time=   0.4s\n",
      "[CV 1/5] END logreg__C=1, logreg__class_weight=balanced, logreg__max_iter=5000, logreg__solver=lbfgs;, score=0.641 total time=   0.3s\n",
      "[CV 2/5] END logreg__C=1, logreg__class_weight=balanced, logreg__max_iter=5000, logreg__solver=lbfgs;, score=0.665 total time=   0.3s\n",
      "[CV 3/5] END logreg__C=1, logreg__class_weight=balanced, logreg__max_iter=5000, logreg__solver=lbfgs;, score=0.645 total time=   0.5s\n",
      "[CV 4/5] END logreg__C=1, logreg__class_weight=balanced, logreg__max_iter=5000, logreg__solver=lbfgs;, score=0.654 total time=   0.3s\n",
      "[CV 5/5] END logreg__C=1, logreg__class_weight=balanced, logreg__max_iter=5000, logreg__solver=lbfgs;, score=0.649 total time=   0.3s\n"
     ]
    },
    {
     "name": "stderr",
     "output_type": "stream",
     "text": [
      "C:\\Users\\42ben\\anaconda3\\envs\\learn-env\\lib\\site-packages\\sklearn\\linear_model\\_sag.py:350: ConvergenceWarning: The max_iter was reached which means the coef_ did not converge\n",
      "  warnings.warn(\n"
     ]
    },
    {
     "name": "stdout",
     "output_type": "stream",
     "text": [
      "[CV 1/5] END logreg__C=1, logreg__class_weight=balanced, logreg__max_iter=5000, logreg__solver=sag;, score=0.637 total time=   7.9s\n"
     ]
    },
    {
     "name": "stderr",
     "output_type": "stream",
     "text": [
      "C:\\Users\\42ben\\anaconda3\\envs\\learn-env\\lib\\site-packages\\sklearn\\linear_model\\_sag.py:350: ConvergenceWarning: The max_iter was reached which means the coef_ did not converge\n",
      "  warnings.warn(\n"
     ]
    },
    {
     "name": "stdout",
     "output_type": "stream",
     "text": [
      "[CV 2/5] END logreg__C=1, logreg__class_weight=balanced, logreg__max_iter=5000, logreg__solver=sag;, score=0.668 total time=   7.9s\n"
     ]
    },
    {
     "name": "stderr",
     "output_type": "stream",
     "text": [
      "C:\\Users\\42ben\\anaconda3\\envs\\learn-env\\lib\\site-packages\\sklearn\\linear_model\\_sag.py:350: ConvergenceWarning: The max_iter was reached which means the coef_ did not converge\n",
      "  warnings.warn(\n"
     ]
    },
    {
     "name": "stdout",
     "output_type": "stream",
     "text": [
      "[CV 3/5] END logreg__C=1, logreg__class_weight=balanced, logreg__max_iter=5000, logreg__solver=sag;, score=0.643 total time=   8.1s\n"
     ]
    },
    {
     "name": "stderr",
     "output_type": "stream",
     "text": [
      "C:\\Users\\42ben\\anaconda3\\envs\\learn-env\\lib\\site-packages\\sklearn\\linear_model\\_sag.py:350: ConvergenceWarning: The max_iter was reached which means the coef_ did not converge\n",
      "  warnings.warn(\n"
     ]
    },
    {
     "name": "stdout",
     "output_type": "stream",
     "text": [
      "[CV 4/5] END logreg__C=1, logreg__class_weight=balanced, logreg__max_iter=5000, logreg__solver=sag;, score=0.653 total time=   8.1s\n"
     ]
    },
    {
     "name": "stderr",
     "output_type": "stream",
     "text": [
      "C:\\Users\\42ben\\anaconda3\\envs\\learn-env\\lib\\site-packages\\sklearn\\linear_model\\_sag.py:350: ConvergenceWarning: The max_iter was reached which means the coef_ did not converge\n",
      "  warnings.warn(\n"
     ]
    },
    {
     "name": "stdout",
     "output_type": "stream",
     "text": [
      "[CV 5/5] END logreg__C=1, logreg__class_weight=balanced, logreg__max_iter=5000, logreg__solver=sag;, score=0.646 total time=   7.9s\n",
      "[CV 1/5] END logreg__C=1, logreg__class_weight=balanced, logreg__max_iter=5000, logreg__solver=newton-cg;, score=0.641 total time=   0.2s\n",
      "[CV 2/5] END logreg__C=1, logreg__class_weight=balanced, logreg__max_iter=5000, logreg__solver=newton-cg;, score=0.665 total time=   0.2s\n",
      "[CV 3/5] END logreg__C=1, logreg__class_weight=balanced, logreg__max_iter=5000, logreg__solver=newton-cg;, score=0.645 total time=   0.2s\n",
      "[CV 4/5] END logreg__C=1, logreg__class_weight=balanced, logreg__max_iter=5000, logreg__solver=newton-cg;, score=0.654 total time=   0.2s\n",
      "[CV 5/5] END logreg__C=1, logreg__class_weight=balanced, logreg__max_iter=5000, logreg__solver=newton-cg;, score=0.649 total time=   0.2s\n"
     ]
    },
    {
     "name": "stderr",
     "output_type": "stream",
     "text": [
      "C:\\Users\\42ben\\anaconda3\\envs\\learn-env\\lib\\site-packages\\sklearn\\linear_model\\_sag.py:350: ConvergenceWarning: The max_iter was reached which means the coef_ did not converge\n",
      "  warnings.warn(\n"
     ]
    },
    {
     "name": "stdout",
     "output_type": "stream",
     "text": [
      "[CV 1/5] END logreg__C=1, logreg__class_weight=balanced, logreg__max_iter=5000, logreg__solver=saga;, score=0.640 total time=   8.4s\n"
     ]
    },
    {
     "name": "stderr",
     "output_type": "stream",
     "text": [
      "C:\\Users\\42ben\\anaconda3\\envs\\learn-env\\lib\\site-packages\\sklearn\\linear_model\\_sag.py:350: ConvergenceWarning: The max_iter was reached which means the coef_ did not converge\n",
      "  warnings.warn(\n"
     ]
    },
    {
     "name": "stdout",
     "output_type": "stream",
     "text": [
      "[CV 2/5] END logreg__C=1, logreg__class_weight=balanced, logreg__max_iter=5000, logreg__solver=saga;, score=0.665 total time=   8.3s\n"
     ]
    },
    {
     "name": "stderr",
     "output_type": "stream",
     "text": [
      "C:\\Users\\42ben\\anaconda3\\envs\\learn-env\\lib\\site-packages\\sklearn\\linear_model\\_sag.py:350: ConvergenceWarning: The max_iter was reached which means the coef_ did not converge\n",
      "  warnings.warn(\n"
     ]
    },
    {
     "name": "stdout",
     "output_type": "stream",
     "text": [
      "[CV 3/5] END logreg__C=1, logreg__class_weight=balanced, logreg__max_iter=5000, logreg__solver=saga;, score=0.646 total time=   8.4s\n"
     ]
    },
    {
     "name": "stderr",
     "output_type": "stream",
     "text": [
      "C:\\Users\\42ben\\anaconda3\\envs\\learn-env\\lib\\site-packages\\sklearn\\linear_model\\_sag.py:350: ConvergenceWarning: The max_iter was reached which means the coef_ did not converge\n",
      "  warnings.warn(\n"
     ]
    },
    {
     "name": "stdout",
     "output_type": "stream",
     "text": [
      "[CV 4/5] END logreg__C=1, logreg__class_weight=balanced, logreg__max_iter=5000, logreg__solver=saga;, score=0.657 total time=   8.4s\n"
     ]
    },
    {
     "name": "stderr",
     "output_type": "stream",
     "text": [
      "C:\\Users\\42ben\\anaconda3\\envs\\learn-env\\lib\\site-packages\\sklearn\\linear_model\\_sag.py:350: ConvergenceWarning: The max_iter was reached which means the coef_ did not converge\n",
      "  warnings.warn(\n"
     ]
    },
    {
     "name": "stdout",
     "output_type": "stream",
     "text": [
      "[CV 5/5] END logreg__C=1, logreg__class_weight=balanced, logreg__max_iter=5000, logreg__solver=saga;, score=0.649 total time=   8.4s\n",
      "[CV 1/5] END logreg__C=1, logreg__class_weight=[4, 1, 2], logreg__max_iter=5000, logreg__solver=lbfgs;, score=nan total time=   0.0s\n",
      "[CV 2/5] END logreg__C=1, logreg__class_weight=[4, 1, 2], logreg__max_iter=5000, logreg__solver=lbfgs;, score=nan total time=   0.0s\n",
      "[CV 3/5] END logreg__C=1, logreg__class_weight=[4, 1, 2], logreg__max_iter=5000, logreg__solver=lbfgs;, score=nan total time=   0.0s\n",
      "[CV 4/5] END logreg__C=1, logreg__class_weight=[4, 1, 2], logreg__max_iter=5000, logreg__solver=lbfgs;, score=nan total time=   0.0s\n",
      "[CV 5/5] END logreg__C=1, logreg__class_weight=[4, 1, 2], logreg__max_iter=5000, logreg__solver=lbfgs;, score=nan total time=   0.0s\n",
      "[CV 1/5] END logreg__C=1, logreg__class_weight=[4, 1, 2], logreg__max_iter=5000, logreg__solver=sag;, score=nan total time=   0.0s\n",
      "[CV 2/5] END logreg__C=1, logreg__class_weight=[4, 1, 2], logreg__max_iter=5000, logreg__solver=sag;, score=nan total time=   0.0s\n",
      "[CV 3/5] END logreg__C=1, logreg__class_weight=[4, 1, 2], logreg__max_iter=5000, logreg__solver=sag;, score=nan total time=   0.0s\n",
      "[CV 4/5] END logreg__C=1, logreg__class_weight=[4, 1, 2], logreg__max_iter=5000, logreg__solver=sag;, score=nan total time=   0.0s\n",
      "[CV 5/5] END logreg__C=1, logreg__class_weight=[4, 1, 2], logreg__max_iter=5000, logreg__solver=sag;, score=nan total time=   0.0s\n",
      "[CV 1/5] END logreg__C=1, logreg__class_weight=[4, 1, 2], logreg__max_iter=5000, logreg__solver=newton-cg;, score=nan total time=   0.0s\n",
      "[CV 2/5] END logreg__C=1, logreg__class_weight=[4, 1, 2], logreg__max_iter=5000, logreg__solver=newton-cg;, score=nan total time=   0.0s\n",
      "[CV 3/5] END logreg__C=1, logreg__class_weight=[4, 1, 2], logreg__max_iter=5000, logreg__solver=newton-cg;, score=nan total time=   0.0s\n",
      "[CV 4/5] END logreg__C=1, logreg__class_weight=[4, 1, 2], logreg__max_iter=5000, logreg__solver=newton-cg;, score=nan total time=   0.0s\n",
      "[CV 5/5] END logreg__C=1, logreg__class_weight=[4, 1, 2], logreg__max_iter=5000, logreg__solver=newton-cg;, score=nan total time=   0.0s\n",
      "[CV 1/5] END logreg__C=1, logreg__class_weight=[4, 1, 2], logreg__max_iter=5000, logreg__solver=saga;, score=nan total time=   0.0s\n",
      "[CV 2/5] END logreg__C=1, logreg__class_weight=[4, 1, 2], logreg__max_iter=5000, logreg__solver=saga;, score=nan total time=   0.0s\n",
      "[CV 3/5] END logreg__C=1, logreg__class_weight=[4, 1, 2], logreg__max_iter=5000, logreg__solver=saga;, score=nan total time=   0.0s\n",
      "[CV 4/5] END logreg__C=1, logreg__class_weight=[4, 1, 2], logreg__max_iter=5000, logreg__solver=saga;, score=nan total time=   0.0s\n",
      "[CV 5/5] END logreg__C=1, logreg__class_weight=[4, 1, 2], logreg__max_iter=5000, logreg__solver=saga;, score=nan total time=   0.0s\n",
      "[CV 1/5] END logreg__C=10, logreg__class_weight=None, logreg__max_iter=5000, logreg__solver=lbfgs;, score=0.660 total time=   0.7s\n",
      "[CV 2/5] END logreg__C=10, logreg__class_weight=None, logreg__max_iter=5000, logreg__solver=lbfgs;, score=0.670 total time=   0.7s\n",
      "[CV 3/5] END logreg__C=10, logreg__class_weight=None, logreg__max_iter=5000, logreg__solver=lbfgs;, score=0.655 total time=   0.7s\n",
      "[CV 4/5] END logreg__C=10, logreg__class_weight=None, logreg__max_iter=5000, logreg__solver=lbfgs;, score=0.675 total time=   0.6s\n",
      "[CV 5/5] END logreg__C=10, logreg__class_weight=None, logreg__max_iter=5000, logreg__solver=lbfgs;, score=0.680 total time=   0.8s\n",
      "[CV 1/5] END logreg__C=10, logreg__class_weight=None, logreg__max_iter=5000, logreg__solver=sag;, score=0.661 total time=   0.5s\n",
      "[CV 2/5] END logreg__C=10, logreg__class_weight=None, logreg__max_iter=5000, logreg__solver=sag;, score=0.670 total time=   0.5s\n",
      "[CV 3/5] END logreg__C=10, logreg__class_weight=None, logreg__max_iter=5000, logreg__solver=sag;, score=0.655 total time=   0.5s\n",
      "[CV 4/5] END logreg__C=10, logreg__class_weight=None, logreg__max_iter=5000, logreg__solver=sag;, score=0.674 total time=   0.5s\n",
      "[CV 5/5] END logreg__C=10, logreg__class_weight=None, logreg__max_iter=5000, logreg__solver=sag;, score=0.680 total time=   0.6s\n",
      "[CV 1/5] END logreg__C=10, logreg__class_weight=None, logreg__max_iter=5000, logreg__solver=newton-cg;, score=0.661 total time=   0.5s\n",
      "[CV 2/5] END logreg__C=10, logreg__class_weight=None, logreg__max_iter=5000, logreg__solver=newton-cg;, score=0.670 total time=   0.4s\n",
      "[CV 3/5] END logreg__C=10, logreg__class_weight=None, logreg__max_iter=5000, logreg__solver=newton-cg;, score=0.655 total time=   0.6s\n",
      "[CV 4/5] END logreg__C=10, logreg__class_weight=None, logreg__max_iter=5000, logreg__solver=newton-cg;, score=0.675 total time=   0.4s\n",
      "[CV 5/5] END logreg__C=10, logreg__class_weight=None, logreg__max_iter=5000, logreg__solver=newton-cg;, score=0.680 total time=   0.5s\n",
      "[CV 1/5] END logreg__C=10, logreg__class_weight=None, logreg__max_iter=5000, logreg__solver=saga;, score=0.661 total time=   1.2s\n",
      "[CV 2/5] END logreg__C=10, logreg__class_weight=None, logreg__max_iter=5000, logreg__solver=saga;, score=0.670 total time=   1.0s\n",
      "[CV 3/5] END logreg__C=10, logreg__class_weight=None, logreg__max_iter=5000, logreg__solver=saga;, score=0.654 total time=   1.0s\n",
      "[CV 4/5] END logreg__C=10, logreg__class_weight=None, logreg__max_iter=5000, logreg__solver=saga;, score=0.674 total time=   1.2s\n",
      "[CV 5/5] END logreg__C=10, logreg__class_weight=None, logreg__max_iter=5000, logreg__solver=saga;, score=0.679 total time=   1.2s\n",
      "[CV 1/5] END logreg__C=10, logreg__class_weight=balanced, logreg__max_iter=5000, logreg__solver=lbfgs;, score=0.632 total time=   0.7s\n",
      "[CV 2/5] END logreg__C=10, logreg__class_weight=balanced, logreg__max_iter=5000, logreg__solver=lbfgs;, score=0.644 total time=   0.7s\n",
      "[CV 3/5] END logreg__C=10, logreg__class_weight=balanced, logreg__max_iter=5000, logreg__solver=lbfgs;, score=0.634 total time=   0.7s\n",
      "[CV 4/5] END logreg__C=10, logreg__class_weight=balanced, logreg__max_iter=5000, logreg__solver=lbfgs;, score=0.659 total time=   0.7s\n",
      "[CV 5/5] END logreg__C=10, logreg__class_weight=balanced, logreg__max_iter=5000, logreg__solver=lbfgs;, score=0.649 total time=   0.7s\n",
      "[CV 1/5] END logreg__C=10, logreg__class_weight=balanced, logreg__max_iter=5000, logreg__solver=sag;, score=0.632 total time=   0.6s\n",
      "[CV 2/5] END logreg__C=10, logreg__class_weight=balanced, logreg__max_iter=5000, logreg__solver=sag;, score=0.644 total time=   0.8s\n",
      "[CV 3/5] END logreg__C=10, logreg__class_weight=balanced, logreg__max_iter=5000, logreg__solver=sag;, score=0.635 total time=   0.5s\n",
      "[CV 4/5] END logreg__C=10, logreg__class_weight=balanced, logreg__max_iter=5000, logreg__solver=sag;, score=0.659 total time=   1.2s\n",
      "[CV 5/5] END logreg__C=10, logreg__class_weight=balanced, logreg__max_iter=5000, logreg__solver=sag;, score=0.648 total time=   0.7s\n",
      "[CV 1/5] END logreg__C=10, logreg__class_weight=balanced, logreg__max_iter=5000, logreg__solver=newton-cg;, score=0.632 total time=   0.4s\n",
      "[CV 2/5] END logreg__C=10, logreg__class_weight=balanced, logreg__max_iter=5000, logreg__solver=newton-cg;, score=0.644 total time=   0.4s\n",
      "[CV 3/5] END logreg__C=10, logreg__class_weight=balanced, logreg__max_iter=5000, logreg__solver=newton-cg;, score=0.634 total time=   0.4s\n",
      "[CV 4/5] END logreg__C=10, logreg__class_weight=balanced, logreg__max_iter=5000, logreg__solver=newton-cg;, score=0.659 total time=   0.4s\n",
      "[CV 5/5] END logreg__C=10, logreg__class_weight=balanced, logreg__max_iter=5000, logreg__solver=newton-cg;, score=0.649 total time=   0.4s\n"
     ]
    },
    {
     "name": "stderr",
     "output_type": "stream",
     "text": [
      "C:\\Users\\42ben\\anaconda3\\envs\\learn-env\\lib\\site-packages\\sklearn\\linear_model\\_sag.py:350: ConvergenceWarning: The max_iter was reached which means the coef_ did not converge\n",
      "  warnings.warn(\n"
     ]
    },
    {
     "name": "stdout",
     "output_type": "stream",
     "text": [
      "[CV 1/5] END logreg__C=10, logreg__class_weight=balanced, logreg__max_iter=5000, logreg__solver=saga;, score=0.633 total time=   9.0s\n"
     ]
    },
    {
     "name": "stderr",
     "output_type": "stream",
     "text": [
      "C:\\Users\\42ben\\anaconda3\\envs\\learn-env\\lib\\site-packages\\sklearn\\linear_model\\_sag.py:350: ConvergenceWarning: The max_iter was reached which means the coef_ did not converge\n",
      "  warnings.warn(\n"
     ]
    },
    {
     "name": "stdout",
     "output_type": "stream",
     "text": [
      "[CV 2/5] END logreg__C=10, logreg__class_weight=balanced, logreg__max_iter=5000, logreg__solver=saga;, score=0.647 total time=   9.1s\n"
     ]
    },
    {
     "name": "stderr",
     "output_type": "stream",
     "text": [
      "C:\\Users\\42ben\\anaconda3\\envs\\learn-env\\lib\\site-packages\\sklearn\\linear_model\\_sag.py:350: ConvergenceWarning: The max_iter was reached which means the coef_ did not converge\n",
      "  warnings.warn(\n"
     ]
    },
    {
     "name": "stdout",
     "output_type": "stream",
     "text": [
      "[CV 3/5] END logreg__C=10, logreg__class_weight=balanced, logreg__max_iter=5000, logreg__solver=saga;, score=0.634 total time=   9.4s\n"
     ]
    },
    {
     "name": "stderr",
     "output_type": "stream",
     "text": [
      "C:\\Users\\42ben\\anaconda3\\envs\\learn-env\\lib\\site-packages\\sklearn\\linear_model\\_sag.py:350: ConvergenceWarning: The max_iter was reached which means the coef_ did not converge\n",
      "  warnings.warn(\n"
     ]
    },
    {
     "name": "stdout",
     "output_type": "stream",
     "text": [
      "[CV 4/5] END logreg__C=10, logreg__class_weight=balanced, logreg__max_iter=5000, logreg__solver=saga;, score=0.660 total time=   9.1s\n"
     ]
    },
    {
     "name": "stderr",
     "output_type": "stream",
     "text": [
      "C:\\Users\\42ben\\anaconda3\\envs\\learn-env\\lib\\site-packages\\sklearn\\linear_model\\_sag.py:350: ConvergenceWarning: The max_iter was reached which means the coef_ did not converge\n",
      "  warnings.warn(\n"
     ]
    },
    {
     "name": "stdout",
     "output_type": "stream",
     "text": [
      "[CV 5/5] END logreg__C=10, logreg__class_weight=balanced, logreg__max_iter=5000, logreg__solver=saga;, score=0.649 total time=   8.7s\n",
      "[CV 1/5] END logreg__C=10, logreg__class_weight=[4, 1, 2], logreg__max_iter=5000, logreg__solver=lbfgs;, score=nan total time=   0.0s\n",
      "[CV 2/5] END logreg__C=10, logreg__class_weight=[4, 1, 2], logreg__max_iter=5000, logreg__solver=lbfgs;, score=nan total time=   0.0s\n",
      "[CV 3/5] END logreg__C=10, logreg__class_weight=[4, 1, 2], logreg__max_iter=5000, logreg__solver=lbfgs;, score=nan total time=   0.0s\n",
      "[CV 4/5] END logreg__C=10, logreg__class_weight=[4, 1, 2], logreg__max_iter=5000, logreg__solver=lbfgs;, score=nan total time=   0.0s\n",
      "[CV 5/5] END logreg__C=10, logreg__class_weight=[4, 1, 2], logreg__max_iter=5000, logreg__solver=lbfgs;, score=nan total time=   0.0s\n",
      "[CV 1/5] END logreg__C=10, logreg__class_weight=[4, 1, 2], logreg__max_iter=5000, logreg__solver=sag;, score=nan total time=   0.0s\n",
      "[CV 2/5] END logreg__C=10, logreg__class_weight=[4, 1, 2], logreg__max_iter=5000, logreg__solver=sag;, score=nan total time=   0.0s\n",
      "[CV 3/5] END logreg__C=10, logreg__class_weight=[4, 1, 2], logreg__max_iter=5000, logreg__solver=sag;, score=nan total time=   0.0s\n",
      "[CV 4/5] END logreg__C=10, logreg__class_weight=[4, 1, 2], logreg__max_iter=5000, logreg__solver=sag;, score=nan total time=   0.0s\n",
      "[CV 5/5] END logreg__C=10, logreg__class_weight=[4, 1, 2], logreg__max_iter=5000, logreg__solver=sag;, score=nan total time=   0.0s\n",
      "[CV 1/5] END logreg__C=10, logreg__class_weight=[4, 1, 2], logreg__max_iter=5000, logreg__solver=newton-cg;, score=nan total time=   0.0s\n",
      "[CV 2/5] END logreg__C=10, logreg__class_weight=[4, 1, 2], logreg__max_iter=5000, logreg__solver=newton-cg;, score=nan total time=   0.0s\n",
      "[CV 3/5] END logreg__C=10, logreg__class_weight=[4, 1, 2], logreg__max_iter=5000, logreg__solver=newton-cg;, score=nan total time=   0.0s\n",
      "[CV 4/5] END logreg__C=10, logreg__class_weight=[4, 1, 2], logreg__max_iter=5000, logreg__solver=newton-cg;, score=nan total time=   0.0s\n",
      "[CV 5/5] END logreg__C=10, logreg__class_weight=[4, 1, 2], logreg__max_iter=5000, logreg__solver=newton-cg;, score=nan total time=   0.0s\n",
      "[CV 1/5] END logreg__C=10, logreg__class_weight=[4, 1, 2], logreg__max_iter=5000, logreg__solver=saga;, score=nan total time=   0.0s\n",
      "[CV 2/5] END logreg__C=10, logreg__class_weight=[4, 1, 2], logreg__max_iter=5000, logreg__solver=saga;, score=nan total time=   0.0s\n",
      "[CV 3/5] END logreg__C=10, logreg__class_weight=[4, 1, 2], logreg__max_iter=5000, logreg__solver=saga;, score=nan total time=   0.0s\n",
      "[CV 4/5] END logreg__C=10, logreg__class_weight=[4, 1, 2], logreg__max_iter=5000, logreg__solver=saga;, score=nan total time=   0.0s\n",
      "[CV 5/5] END logreg__C=10, logreg__class_weight=[4, 1, 2], logreg__max_iter=5000, logreg__solver=saga;, score=nan total time=   0.0s\n",
      "[CV 1/5] END logreg__C=100, logreg__class_weight=None, logreg__max_iter=5000, logreg__solver=lbfgs;, score=0.633 total time=   1.7s\n",
      "[CV 2/5] END logreg__C=100, logreg__class_weight=None, logreg__max_iter=5000, logreg__solver=lbfgs;, score=0.658 total time=   1.6s\n",
      "[CV 3/5] END logreg__C=100, logreg__class_weight=None, logreg__max_iter=5000, logreg__solver=lbfgs;, score=0.622 total time=   1.6s\n",
      "[CV 4/5] END logreg__C=100, logreg__class_weight=None, logreg__max_iter=5000, logreg__solver=lbfgs;, score=0.662 total time=   1.7s\n",
      "[CV 5/5] END logreg__C=100, logreg__class_weight=None, logreg__max_iter=5000, logreg__solver=lbfgs;, score=0.653 total time=   1.6s\n",
      "[CV 1/5] END logreg__C=100, logreg__class_weight=None, logreg__max_iter=5000, logreg__solver=sag;, score=0.633 total time=   1.7s\n",
      "[CV 2/5] END logreg__C=100, logreg__class_weight=None, logreg__max_iter=5000, logreg__solver=sag;, score=0.656 total time=   1.5s\n",
      "[CV 3/5] END logreg__C=100, logreg__class_weight=None, logreg__max_iter=5000, logreg__solver=sag;, score=0.621 total time=   1.7s\n",
      "[CV 4/5] END logreg__C=100, logreg__class_weight=None, logreg__max_iter=5000, logreg__solver=sag;, score=0.661 total time=   1.7s\n",
      "[CV 5/5] END logreg__C=100, logreg__class_weight=None, logreg__max_iter=5000, logreg__solver=sag;, score=0.655 total time=   1.8s\n",
      "[CV 1/5] END logreg__C=100, logreg__class_weight=None, logreg__max_iter=5000, logreg__solver=newton-cg;, score=0.633 total time=   1.0s\n",
      "[CV 2/5] END logreg__C=100, logreg__class_weight=None, logreg__max_iter=5000, logreg__solver=newton-cg;, score=0.658 total time=   1.1s\n",
      "[CV 3/5] END logreg__C=100, logreg__class_weight=None, logreg__max_iter=5000, logreg__solver=newton-cg;, score=0.622 total time=   1.0s\n",
      "[CV 4/5] END logreg__C=100, logreg__class_weight=None, logreg__max_iter=5000, logreg__solver=newton-cg;, score=0.662 total time=   1.1s\n",
      "[CV 5/5] END logreg__C=100, logreg__class_weight=None, logreg__max_iter=5000, logreg__solver=newton-cg;, score=0.653 total time=   0.8s\n",
      "[CV 1/5] END logreg__C=100, logreg__class_weight=None, logreg__max_iter=5000, logreg__solver=saga;, score=0.635 total time=   2.6s\n",
      "[CV 2/5] END logreg__C=100, logreg__class_weight=None, logreg__max_iter=5000, logreg__solver=saga;, score=0.659 total time=   2.4s\n",
      "[CV 3/5] END logreg__C=100, logreg__class_weight=None, logreg__max_iter=5000, logreg__solver=saga;, score=0.622 total time=   2.7s\n",
      "[CV 4/5] END logreg__C=100, logreg__class_weight=None, logreg__max_iter=5000, logreg__solver=saga;, score=0.660 total time=   2.9s\n",
      "[CV 5/5] END logreg__C=100, logreg__class_weight=None, logreg__max_iter=5000, logreg__solver=saga;, score=0.657 total time=   2.9s\n",
      "[CV 1/5] END logreg__C=100, logreg__class_weight=balanced, logreg__max_iter=5000, logreg__solver=lbfgs;, score=0.623 total time=   1.5s\n",
      "[CV 2/5] END logreg__C=100, logreg__class_weight=balanced, logreg__max_iter=5000, logreg__solver=lbfgs;, score=0.639 total time=   1.7s\n",
      "[CV 3/5] END logreg__C=100, logreg__class_weight=balanced, logreg__max_iter=5000, logreg__solver=lbfgs;, score=0.607 total time=   1.6s\n",
      "[CV 4/5] END logreg__C=100, logreg__class_weight=balanced, logreg__max_iter=5000, logreg__solver=lbfgs;, score=0.641 total time=   1.7s\n",
      "[CV 5/5] END logreg__C=100, logreg__class_weight=balanced, logreg__max_iter=5000, logreg__solver=lbfgs;, score=0.637 total time=   1.6s\n",
      "[CV 1/5] END logreg__C=100, logreg__class_weight=balanced, logreg__max_iter=5000, logreg__solver=sag;, score=0.622 total time=   2.4s\n",
      "[CV 2/5] END logreg__C=100, logreg__class_weight=balanced, logreg__max_iter=5000, logreg__solver=sag;, score=0.639 total time=   2.2s\n",
      "[CV 3/5] END logreg__C=100, logreg__class_weight=balanced, logreg__max_iter=5000, logreg__solver=sag;, score=0.608 total time=   2.3s\n",
      "[CV 4/5] END logreg__C=100, logreg__class_weight=balanced, logreg__max_iter=5000, logreg__solver=sag;, score=0.641 total time=   2.3s\n",
      "[CV 5/5] END logreg__C=100, logreg__class_weight=balanced, logreg__max_iter=5000, logreg__solver=sag;, score=0.640 total time=   2.0s\n",
      "[CV 1/5] END logreg__C=100, logreg__class_weight=balanced, logreg__max_iter=5000, logreg__solver=newton-cg;, score=0.623 total time=   0.8s\n",
      "[CV 2/5] END logreg__C=100, logreg__class_weight=balanced, logreg__max_iter=5000, logreg__solver=newton-cg;, score=0.639 total time=   1.0s\n",
      "[CV 3/5] END logreg__C=100, logreg__class_weight=balanced, logreg__max_iter=5000, logreg__solver=newton-cg;, score=0.607 total time=   0.7s\n",
      "[CV 4/5] END logreg__C=100, logreg__class_weight=balanced, logreg__max_iter=5000, logreg__solver=newton-cg;, score=0.641 total time=   0.7s\n",
      "[CV 5/5] END logreg__C=100, logreg__class_weight=balanced, logreg__max_iter=5000, logreg__solver=newton-cg;, score=0.637 total time=   0.7s\n"
     ]
    },
    {
     "name": "stderr",
     "output_type": "stream",
     "text": [
      "C:\\Users\\42ben\\anaconda3\\envs\\learn-env\\lib\\site-packages\\sklearn\\linear_model\\_sag.py:350: ConvergenceWarning: The max_iter was reached which means the coef_ did not converge\n",
      "  warnings.warn(\n"
     ]
    },
    {
     "name": "stdout",
     "output_type": "stream",
     "text": [
      "[CV 1/5] END logreg__C=100, logreg__class_weight=balanced, logreg__max_iter=5000, logreg__solver=saga;, score=0.623 total time=   8.8s\n"
     ]
    },
    {
     "name": "stderr",
     "output_type": "stream",
     "text": [
      "C:\\Users\\42ben\\anaconda3\\envs\\learn-env\\lib\\site-packages\\sklearn\\linear_model\\_sag.py:350: ConvergenceWarning: The max_iter was reached which means the coef_ did not converge\n",
      "  warnings.warn(\n"
     ]
    },
    {
     "name": "stdout",
     "output_type": "stream",
     "text": [
      "[CV 2/5] END logreg__C=100, logreg__class_weight=balanced, logreg__max_iter=5000, logreg__solver=saga;, score=0.640 total time=   8.6s\n"
     ]
    },
    {
     "name": "stderr",
     "output_type": "stream",
     "text": [
      "C:\\Users\\42ben\\anaconda3\\envs\\learn-env\\lib\\site-packages\\sklearn\\linear_model\\_sag.py:350: ConvergenceWarning: The max_iter was reached which means the coef_ did not converge\n",
      "  warnings.warn(\n"
     ]
    },
    {
     "name": "stdout",
     "output_type": "stream",
     "text": [
      "[CV 3/5] END logreg__C=100, logreg__class_weight=balanced, logreg__max_iter=5000, logreg__solver=saga;, score=0.607 total time=   8.4s\n"
     ]
    },
    {
     "name": "stderr",
     "output_type": "stream",
     "text": [
      "C:\\Users\\42ben\\anaconda3\\envs\\learn-env\\lib\\site-packages\\sklearn\\linear_model\\_sag.py:350: ConvergenceWarning: The max_iter was reached which means the coef_ did not converge\n",
      "  warnings.warn(\n"
     ]
    },
    {
     "name": "stdout",
     "output_type": "stream",
     "text": [
      "[CV 4/5] END logreg__C=100, logreg__class_weight=balanced, logreg__max_iter=5000, logreg__solver=saga;, score=0.643 total time=   8.6s\n"
     ]
    },
    {
     "name": "stderr",
     "output_type": "stream",
     "text": [
      "C:\\Users\\42ben\\anaconda3\\envs\\learn-env\\lib\\site-packages\\sklearn\\linear_model\\_sag.py:350: ConvergenceWarning: The max_iter was reached which means the coef_ did not converge\n",
      "  warnings.warn(\n"
     ]
    },
    {
     "name": "stdout",
     "output_type": "stream",
     "text": [
      "[CV 5/5] END logreg__C=100, logreg__class_weight=balanced, logreg__max_iter=5000, logreg__solver=saga;, score=0.639 total time=   8.7s\n",
      "[CV 1/5] END logreg__C=100, logreg__class_weight=[4, 1, 2], logreg__max_iter=5000, logreg__solver=lbfgs;, score=nan total time=   0.0s\n",
      "[CV 2/5] END logreg__C=100, logreg__class_weight=[4, 1, 2], logreg__max_iter=5000, logreg__solver=lbfgs;, score=nan total time=   0.0s\n",
      "[CV 3/5] END logreg__C=100, logreg__class_weight=[4, 1, 2], logreg__max_iter=5000, logreg__solver=lbfgs;, score=nan total time=   0.0s\n",
      "[CV 4/5] END logreg__C=100, logreg__class_weight=[4, 1, 2], logreg__max_iter=5000, logreg__solver=lbfgs;, score=nan total time=   0.0s\n",
      "[CV 5/5] END logreg__C=100, logreg__class_weight=[4, 1, 2], logreg__max_iter=5000, logreg__solver=lbfgs;, score=nan total time=   0.0s\n",
      "[CV 1/5] END logreg__C=100, logreg__class_weight=[4, 1, 2], logreg__max_iter=5000, logreg__solver=sag;, score=nan total time=   0.0s\n",
      "[CV 2/5] END logreg__C=100, logreg__class_weight=[4, 1, 2], logreg__max_iter=5000, logreg__solver=sag;, score=nan total time=   0.0s\n",
      "[CV 3/5] END logreg__C=100, logreg__class_weight=[4, 1, 2], logreg__max_iter=5000, logreg__solver=sag;, score=nan total time=   0.0s\n",
      "[CV 4/5] END logreg__C=100, logreg__class_weight=[4, 1, 2], logreg__max_iter=5000, logreg__solver=sag;, score=nan total time=   0.0s\n",
      "[CV 5/5] END logreg__C=100, logreg__class_weight=[4, 1, 2], logreg__max_iter=5000, logreg__solver=sag;, score=nan total time=   0.0s\n",
      "[CV 1/5] END logreg__C=100, logreg__class_weight=[4, 1, 2], logreg__max_iter=5000, logreg__solver=newton-cg;, score=nan total time=   0.0s\n",
      "[CV 2/5] END logreg__C=100, logreg__class_weight=[4, 1, 2], logreg__max_iter=5000, logreg__solver=newton-cg;, score=nan total time=   0.0s\n",
      "[CV 3/5] END logreg__C=100, logreg__class_weight=[4, 1, 2], logreg__max_iter=5000, logreg__solver=newton-cg;, score=nan total time=   0.0s\n",
      "[CV 4/5] END logreg__C=100, logreg__class_weight=[4, 1, 2], logreg__max_iter=5000, logreg__solver=newton-cg;, score=nan total time=   0.0s\n",
      "[CV 5/5] END logreg__C=100, logreg__class_weight=[4, 1, 2], logreg__max_iter=5000, logreg__solver=newton-cg;, score=nan total time=   0.0s\n",
      "[CV 1/5] END logreg__C=100, logreg__class_weight=[4, 1, 2], logreg__max_iter=5000, logreg__solver=saga;, score=nan total time=   0.0s\n",
      "[CV 2/5] END logreg__C=100, logreg__class_weight=[4, 1, 2], logreg__max_iter=5000, logreg__solver=saga;, score=nan total time=   0.0s\n",
      "[CV 3/5] END logreg__C=100, logreg__class_weight=[4, 1, 2], logreg__max_iter=5000, logreg__solver=saga;, score=nan total time=   0.0s\n",
      "[CV 4/5] END logreg__C=100, logreg__class_weight=[4, 1, 2], logreg__max_iter=5000, logreg__solver=saga;, score=nan total time=   0.0s\n",
      "[CV 5/5] END logreg__C=100, logreg__class_weight=[4, 1, 2], logreg__max_iter=5000, logreg__solver=saga;, score=nan total time=   0.0s\n"
     ]
    },
    {
     "name": "stderr",
     "output_type": "stream",
     "text": [
      "C:\\Users\\42ben\\anaconda3\\envs\\learn-env\\lib\\site-packages\\sklearn\\model_selection\\_validation.py:425: FitFailedWarning: \n",
      "80 fits failed out of a total of 240.\n",
      "The score on these train-test partitions for these parameters will be set to nan.\n",
      "If these failures are not expected, you can try to debug them by setting error_score='raise'.\n",
      "\n",
      "Below are more details about the failures:\n",
      "--------------------------------------------------------------------------------\n",
      "80 fits failed with the following error:\n",
      "Traceback (most recent call last):\n",
      "  File \"C:\\Users\\42ben\\anaconda3\\envs\\learn-env\\lib\\site-packages\\sklearn\\model_selection\\_validation.py\", line 732, in _fit_and_score\n",
      "    estimator.fit(X_train, y_train, **fit_params)\n",
      "  File \"C:\\Users\\42ben\\anaconda3\\envs\\learn-env\\lib\\site-packages\\sklearn\\base.py\", line 1151, in wrapper\n",
      "    return fit_method(estimator, *args, **kwargs)\n",
      "  File \"C:\\Users\\42ben\\anaconda3\\envs\\learn-env\\lib\\site-packages\\sklearn\\pipeline.py\", line 420, in fit\n",
      "    self._final_estimator.fit(Xt, y, **fit_params_last_step)\n",
      "  File \"C:\\Users\\42ben\\anaconda3\\envs\\learn-env\\lib\\site-packages\\sklearn\\base.py\", line 1144, in wrapper\n",
      "    estimator._validate_params()\n",
      "  File \"C:\\Users\\42ben\\anaconda3\\envs\\learn-env\\lib\\site-packages\\sklearn\\base.py\", line 637, in _validate_params\n",
      "    validate_parameter_constraints(\n",
      "  File \"C:\\Users\\42ben\\anaconda3\\envs\\learn-env\\lib\\site-packages\\sklearn\\utils\\_param_validation.py\", line 95, in validate_parameter_constraints\n",
      "    raise InvalidParameterError(\n",
      "sklearn.utils._param_validation.InvalidParameterError: The 'class_weight' parameter of LogisticRegression must be an instance of 'dict', a str among {'balanced'} or None. Got [4, 1, 2] instead.\n",
      "\n",
      "  warnings.warn(some_fits_failed_message, FitFailedWarning)\n",
      "C:\\Users\\42ben\\anaconda3\\envs\\learn-env\\lib\\site-packages\\sklearn\\model_selection\\_search.py:976: UserWarning: One or more of the test scores are non-finite: [0.68039434 0.68039434 0.68039434 0.68024508 0.62712689 0.62578372\n",
      " 0.62712689 0.62742429        nan        nan        nan        nan\n",
      " 0.68830167 0.68830167 0.68830167 0.68889846 0.65084989 0.64920821\n",
      " 0.65084989 0.65159627        nan        nan        nan        nan\n",
      " 0.6680104  0.66801028 0.66815954 0.66786092 0.64354091 0.64354091\n",
      " 0.64354091 0.64458502        nan        nan        nan        nan\n",
      " 0.64577738 0.64532995 0.64577738 0.64682171 0.62951317 0.6301103\n",
      " 0.62951317 0.63011008        nan        nan        nan        nan]\n",
      "  warnings.warn(\n"
     ]
    },
    {
     "data": {
      "text/html": [
       "<style>#sk-container-id-13 {color: black;}#sk-container-id-13 pre{padding: 0;}#sk-container-id-13 div.sk-toggleable {background-color: white;}#sk-container-id-13 label.sk-toggleable__label {cursor: pointer;display: block;width: 100%;margin-bottom: 0;padding: 0.3em;box-sizing: border-box;text-align: center;}#sk-container-id-13 label.sk-toggleable__label-arrow:before {content: \"▸\";float: left;margin-right: 0.25em;color: #696969;}#sk-container-id-13 label.sk-toggleable__label-arrow:hover:before {color: black;}#sk-container-id-13 div.sk-estimator:hover label.sk-toggleable__label-arrow:before {color: black;}#sk-container-id-13 div.sk-toggleable__content {max-height: 0;max-width: 0;overflow: hidden;text-align: left;background-color: #f0f8ff;}#sk-container-id-13 div.sk-toggleable__content pre {margin: 0.2em;color: black;border-radius: 0.25em;background-color: #f0f8ff;}#sk-container-id-13 input.sk-toggleable__control:checked~div.sk-toggleable__content {max-height: 200px;max-width: 100%;overflow: auto;}#sk-container-id-13 input.sk-toggleable__control:checked~label.sk-toggleable__label-arrow:before {content: \"▾\";}#sk-container-id-13 div.sk-estimator input.sk-toggleable__control:checked~label.sk-toggleable__label {background-color: #d4ebff;}#sk-container-id-13 div.sk-label input.sk-toggleable__control:checked~label.sk-toggleable__label {background-color: #d4ebff;}#sk-container-id-13 input.sk-hidden--visually {border: 0;clip: rect(1px 1px 1px 1px);clip: rect(1px, 1px, 1px, 1px);height: 1px;margin: -1px;overflow: hidden;padding: 0;position: absolute;width: 1px;}#sk-container-id-13 div.sk-estimator {font-family: monospace;background-color: #f0f8ff;border: 1px dotted black;border-radius: 0.25em;box-sizing: border-box;margin-bottom: 0.5em;}#sk-container-id-13 div.sk-estimator:hover {background-color: #d4ebff;}#sk-container-id-13 div.sk-parallel-item::after {content: \"\";width: 100%;border-bottom: 1px solid gray;flex-grow: 1;}#sk-container-id-13 div.sk-label:hover label.sk-toggleable__label {background-color: #d4ebff;}#sk-container-id-13 div.sk-serial::before {content: \"\";position: absolute;border-left: 1px solid gray;box-sizing: border-box;top: 0;bottom: 0;left: 50%;z-index: 0;}#sk-container-id-13 div.sk-serial {display: flex;flex-direction: column;align-items: center;background-color: white;padding-right: 0.2em;padding-left: 0.2em;position: relative;}#sk-container-id-13 div.sk-item {position: relative;z-index: 1;}#sk-container-id-13 div.sk-parallel {display: flex;align-items: stretch;justify-content: center;background-color: white;position: relative;}#sk-container-id-13 div.sk-item::before, #sk-container-id-13 div.sk-parallel-item::before {content: \"\";position: absolute;border-left: 1px solid gray;box-sizing: border-box;top: 0;bottom: 0;left: 50%;z-index: -1;}#sk-container-id-13 div.sk-parallel-item {display: flex;flex-direction: column;z-index: 1;position: relative;background-color: white;}#sk-container-id-13 div.sk-parallel-item:first-child::after {align-self: flex-end;width: 50%;}#sk-container-id-13 div.sk-parallel-item:last-child::after {align-self: flex-start;width: 50%;}#sk-container-id-13 div.sk-parallel-item:only-child::after {width: 0;}#sk-container-id-13 div.sk-dashed-wrapped {border: 1px dashed gray;margin: 0 0.4em 0.5em 0.4em;box-sizing: border-box;padding-bottom: 0.4em;background-color: white;}#sk-container-id-13 div.sk-label label {font-family: monospace;font-weight: bold;display: inline-block;line-height: 1.2em;}#sk-container-id-13 div.sk-label-container {text-align: center;}#sk-container-id-13 div.sk-container {/* jupyter's `normalize.less` sets `[hidden] { display: none; }` but bootstrap.min.css set `[hidden] { display: none !important; }` so we also need the `!important` here to be able to override the default hidden behavior on the sphinx rendered scikit-learn.org. See: https://github.com/scikit-learn/scikit-learn/issues/21755 */display: inline-block !important;position: relative;}#sk-container-id-13 div.sk-text-repr-fallback {display: none;}</style><div id=\"sk-container-id-13\" class=\"sk-top-container\"><div class=\"sk-text-repr-fallback\"><pre>GridSearchCV(cv=5,\n",
       "             estimator=Pipeline(steps=[(&#x27;cv&#x27;,\n",
       "                                        CountVectorizer(stop_words=&#x27;english&#x27;)),\n",
       "                                       (&#x27;logreg&#x27;,\n",
       "                                        LogisticRegression(max_iter=1000,\n",
       "                                                           random_state=333))]),\n",
       "             param_grid={&#x27;logreg__C&#x27;: [0.1, 1, 10, 100],\n",
       "                         &#x27;logreg__class_weight&#x27;: [None, &#x27;balanced&#x27;, [4, 1, 2]],\n",
       "                         &#x27;logreg__max_iter&#x27;: [5000],\n",
       "                         &#x27;logreg__solver&#x27;: [&#x27;lbfgs&#x27;, &#x27;sag&#x27;, &#x27;newton-cg&#x27;,\n",
       "                                            &#x27;saga&#x27;]},\n",
       "             scoring=&#x27;accuracy&#x27;, verbose=3)</pre><b>In a Jupyter environment, please rerun this cell to show the HTML representation or trust the notebook. <br />On GitHub, the HTML representation is unable to render, please try loading this page with nbviewer.org.</b></div><div class=\"sk-container\" hidden><div class=\"sk-item sk-dashed-wrapped\"><div class=\"sk-label-container\"><div class=\"sk-label sk-toggleable\"><input class=\"sk-toggleable__control sk-hidden--visually\" id=\"sk-estimator-id-44\" type=\"checkbox\" ><label for=\"sk-estimator-id-44\" class=\"sk-toggleable__label sk-toggleable__label-arrow\">GridSearchCV</label><div class=\"sk-toggleable__content\"><pre>GridSearchCV(cv=5,\n",
       "             estimator=Pipeline(steps=[(&#x27;cv&#x27;,\n",
       "                                        CountVectorizer(stop_words=&#x27;english&#x27;)),\n",
       "                                       (&#x27;logreg&#x27;,\n",
       "                                        LogisticRegression(max_iter=1000,\n",
       "                                                           random_state=333))]),\n",
       "             param_grid={&#x27;logreg__C&#x27;: [0.1, 1, 10, 100],\n",
       "                         &#x27;logreg__class_weight&#x27;: [None, &#x27;balanced&#x27;, [4, 1, 2]],\n",
       "                         &#x27;logreg__max_iter&#x27;: [5000],\n",
       "                         &#x27;logreg__solver&#x27;: [&#x27;lbfgs&#x27;, &#x27;sag&#x27;, &#x27;newton-cg&#x27;,\n",
       "                                            &#x27;saga&#x27;]},\n",
       "             scoring=&#x27;accuracy&#x27;, verbose=3)</pre></div></div></div><div class=\"sk-parallel\"><div class=\"sk-parallel-item\"><div class=\"sk-item\"><div class=\"sk-label-container\"><div class=\"sk-label sk-toggleable\"><input class=\"sk-toggleable__control sk-hidden--visually\" id=\"sk-estimator-id-45\" type=\"checkbox\" ><label for=\"sk-estimator-id-45\" class=\"sk-toggleable__label sk-toggleable__label-arrow\">estimator: Pipeline</label><div class=\"sk-toggleable__content\"><pre>Pipeline(steps=[(&#x27;cv&#x27;, CountVectorizer(stop_words=&#x27;english&#x27;)),\n",
       "                (&#x27;logreg&#x27;,\n",
       "                 LogisticRegression(max_iter=1000, random_state=333))])</pre></div></div></div><div class=\"sk-serial\"><div class=\"sk-item\"><div class=\"sk-serial\"><div class=\"sk-item\"><div class=\"sk-estimator sk-toggleable\"><input class=\"sk-toggleable__control sk-hidden--visually\" id=\"sk-estimator-id-46\" type=\"checkbox\" ><label for=\"sk-estimator-id-46\" class=\"sk-toggleable__label sk-toggleable__label-arrow\">CountVectorizer</label><div class=\"sk-toggleable__content\"><pre>CountVectorizer(stop_words=&#x27;english&#x27;)</pre></div></div></div><div class=\"sk-item\"><div class=\"sk-estimator sk-toggleable\"><input class=\"sk-toggleable__control sk-hidden--visually\" id=\"sk-estimator-id-47\" type=\"checkbox\" ><label for=\"sk-estimator-id-47\" class=\"sk-toggleable__label sk-toggleable__label-arrow\">LogisticRegression</label><div class=\"sk-toggleable__content\"><pre>LogisticRegression(max_iter=1000, random_state=333)</pre></div></div></div></div></div></div></div></div></div></div></div></div>"
      ],
      "text/plain": [
       "GridSearchCV(cv=5,\n",
       "             estimator=Pipeline(steps=[('cv',\n",
       "                                        CountVectorizer(stop_words='english')),\n",
       "                                       ('logreg',\n",
       "                                        LogisticRegression(max_iter=1000,\n",
       "                                                           random_state=333))]),\n",
       "             param_grid={'logreg__C': [0.1, 1, 10, 100],\n",
       "                         'logreg__class_weight': [None, 'balanced', [4, 1, 2]],\n",
       "                         'logreg__max_iter': [5000],\n",
       "                         'logreg__solver': ['lbfgs', 'sag', 'newton-cg',\n",
       "                                            'saga']},\n",
       "             scoring='accuracy', verbose=3)"
      ]
     },
     "execution_count": 66,
     "metadata": {},
     "output_type": "execute_result"
    }
   ],
   "source": [
    "# Creating parameters for GridSearch\n",
    "logreg_params = {'logreg__class_weight':[None,'balanced', [4, 1, 2]],\n",
    "                'logreg__C': [0.1, 1, 10, 100],\n",
    "                'logreg__solver': ['lbfgs', 'sag', 'newton-cg', 'saga'],\n",
    "                'logreg__max_iter': [5000]}\n",
    "# GridSearch with the logistic regression pipeline, parameters above, 5 fold cross validation, and accuracy score\n",
    "logreg_grid = GridSearchCV(estimator=logreg_pipe, param_grid=logreg_params, cv=5, scoring='accuracy', verbose=3)\n",
    "# Fitting the GridSearch\n",
    "logreg_grid.fit(X_train, y_train)"
   ]
  },
  {
   "cell_type": "markdown",
   "metadata": {},
   "source": [
    "The GridSearch discovered C=1, max_iter=5000, default weights, and solver='saga' had the best cross validation score. This is a marginal improvement from our logistic regression with all default settings. Throughout the GridSearch, sometimes the max iterations was reached without the model converging. This model did not have the problem and the results can be trusted."
   ]
  },
  {
   "cell_type": "code",
   "execution_count": 67,
   "metadata": {
    "scrolled": true
   },
   "outputs": [
    {
     "name": "stdout",
     "output_type": "stream",
     "text": [
      "Pipeline(steps=[('cv', CountVectorizer(stop_words='english')),\n",
      "                ('logreg',\n",
      "                 LogisticRegression(C=1, max_iter=5000, random_state=333,\n",
      "                                    solver='saga'))])\n",
      "0.6888984607165515\n"
     ]
    }
   ],
   "source": [
    "print(logreg_grid.best_estimator_)\n",
    "print(logreg_grid.best_score_)"
   ]
  },
  {
   "cell_type": "markdown",
   "metadata": {},
   "source": [
    "### Fourth Model (Multinomial Naive Bayes)\n",
    "\n",
    "Created a Multinomial Naive Bayes (MNB) model."
   ]
  },
  {
   "cell_type": "code",
   "execution_count": 68,
   "metadata": {},
   "outputs": [
    {
     "data": {
      "text/html": [
       "<style>#sk-container-id-14 {color: black;}#sk-container-id-14 pre{padding: 0;}#sk-container-id-14 div.sk-toggleable {background-color: white;}#sk-container-id-14 label.sk-toggleable__label {cursor: pointer;display: block;width: 100%;margin-bottom: 0;padding: 0.3em;box-sizing: border-box;text-align: center;}#sk-container-id-14 label.sk-toggleable__label-arrow:before {content: \"▸\";float: left;margin-right: 0.25em;color: #696969;}#sk-container-id-14 label.sk-toggleable__label-arrow:hover:before {color: black;}#sk-container-id-14 div.sk-estimator:hover label.sk-toggleable__label-arrow:before {color: black;}#sk-container-id-14 div.sk-toggleable__content {max-height: 0;max-width: 0;overflow: hidden;text-align: left;background-color: #f0f8ff;}#sk-container-id-14 div.sk-toggleable__content pre {margin: 0.2em;color: black;border-radius: 0.25em;background-color: #f0f8ff;}#sk-container-id-14 input.sk-toggleable__control:checked~div.sk-toggleable__content {max-height: 200px;max-width: 100%;overflow: auto;}#sk-container-id-14 input.sk-toggleable__control:checked~label.sk-toggleable__label-arrow:before {content: \"▾\";}#sk-container-id-14 div.sk-estimator input.sk-toggleable__control:checked~label.sk-toggleable__label {background-color: #d4ebff;}#sk-container-id-14 div.sk-label input.sk-toggleable__control:checked~label.sk-toggleable__label {background-color: #d4ebff;}#sk-container-id-14 input.sk-hidden--visually {border: 0;clip: rect(1px 1px 1px 1px);clip: rect(1px, 1px, 1px, 1px);height: 1px;margin: -1px;overflow: hidden;padding: 0;position: absolute;width: 1px;}#sk-container-id-14 div.sk-estimator {font-family: monospace;background-color: #f0f8ff;border: 1px dotted black;border-radius: 0.25em;box-sizing: border-box;margin-bottom: 0.5em;}#sk-container-id-14 div.sk-estimator:hover {background-color: #d4ebff;}#sk-container-id-14 div.sk-parallel-item::after {content: \"\";width: 100%;border-bottom: 1px solid gray;flex-grow: 1;}#sk-container-id-14 div.sk-label:hover label.sk-toggleable__label {background-color: #d4ebff;}#sk-container-id-14 div.sk-serial::before {content: \"\";position: absolute;border-left: 1px solid gray;box-sizing: border-box;top: 0;bottom: 0;left: 50%;z-index: 0;}#sk-container-id-14 div.sk-serial {display: flex;flex-direction: column;align-items: center;background-color: white;padding-right: 0.2em;padding-left: 0.2em;position: relative;}#sk-container-id-14 div.sk-item {position: relative;z-index: 1;}#sk-container-id-14 div.sk-parallel {display: flex;align-items: stretch;justify-content: center;background-color: white;position: relative;}#sk-container-id-14 div.sk-item::before, #sk-container-id-14 div.sk-parallel-item::before {content: \"\";position: absolute;border-left: 1px solid gray;box-sizing: border-box;top: 0;bottom: 0;left: 50%;z-index: -1;}#sk-container-id-14 div.sk-parallel-item {display: flex;flex-direction: column;z-index: 1;position: relative;background-color: white;}#sk-container-id-14 div.sk-parallel-item:first-child::after {align-self: flex-end;width: 50%;}#sk-container-id-14 div.sk-parallel-item:last-child::after {align-self: flex-start;width: 50%;}#sk-container-id-14 div.sk-parallel-item:only-child::after {width: 0;}#sk-container-id-14 div.sk-dashed-wrapped {border: 1px dashed gray;margin: 0 0.4em 0.5em 0.4em;box-sizing: border-box;padding-bottom: 0.4em;background-color: white;}#sk-container-id-14 div.sk-label label {font-family: monospace;font-weight: bold;display: inline-block;line-height: 1.2em;}#sk-container-id-14 div.sk-label-container {text-align: center;}#sk-container-id-14 div.sk-container {/* jupyter's `normalize.less` sets `[hidden] { display: none; }` but bootstrap.min.css set `[hidden] { display: none !important; }` so we also need the `!important` here to be able to override the default hidden behavior on the sphinx rendered scikit-learn.org. See: https://github.com/scikit-learn/scikit-learn/issues/21755 */display: inline-block !important;position: relative;}#sk-container-id-14 div.sk-text-repr-fallback {display: none;}</style><div id=\"sk-container-id-14\" class=\"sk-top-container\"><div class=\"sk-text-repr-fallback\"><pre>Pipeline(steps=[(&#x27;tfidf&#x27;, TfidfVectorizer()), (&#x27;mnb&#x27;, MultinomialNB())])</pre><b>In a Jupyter environment, please rerun this cell to show the HTML representation or trust the notebook. <br />On GitHub, the HTML representation is unable to render, please try loading this page with nbviewer.org.</b></div><div class=\"sk-container\" hidden><div class=\"sk-item sk-dashed-wrapped\"><div class=\"sk-label-container\"><div class=\"sk-label sk-toggleable\"><input class=\"sk-toggleable__control sk-hidden--visually\" id=\"sk-estimator-id-48\" type=\"checkbox\" ><label for=\"sk-estimator-id-48\" class=\"sk-toggleable__label sk-toggleable__label-arrow\">Pipeline</label><div class=\"sk-toggleable__content\"><pre>Pipeline(steps=[(&#x27;tfidf&#x27;, TfidfVectorizer()), (&#x27;mnb&#x27;, MultinomialNB())])</pre></div></div></div><div class=\"sk-serial\"><div class=\"sk-item\"><div class=\"sk-estimator sk-toggleable\"><input class=\"sk-toggleable__control sk-hidden--visually\" id=\"sk-estimator-id-49\" type=\"checkbox\" ><label for=\"sk-estimator-id-49\" class=\"sk-toggleable__label sk-toggleable__label-arrow\">TfidfVectorizer</label><div class=\"sk-toggleable__content\"><pre>TfidfVectorizer()</pre></div></div></div><div class=\"sk-item\"><div class=\"sk-estimator sk-toggleable\"><input class=\"sk-toggleable__control sk-hidden--visually\" id=\"sk-estimator-id-50\" type=\"checkbox\" ><label for=\"sk-estimator-id-50\" class=\"sk-toggleable__label sk-toggleable__label-arrow\">MultinomialNB</label><div class=\"sk-toggleable__content\"><pre>MultinomialNB()</pre></div></div></div></div></div></div></div>"
      ],
      "text/plain": [
       "Pipeline(steps=[('tfidf', TfidfVectorizer()), ('mnb', MultinomialNB())])"
      ]
     },
     "execution_count": 68,
     "metadata": {},
     "output_type": "execute_result"
    }
   ],
   "source": [
    "# Creating steps for a Pipeline \n",
    "mnb_steps = [('tfidf', TfidfVectorizer()),\n",
    "             ('mnb', MultinomialNB())]\n",
    "# Feeding the Pipeline the steps defined above\n",
    "mnb_pipe = Pipeline(mnb_steps)\n",
    "# Fitting the training data to the Pipeline\n",
    "mnb_pipe.fit(X_train, y_train)"
   ]
  },
  {
   "cell_type": "markdown",
   "metadata": {},
   "source": [
    "This was a lower accuracy score on the training data than on previous models that sparked hope it was not overfit."
   ]
  },
  {
   "cell_type": "code",
   "execution_count": 69,
   "metadata": {},
   "outputs": [
    {
     "data": {
      "text/plain": [
       "0.7593255744553864"
      ]
     },
     "execution_count": 69,
     "metadata": {},
     "output_type": "execute_result"
    }
   ],
   "source": [
    "# Defining the predictions from the Pipeline using the training data\n",
    "y_pred = mnb_pipe.predict(X_train)\n",
    "# Evaluating the accuracy score on the training data\n",
    "accuracy_score(y_train, y_pred)"
   ]
  },
  {
   "cell_type": "markdown",
   "metadata": {},
   "source": [
    "This was a pretty low cross validation score and is in line with our previous models. It seemed to be a little less overfit than the previous models but, still is very overfit on the training data."
   ]
  },
  {
   "cell_type": "code",
   "execution_count": 70,
   "metadata": {},
   "outputs": [
    {
     "data": {
      "text/plain": [
       "0.6674115997195231"
      ]
     },
     "execution_count": 70,
     "metadata": {},
     "output_type": "execute_result"
    }
   ],
   "source": [
    "# Calculating mean of the 5-fold cross_val_score\n",
    "cross_val_score(mnb_pipe, X_train, y_train, cv=5).mean()"
   ]
  },
  {
   "cell_type": "markdown",
   "metadata": {},
   "source": [
    "### MNB with GridSearch\n",
    "\n",
    "Tried to improve the MNB model by adjusting hyperparameters using a GridSearch."
   ]
  },
  {
   "cell_type": "code",
   "execution_count": 73,
   "metadata": {
    "scrolled": true
   },
   "outputs": [
    {
     "name": "stdout",
     "output_type": "stream",
     "text": [
      "Fitting 5 folds for each of 6 candidates, totalling 30 fits\n",
      "[CV 1/5] END .mnb__alpha=1, mnb__fit_prior=True;, score=0.672 total time=   0.0s\n",
      "[CV 2/5] END .mnb__alpha=1, mnb__fit_prior=True;, score=0.670 total time=   0.0s\n",
      "[CV 3/5] END .mnb__alpha=1, mnb__fit_prior=True;, score=0.663 total time=   0.0s\n",
      "[CV 4/5] END .mnb__alpha=1, mnb__fit_prior=True;, score=0.669 total time=   0.0s\n",
      "[CV 5/5] END .mnb__alpha=1, mnb__fit_prior=True;, score=0.663 total time=   0.0s\n",
      "[CV 1/5] END mnb__alpha=1, mnb__fit_prior=False;, score=0.652 total time=   0.0s\n",
      "[CV 2/5] END mnb__alpha=1, mnb__fit_prior=False;, score=0.662 total time=   0.0s\n",
      "[CV 3/5] END mnb__alpha=1, mnb__fit_prior=False;, score=0.643 total time=   0.0s\n",
      "[CV 4/5] END mnb__alpha=1, mnb__fit_prior=False;, score=0.649 total time=   0.0s\n",
      "[CV 5/5] END mnb__alpha=1, mnb__fit_prior=False;, score=0.666 total time=   0.0s\n",
      "[CV 1/5] END mnb__alpha=0.5, mnb__fit_prior=True;, score=0.667 total time=   0.0s\n",
      "[CV 2/5] END mnb__alpha=0.5, mnb__fit_prior=True;, score=0.679 total time=   0.0s\n",
      "[CV 3/5] END mnb__alpha=0.5, mnb__fit_prior=True;, score=0.669 total time=   0.0s\n",
      "[CV 4/5] END mnb__alpha=0.5, mnb__fit_prior=True;, score=0.672 total time=   0.0s\n",
      "[CV 5/5] END mnb__alpha=0.5, mnb__fit_prior=True;, score=0.674 total time=   0.0s\n",
      "[CV 1/5] END mnb__alpha=0.5, mnb__fit_prior=False;, score=0.641 total time=   0.0s\n",
      "[CV 2/5] END mnb__alpha=0.5, mnb__fit_prior=False;, score=0.651 total time=   0.0s\n",
      "[CV 3/5] END mnb__alpha=0.5, mnb__fit_prior=False;, score=0.637 total time=   0.0s\n",
      "[CV 4/5] END mnb__alpha=0.5, mnb__fit_prior=False;, score=0.630 total time=   0.0s\n",
      "[CV 5/5] END mnb__alpha=0.5, mnb__fit_prior=False;, score=0.651 total time=   0.0s\n"
     ]
    },
    {
     "name": "stderr",
     "output_type": "stream",
     "text": [
      "C:\\Users\\42ben\\anaconda3\\envs\\learn-env\\lib\\site-packages\\sklearn\\naive_bayes.py:624: FutureWarning: The default value for `force_alpha` will change to `True` in 1.4. To suppress this warning, manually set the value of `force_alpha`.\n",
      "  warnings.warn(\n",
      "C:\\Users\\42ben\\anaconda3\\envs\\learn-env\\lib\\site-packages\\sklearn\\naive_bayes.py:633: UserWarning: alpha too small will result in numeric errors, setting alpha = 1.0e-10. Use `force_alpha=True` to keep alpha unchanged.\n",
      "  warnings.warn(\n",
      "C:\\Users\\42ben\\anaconda3\\envs\\learn-env\\lib\\site-packages\\sklearn\\naive_bayes.py:624: FutureWarning: The default value for `force_alpha` will change to `True` in 1.4. To suppress this warning, manually set the value of `force_alpha`.\n",
      "  warnings.warn(\n",
      "C:\\Users\\42ben\\anaconda3\\envs\\learn-env\\lib\\site-packages\\sklearn\\naive_bayes.py:633: UserWarning: alpha too small will result in numeric errors, setting alpha = 1.0e-10. Use `force_alpha=True` to keep alpha unchanged.\n",
      "  warnings.warn(\n",
      "C:\\Users\\42ben\\anaconda3\\envs\\learn-env\\lib\\site-packages\\sklearn\\naive_bayes.py:624: FutureWarning: The default value for `force_alpha` will change to `True` in 1.4. To suppress this warning, manually set the value of `force_alpha`.\n",
      "  warnings.warn(\n",
      "C:\\Users\\42ben\\anaconda3\\envs\\learn-env\\lib\\site-packages\\sklearn\\naive_bayes.py:633: UserWarning: alpha too small will result in numeric errors, setting alpha = 1.0e-10. Use `force_alpha=True` to keep alpha unchanged.\n",
      "  warnings.warn(\n"
     ]
    },
    {
     "name": "stdout",
     "output_type": "stream",
     "text": [
      "[CV 1/5] END .mnb__alpha=0, mnb__fit_prior=True;, score=0.655 total time=   0.0s\n",
      "[CV 2/5] END .mnb__alpha=0, mnb__fit_prior=True;, score=0.660 total time=   0.0s\n",
      "[CV 3/5] END .mnb__alpha=0, mnb__fit_prior=True;, score=0.666 total time=   0.0s\n"
     ]
    },
    {
     "name": "stderr",
     "output_type": "stream",
     "text": [
      "C:\\Users\\42ben\\anaconda3\\envs\\learn-env\\lib\\site-packages\\sklearn\\naive_bayes.py:624: FutureWarning: The default value for `force_alpha` will change to `True` in 1.4. To suppress this warning, manually set the value of `force_alpha`.\n",
      "  warnings.warn(\n",
      "C:\\Users\\42ben\\anaconda3\\envs\\learn-env\\lib\\site-packages\\sklearn\\naive_bayes.py:633: UserWarning: alpha too small will result in numeric errors, setting alpha = 1.0e-10. Use `force_alpha=True` to keep alpha unchanged.\n",
      "  warnings.warn(\n",
      "C:\\Users\\42ben\\anaconda3\\envs\\learn-env\\lib\\site-packages\\sklearn\\naive_bayes.py:624: FutureWarning: The default value for `force_alpha` will change to `True` in 1.4. To suppress this warning, manually set the value of `force_alpha`.\n",
      "  warnings.warn(\n",
      "C:\\Users\\42ben\\anaconda3\\envs\\learn-env\\lib\\site-packages\\sklearn\\naive_bayes.py:633: UserWarning: alpha too small will result in numeric errors, setting alpha = 1.0e-10. Use `force_alpha=True` to keep alpha unchanged.\n",
      "  warnings.warn(\n",
      "C:\\Users\\42ben\\anaconda3\\envs\\learn-env\\lib\\site-packages\\sklearn\\naive_bayes.py:624: FutureWarning: The default value for `force_alpha` will change to `True` in 1.4. To suppress this warning, manually set the value of `force_alpha`.\n",
      "  warnings.warn(\n",
      "C:\\Users\\42ben\\anaconda3\\envs\\learn-env\\lib\\site-packages\\sklearn\\naive_bayes.py:633: UserWarning: alpha too small will result in numeric errors, setting alpha = 1.0e-10. Use `force_alpha=True` to keep alpha unchanged.\n",
      "  warnings.warn(\n"
     ]
    },
    {
     "name": "stdout",
     "output_type": "stream",
     "text": [
      "[CV 4/5] END .mnb__alpha=0, mnb__fit_prior=True;, score=0.648 total time=   0.0s\n",
      "[CV 5/5] END .mnb__alpha=0, mnb__fit_prior=True;, score=0.672 total time=   0.0s\n",
      "[CV 1/5] END mnb__alpha=0, mnb__fit_prior=False;, score=0.587 total time=   0.0s\n"
     ]
    },
    {
     "name": "stderr",
     "output_type": "stream",
     "text": [
      "C:\\Users\\42ben\\anaconda3\\envs\\learn-env\\lib\\site-packages\\sklearn\\naive_bayes.py:624: FutureWarning: The default value for `force_alpha` will change to `True` in 1.4. To suppress this warning, manually set the value of `force_alpha`.\n",
      "  warnings.warn(\n",
      "C:\\Users\\42ben\\anaconda3\\envs\\learn-env\\lib\\site-packages\\sklearn\\naive_bayes.py:633: UserWarning: alpha too small will result in numeric errors, setting alpha = 1.0e-10. Use `force_alpha=True` to keep alpha unchanged.\n",
      "  warnings.warn(\n",
      "C:\\Users\\42ben\\anaconda3\\envs\\learn-env\\lib\\site-packages\\sklearn\\naive_bayes.py:624: FutureWarning: The default value for `force_alpha` will change to `True` in 1.4. To suppress this warning, manually set the value of `force_alpha`.\n",
      "  warnings.warn(\n",
      "C:\\Users\\42ben\\anaconda3\\envs\\learn-env\\lib\\site-packages\\sklearn\\naive_bayes.py:633: UserWarning: alpha too small will result in numeric errors, setting alpha = 1.0e-10. Use `force_alpha=True` to keep alpha unchanged.\n",
      "  warnings.warn(\n",
      "C:\\Users\\42ben\\anaconda3\\envs\\learn-env\\lib\\site-packages\\sklearn\\naive_bayes.py:624: FutureWarning: The default value for `force_alpha` will change to `True` in 1.4. To suppress this warning, manually set the value of `force_alpha`.\n",
      "  warnings.warn(\n",
      "C:\\Users\\42ben\\anaconda3\\envs\\learn-env\\lib\\site-packages\\sklearn\\naive_bayes.py:633: UserWarning: alpha too small will result in numeric errors, setting alpha = 1.0e-10. Use `force_alpha=True` to keep alpha unchanged.\n",
      "  warnings.warn(\n"
     ]
    },
    {
     "name": "stdout",
     "output_type": "stream",
     "text": [
      "[CV 2/5] END mnb__alpha=0, mnb__fit_prior=False;, score=0.614 total time=   0.0s\n",
      "[CV 3/5] END mnb__alpha=0, mnb__fit_prior=False;, score=0.608 total time=   0.0s\n",
      "[CV 4/5] END mnb__alpha=0, mnb__fit_prior=False;, score=0.599 total time=   0.0s\n",
      "[CV 5/5] END mnb__alpha=0, mnb__fit_prior=False;, score=0.620 total time=   0.0s\n"
     ]
    },
    {
     "name": "stderr",
     "output_type": "stream",
     "text": [
      "C:\\Users\\42ben\\anaconda3\\envs\\learn-env\\lib\\site-packages\\sklearn\\naive_bayes.py:624: FutureWarning: The default value for `force_alpha` will change to `True` in 1.4. To suppress this warning, manually set the value of `force_alpha`.\n",
      "  warnings.warn(\n",
      "C:\\Users\\42ben\\anaconda3\\envs\\learn-env\\lib\\site-packages\\sklearn\\naive_bayes.py:633: UserWarning: alpha too small will result in numeric errors, setting alpha = 1.0e-10. Use `force_alpha=True` to keep alpha unchanged.\n",
      "  warnings.warn(\n"
     ]
    },
    {
     "data": {
      "text/html": [
       "<style>#sk-container-id-15 {color: black;}#sk-container-id-15 pre{padding: 0;}#sk-container-id-15 div.sk-toggleable {background-color: white;}#sk-container-id-15 label.sk-toggleable__label {cursor: pointer;display: block;width: 100%;margin-bottom: 0;padding: 0.3em;box-sizing: border-box;text-align: center;}#sk-container-id-15 label.sk-toggleable__label-arrow:before {content: \"▸\";float: left;margin-right: 0.25em;color: #696969;}#sk-container-id-15 label.sk-toggleable__label-arrow:hover:before {color: black;}#sk-container-id-15 div.sk-estimator:hover label.sk-toggleable__label-arrow:before {color: black;}#sk-container-id-15 div.sk-toggleable__content {max-height: 0;max-width: 0;overflow: hidden;text-align: left;background-color: #f0f8ff;}#sk-container-id-15 div.sk-toggleable__content pre {margin: 0.2em;color: black;border-radius: 0.25em;background-color: #f0f8ff;}#sk-container-id-15 input.sk-toggleable__control:checked~div.sk-toggleable__content {max-height: 200px;max-width: 100%;overflow: auto;}#sk-container-id-15 input.sk-toggleable__control:checked~label.sk-toggleable__label-arrow:before {content: \"▾\";}#sk-container-id-15 div.sk-estimator input.sk-toggleable__control:checked~label.sk-toggleable__label {background-color: #d4ebff;}#sk-container-id-15 div.sk-label input.sk-toggleable__control:checked~label.sk-toggleable__label {background-color: #d4ebff;}#sk-container-id-15 input.sk-hidden--visually {border: 0;clip: rect(1px 1px 1px 1px);clip: rect(1px, 1px, 1px, 1px);height: 1px;margin: -1px;overflow: hidden;padding: 0;position: absolute;width: 1px;}#sk-container-id-15 div.sk-estimator {font-family: monospace;background-color: #f0f8ff;border: 1px dotted black;border-radius: 0.25em;box-sizing: border-box;margin-bottom: 0.5em;}#sk-container-id-15 div.sk-estimator:hover {background-color: #d4ebff;}#sk-container-id-15 div.sk-parallel-item::after {content: \"\";width: 100%;border-bottom: 1px solid gray;flex-grow: 1;}#sk-container-id-15 div.sk-label:hover label.sk-toggleable__label {background-color: #d4ebff;}#sk-container-id-15 div.sk-serial::before {content: \"\";position: absolute;border-left: 1px solid gray;box-sizing: border-box;top: 0;bottom: 0;left: 50%;z-index: 0;}#sk-container-id-15 div.sk-serial {display: flex;flex-direction: column;align-items: center;background-color: white;padding-right: 0.2em;padding-left: 0.2em;position: relative;}#sk-container-id-15 div.sk-item {position: relative;z-index: 1;}#sk-container-id-15 div.sk-parallel {display: flex;align-items: stretch;justify-content: center;background-color: white;position: relative;}#sk-container-id-15 div.sk-item::before, #sk-container-id-15 div.sk-parallel-item::before {content: \"\";position: absolute;border-left: 1px solid gray;box-sizing: border-box;top: 0;bottom: 0;left: 50%;z-index: -1;}#sk-container-id-15 div.sk-parallel-item {display: flex;flex-direction: column;z-index: 1;position: relative;background-color: white;}#sk-container-id-15 div.sk-parallel-item:first-child::after {align-self: flex-end;width: 50%;}#sk-container-id-15 div.sk-parallel-item:last-child::after {align-self: flex-start;width: 50%;}#sk-container-id-15 div.sk-parallel-item:only-child::after {width: 0;}#sk-container-id-15 div.sk-dashed-wrapped {border: 1px dashed gray;margin: 0 0.4em 0.5em 0.4em;box-sizing: border-box;padding-bottom: 0.4em;background-color: white;}#sk-container-id-15 div.sk-label label {font-family: monospace;font-weight: bold;display: inline-block;line-height: 1.2em;}#sk-container-id-15 div.sk-label-container {text-align: center;}#sk-container-id-15 div.sk-container {/* jupyter's `normalize.less` sets `[hidden] { display: none; }` but bootstrap.min.css set `[hidden] { display: none !important; }` so we also need the `!important` here to be able to override the default hidden behavior on the sphinx rendered scikit-learn.org. See: https://github.com/scikit-learn/scikit-learn/issues/21755 */display: inline-block !important;position: relative;}#sk-container-id-15 div.sk-text-repr-fallback {display: none;}</style><div id=\"sk-container-id-15\" class=\"sk-top-container\"><div class=\"sk-text-repr-fallback\"><pre>GridSearchCV(cv=5,\n",
       "             estimator=Pipeline(steps=[(&#x27;tfidf&#x27;, TfidfVectorizer()),\n",
       "                                       (&#x27;mnb&#x27;, MultinomialNB())]),\n",
       "             param_grid={&#x27;mnb__alpha&#x27;: [1, 0.5, 0],\n",
       "                         &#x27;mnb__fit_prior&#x27;: [True, False]},\n",
       "             scoring=&#x27;accuracy&#x27;, verbose=3)</pre><b>In a Jupyter environment, please rerun this cell to show the HTML representation or trust the notebook. <br />On GitHub, the HTML representation is unable to render, please try loading this page with nbviewer.org.</b></div><div class=\"sk-container\" hidden><div class=\"sk-item sk-dashed-wrapped\"><div class=\"sk-label-container\"><div class=\"sk-label sk-toggleable\"><input class=\"sk-toggleable__control sk-hidden--visually\" id=\"sk-estimator-id-51\" type=\"checkbox\" ><label for=\"sk-estimator-id-51\" class=\"sk-toggleable__label sk-toggleable__label-arrow\">GridSearchCV</label><div class=\"sk-toggleable__content\"><pre>GridSearchCV(cv=5,\n",
       "             estimator=Pipeline(steps=[(&#x27;tfidf&#x27;, TfidfVectorizer()),\n",
       "                                       (&#x27;mnb&#x27;, MultinomialNB())]),\n",
       "             param_grid={&#x27;mnb__alpha&#x27;: [1, 0.5, 0],\n",
       "                         &#x27;mnb__fit_prior&#x27;: [True, False]},\n",
       "             scoring=&#x27;accuracy&#x27;, verbose=3)</pre></div></div></div><div class=\"sk-parallel\"><div class=\"sk-parallel-item\"><div class=\"sk-item\"><div class=\"sk-label-container\"><div class=\"sk-label sk-toggleable\"><input class=\"sk-toggleable__control sk-hidden--visually\" id=\"sk-estimator-id-52\" type=\"checkbox\" ><label for=\"sk-estimator-id-52\" class=\"sk-toggleable__label sk-toggleable__label-arrow\">estimator: Pipeline</label><div class=\"sk-toggleable__content\"><pre>Pipeline(steps=[(&#x27;tfidf&#x27;, TfidfVectorizer()), (&#x27;mnb&#x27;, MultinomialNB())])</pre></div></div></div><div class=\"sk-serial\"><div class=\"sk-item\"><div class=\"sk-serial\"><div class=\"sk-item\"><div class=\"sk-estimator sk-toggleable\"><input class=\"sk-toggleable__control sk-hidden--visually\" id=\"sk-estimator-id-53\" type=\"checkbox\" ><label for=\"sk-estimator-id-53\" class=\"sk-toggleable__label sk-toggleable__label-arrow\">TfidfVectorizer</label><div class=\"sk-toggleable__content\"><pre>TfidfVectorizer()</pre></div></div></div><div class=\"sk-item\"><div class=\"sk-estimator sk-toggleable\"><input class=\"sk-toggleable__control sk-hidden--visually\" id=\"sk-estimator-id-54\" type=\"checkbox\" ><label for=\"sk-estimator-id-54\" class=\"sk-toggleable__label sk-toggleable__label-arrow\">MultinomialNB</label><div class=\"sk-toggleable__content\"><pre>MultinomialNB()</pre></div></div></div></div></div></div></div></div></div></div></div></div>"
      ],
      "text/plain": [
       "GridSearchCV(cv=5,\n",
       "             estimator=Pipeline(steps=[('tfidf', TfidfVectorizer()),\n",
       "                                       ('mnb', MultinomialNB())]),\n",
       "             param_grid={'mnb__alpha': [1, 0.5, 0],\n",
       "                         'mnb__fit_prior': [True, False]},\n",
       "             scoring='accuracy', verbose=3)"
      ]
     },
     "execution_count": 73,
     "metadata": {},
     "output_type": "execute_result"
    }
   ],
   "source": [
    "# Creating parameters for GridSearch\n",
    "mnb_params = {'mnb__alpha':[1, 0.5, 0],\n",
    "          'mnb__fit_prior':[True, False]}\n",
    "# GridSearch with the logistic regression pipeline, parameters above, 5 fold cross validation, and accuracy score\n",
    "mnb_grid = GridSearchCV(estimator=mnb_pipe, param_grid=mnb_params, cv=5, scoring='accuracy', verbose=3)\n",
    "# Fitting the GridSearch\n",
    "mnb_grid.fit(X_train, y_train)"
   ]
  },
  {
   "cell_type": "markdown",
   "metadata": {},
   "source": [
    "This did not improve much from the accuracy score using the defualt parameters but, it did improve about 0.5%."
   ]
  },
  {
   "cell_type": "code",
   "execution_count": 75,
   "metadata": {
    "scrolled": false
   },
   "outputs": [
    {
     "name": "stdout",
     "output_type": "stream",
     "text": [
      "Pipeline(steps=[('tfidf', TfidfVectorizer()),\n",
      "                ('mnb', MultinomialNB(alpha=0.5))])\n",
      "0.6720380201898783\n"
     ]
    }
   ],
   "source": [
    "print(mnb_grid.best_estimator_)\n",
    "print(mnb_grid.best_score_)"
   ]
  },
  {
   "cell_type": "markdown",
   "metadata": {},
   "source": [
    "### Stacking Random Forest, Logistic Regression, and MNB Models\n",
    "\n",
    "Attempted to make an improved model by stacking the other models together."
   ]
  },
  {
   "cell_type": "code",
   "execution_count": 76,
   "metadata": {},
   "outputs": [],
   "source": [
    "# Defining the estimators to feed the stacked classifier\n",
    "estimators = [('forest', RandomForestClassifier(random_state=333)),\n",
    " ('logreg', LogisticRegression(random_state=333)),\n",
    " ('mnb', MultinomialNB())]"
   ]
  },
  {
   "cell_type": "code",
   "execution_count": 83,
   "metadata": {},
   "outputs": [],
   "source": [
    "# Feeding the estimators to teh stacking classifier\n",
    "sc = StackingClassifier(estimators=estimators)\n",
    "# Instantiating standard scaler\n",
    "scaler = StandardScaler(with_mean=False)\n",
    "\n",
    "# Creating stacking classifier Pipeline\n",
    "sc_pipe = Pipeline(steps=[('tfidf', TfidfVectorizer()),\n",
    "                          ('scaler', scaler),\n",
    "                          ('sc', sc)])"
   ]
  },
  {
   "cell_type": "code",
   "execution_count": 84,
   "metadata": {
    "scrolled": true
   },
   "outputs": [
    {
     "name": "stderr",
     "output_type": "stream",
     "text": [
      "C:\\Users\\42ben\\anaconda3\\envs\\learn-env\\lib\\site-packages\\sklearn\\linear_model\\_logistic.py:460: ConvergenceWarning: lbfgs failed to converge (status=1):\n",
      "STOP: TOTAL NO. of ITERATIONS REACHED LIMIT.\n",
      "\n",
      "Increase the number of iterations (max_iter) or scale the data as shown in:\n",
      "    https://scikit-learn.org/stable/modules/preprocessing.html\n",
      "Please also refer to the documentation for alternative solver options:\n",
      "    https://scikit-learn.org/stable/modules/linear_model.html#logistic-regression\n",
      "  n_iter_i = _check_optimize_result(\n",
      "C:\\Users\\42ben\\anaconda3\\envs\\learn-env\\lib\\site-packages\\sklearn\\linear_model\\_logistic.py:460: ConvergenceWarning: lbfgs failed to converge (status=1):\n",
      "STOP: TOTAL NO. of ITERATIONS REACHED LIMIT.\n",
      "\n",
      "Increase the number of iterations (max_iter) or scale the data as shown in:\n",
      "    https://scikit-learn.org/stable/modules/preprocessing.html\n",
      "Please also refer to the documentation for alternative solver options:\n",
      "    https://scikit-learn.org/stable/modules/linear_model.html#logistic-regression\n",
      "  n_iter_i = _check_optimize_result(\n",
      "C:\\Users\\42ben\\anaconda3\\envs\\learn-env\\lib\\site-packages\\sklearn\\linear_model\\_logistic.py:460: ConvergenceWarning: lbfgs failed to converge (status=1):\n",
      "STOP: TOTAL NO. of ITERATIONS REACHED LIMIT.\n",
      "\n",
      "Increase the number of iterations (max_iter) or scale the data as shown in:\n",
      "    https://scikit-learn.org/stable/modules/preprocessing.html\n",
      "Please also refer to the documentation for alternative solver options:\n",
      "    https://scikit-learn.org/stable/modules/linear_model.html#logistic-regression\n",
      "  n_iter_i = _check_optimize_result(\n",
      "C:\\Users\\42ben\\anaconda3\\envs\\learn-env\\lib\\site-packages\\sklearn\\linear_model\\_logistic.py:460: ConvergenceWarning: lbfgs failed to converge (status=1):\n",
      "STOP: TOTAL NO. of ITERATIONS REACHED LIMIT.\n",
      "\n",
      "Increase the number of iterations (max_iter) or scale the data as shown in:\n",
      "    https://scikit-learn.org/stable/modules/preprocessing.html\n",
      "Please also refer to the documentation for alternative solver options:\n",
      "    https://scikit-learn.org/stable/modules/linear_model.html#logistic-regression\n",
      "  n_iter_i = _check_optimize_result(\n",
      "C:\\Users\\42ben\\anaconda3\\envs\\learn-env\\lib\\site-packages\\sklearn\\linear_model\\_logistic.py:460: ConvergenceWarning: lbfgs failed to converge (status=1):\n",
      "STOP: TOTAL NO. of ITERATIONS REACHED LIMIT.\n",
      "\n",
      "Increase the number of iterations (max_iter) or scale the data as shown in:\n",
      "    https://scikit-learn.org/stable/modules/preprocessing.html\n",
      "Please also refer to the documentation for alternative solver options:\n",
      "    https://scikit-learn.org/stable/modules/linear_model.html#logistic-regression\n",
      "  n_iter_i = _check_optimize_result(\n",
      "C:\\Users\\42ben\\anaconda3\\envs\\learn-env\\lib\\site-packages\\sklearn\\linear_model\\_logistic.py:460: ConvergenceWarning: lbfgs failed to converge (status=1):\n",
      "STOP: TOTAL NO. of ITERATIONS REACHED LIMIT.\n",
      "\n",
      "Increase the number of iterations (max_iter) or scale the data as shown in:\n",
      "    https://scikit-learn.org/stable/modules/preprocessing.html\n",
      "Please also refer to the documentation for alternative solver options:\n",
      "    https://scikit-learn.org/stable/modules/linear_model.html#logistic-regression\n",
      "  n_iter_i = _check_optimize_result(\n"
     ]
    },
    {
     "data": {
      "text/html": [
       "<style>#sk-container-id-17 {color: black;}#sk-container-id-17 pre{padding: 0;}#sk-container-id-17 div.sk-toggleable {background-color: white;}#sk-container-id-17 label.sk-toggleable__label {cursor: pointer;display: block;width: 100%;margin-bottom: 0;padding: 0.3em;box-sizing: border-box;text-align: center;}#sk-container-id-17 label.sk-toggleable__label-arrow:before {content: \"▸\";float: left;margin-right: 0.25em;color: #696969;}#sk-container-id-17 label.sk-toggleable__label-arrow:hover:before {color: black;}#sk-container-id-17 div.sk-estimator:hover label.sk-toggleable__label-arrow:before {color: black;}#sk-container-id-17 div.sk-toggleable__content {max-height: 0;max-width: 0;overflow: hidden;text-align: left;background-color: #f0f8ff;}#sk-container-id-17 div.sk-toggleable__content pre {margin: 0.2em;color: black;border-radius: 0.25em;background-color: #f0f8ff;}#sk-container-id-17 input.sk-toggleable__control:checked~div.sk-toggleable__content {max-height: 200px;max-width: 100%;overflow: auto;}#sk-container-id-17 input.sk-toggleable__control:checked~label.sk-toggleable__label-arrow:before {content: \"▾\";}#sk-container-id-17 div.sk-estimator input.sk-toggleable__control:checked~label.sk-toggleable__label {background-color: #d4ebff;}#sk-container-id-17 div.sk-label input.sk-toggleable__control:checked~label.sk-toggleable__label {background-color: #d4ebff;}#sk-container-id-17 input.sk-hidden--visually {border: 0;clip: rect(1px 1px 1px 1px);clip: rect(1px, 1px, 1px, 1px);height: 1px;margin: -1px;overflow: hidden;padding: 0;position: absolute;width: 1px;}#sk-container-id-17 div.sk-estimator {font-family: monospace;background-color: #f0f8ff;border: 1px dotted black;border-radius: 0.25em;box-sizing: border-box;margin-bottom: 0.5em;}#sk-container-id-17 div.sk-estimator:hover {background-color: #d4ebff;}#sk-container-id-17 div.sk-parallel-item::after {content: \"\";width: 100%;border-bottom: 1px solid gray;flex-grow: 1;}#sk-container-id-17 div.sk-label:hover label.sk-toggleable__label {background-color: #d4ebff;}#sk-container-id-17 div.sk-serial::before {content: \"\";position: absolute;border-left: 1px solid gray;box-sizing: border-box;top: 0;bottom: 0;left: 50%;z-index: 0;}#sk-container-id-17 div.sk-serial {display: flex;flex-direction: column;align-items: center;background-color: white;padding-right: 0.2em;padding-left: 0.2em;position: relative;}#sk-container-id-17 div.sk-item {position: relative;z-index: 1;}#sk-container-id-17 div.sk-parallel {display: flex;align-items: stretch;justify-content: center;background-color: white;position: relative;}#sk-container-id-17 div.sk-item::before, #sk-container-id-17 div.sk-parallel-item::before {content: \"\";position: absolute;border-left: 1px solid gray;box-sizing: border-box;top: 0;bottom: 0;left: 50%;z-index: -1;}#sk-container-id-17 div.sk-parallel-item {display: flex;flex-direction: column;z-index: 1;position: relative;background-color: white;}#sk-container-id-17 div.sk-parallel-item:first-child::after {align-self: flex-end;width: 50%;}#sk-container-id-17 div.sk-parallel-item:last-child::after {align-self: flex-start;width: 50%;}#sk-container-id-17 div.sk-parallel-item:only-child::after {width: 0;}#sk-container-id-17 div.sk-dashed-wrapped {border: 1px dashed gray;margin: 0 0.4em 0.5em 0.4em;box-sizing: border-box;padding-bottom: 0.4em;background-color: white;}#sk-container-id-17 div.sk-label label {font-family: monospace;font-weight: bold;display: inline-block;line-height: 1.2em;}#sk-container-id-17 div.sk-label-container {text-align: center;}#sk-container-id-17 div.sk-container {/* jupyter's `normalize.less` sets `[hidden] { display: none; }` but bootstrap.min.css set `[hidden] { display: none !important; }` so we also need the `!important` here to be able to override the default hidden behavior on the sphinx rendered scikit-learn.org. See: https://github.com/scikit-learn/scikit-learn/issues/21755 */display: inline-block !important;position: relative;}#sk-container-id-17 div.sk-text-repr-fallback {display: none;}</style><div id=\"sk-container-id-17\" class=\"sk-top-container\"><div class=\"sk-text-repr-fallback\"><pre>Pipeline(steps=[(&#x27;tfidf&#x27;, TfidfVectorizer()),\n",
       "                (&#x27;scaler&#x27;, StandardScaler(with_mean=False)),\n",
       "                (&#x27;sc&#x27;,\n",
       "                 StackingClassifier(estimators=[(&#x27;forest&#x27;,\n",
       "                                                 RandomForestClassifier(random_state=333)),\n",
       "                                                (&#x27;logreg&#x27;,\n",
       "                                                 LogisticRegression(random_state=333)),\n",
       "                                                (&#x27;mnb&#x27;, MultinomialNB())]))])</pre><b>In a Jupyter environment, please rerun this cell to show the HTML representation or trust the notebook. <br />On GitHub, the HTML representation is unable to render, please try loading this page with nbviewer.org.</b></div><div class=\"sk-container\" hidden><div class=\"sk-item sk-dashed-wrapped\"><div class=\"sk-label-container\"><div class=\"sk-label sk-toggleable\"><input class=\"sk-toggleable__control sk-hidden--visually\" id=\"sk-estimator-id-63\" type=\"checkbox\" ><label for=\"sk-estimator-id-63\" class=\"sk-toggleable__label sk-toggleable__label-arrow\">Pipeline</label><div class=\"sk-toggleable__content\"><pre>Pipeline(steps=[(&#x27;tfidf&#x27;, TfidfVectorizer()),\n",
       "                (&#x27;scaler&#x27;, StandardScaler(with_mean=False)),\n",
       "                (&#x27;sc&#x27;,\n",
       "                 StackingClassifier(estimators=[(&#x27;forest&#x27;,\n",
       "                                                 RandomForestClassifier(random_state=333)),\n",
       "                                                (&#x27;logreg&#x27;,\n",
       "                                                 LogisticRegression(random_state=333)),\n",
       "                                                (&#x27;mnb&#x27;, MultinomialNB())]))])</pre></div></div></div><div class=\"sk-serial\"><div class=\"sk-item\"><div class=\"sk-estimator sk-toggleable\"><input class=\"sk-toggleable__control sk-hidden--visually\" id=\"sk-estimator-id-64\" type=\"checkbox\" ><label for=\"sk-estimator-id-64\" class=\"sk-toggleable__label sk-toggleable__label-arrow\">TfidfVectorizer</label><div class=\"sk-toggleable__content\"><pre>TfidfVectorizer()</pre></div></div></div><div class=\"sk-item\"><div class=\"sk-estimator sk-toggleable\"><input class=\"sk-toggleable__control sk-hidden--visually\" id=\"sk-estimator-id-65\" type=\"checkbox\" ><label for=\"sk-estimator-id-65\" class=\"sk-toggleable__label sk-toggleable__label-arrow\">StandardScaler</label><div class=\"sk-toggleable__content\"><pre>StandardScaler(with_mean=False)</pre></div></div></div><div class=\"sk-item\"><div class=\"sk-label-container\"><div class=\"sk-label sk-toggleable\"><input class=\"sk-toggleable__control sk-hidden--visually\" id=\"sk-estimator-id-66\" type=\"checkbox\" ><label for=\"sk-estimator-id-66\" class=\"sk-toggleable__label sk-toggleable__label-arrow\">sc: StackingClassifier</label><div class=\"sk-toggleable__content\"><pre>StackingClassifier(estimators=[(&#x27;forest&#x27;,\n",
       "                                RandomForestClassifier(random_state=333)),\n",
       "                               (&#x27;logreg&#x27;, LogisticRegression(random_state=333)),\n",
       "                               (&#x27;mnb&#x27;, MultinomialNB())])</pre></div></div></div><div class=\"sk-serial\"><div class=\"sk-item\"><div class=\"sk-parallel\"><div class=\"sk-parallel-item\"><div class=\"sk-item\"><div class=\"sk-label-container\"><div class=\"sk-label sk-toggleable\"><label>forest</label></div></div><div class=\"sk-serial\"><div class=\"sk-item\"><div class=\"sk-estimator sk-toggleable\"><input class=\"sk-toggleable__control sk-hidden--visually\" id=\"sk-estimator-id-67\" type=\"checkbox\" ><label for=\"sk-estimator-id-67\" class=\"sk-toggleable__label sk-toggleable__label-arrow\">RandomForestClassifier</label><div class=\"sk-toggleable__content\"><pre>RandomForestClassifier(random_state=333)</pre></div></div></div></div></div></div><div class=\"sk-parallel-item\"><div class=\"sk-item\"><div class=\"sk-label-container\"><div class=\"sk-label sk-toggleable\"><label>logreg</label></div></div><div class=\"sk-serial\"><div class=\"sk-item\"><div class=\"sk-estimator sk-toggleable\"><input class=\"sk-toggleable__control sk-hidden--visually\" id=\"sk-estimator-id-68\" type=\"checkbox\" ><label for=\"sk-estimator-id-68\" class=\"sk-toggleable__label sk-toggleable__label-arrow\">LogisticRegression</label><div class=\"sk-toggleable__content\"><pre>LogisticRegression(random_state=333)</pre></div></div></div></div></div></div><div class=\"sk-parallel-item\"><div class=\"sk-item\"><div class=\"sk-label-container\"><div class=\"sk-label sk-toggleable\"><label>mnb</label></div></div><div class=\"sk-serial\"><div class=\"sk-item\"><div class=\"sk-estimator sk-toggleable\"><input class=\"sk-toggleable__control sk-hidden--visually\" id=\"sk-estimator-id-69\" type=\"checkbox\" ><label for=\"sk-estimator-id-69\" class=\"sk-toggleable__label sk-toggleable__label-arrow\">MultinomialNB</label><div class=\"sk-toggleable__content\"><pre>MultinomialNB()</pre></div></div></div></div></div></div></div></div><div class=\"sk-item\"><div class=\"sk-parallel\"><div class=\"sk-parallel-item\"><div class=\"sk-item\"><div class=\"sk-label-container\"><div class=\"sk-label sk-toggleable\"><label>final_estimator</label></div></div><div class=\"sk-serial\"><div class=\"sk-item\"><div class=\"sk-estimator sk-toggleable\"><input class=\"sk-toggleable__control sk-hidden--visually\" id=\"sk-estimator-id-70\" type=\"checkbox\" ><label for=\"sk-estimator-id-70\" class=\"sk-toggleable__label sk-toggleable__label-arrow\">LogisticRegression</label><div class=\"sk-toggleable__content\"><pre>LogisticRegression()</pre></div></div></div></div></div></div></div></div></div></div></div></div></div></div>"
      ],
      "text/plain": [
       "Pipeline(steps=[('tfidf', TfidfVectorizer()),\n",
       "                ('scaler', StandardScaler(with_mean=False)),\n",
       "                ('sc',\n",
       "                 StackingClassifier(estimators=[('forest',\n",
       "                                                 RandomForestClassifier(random_state=333)),\n",
       "                                                ('logreg',\n",
       "                                                 LogisticRegression(random_state=333)),\n",
       "                                                ('mnb', MultinomialNB())]))])"
      ]
     },
     "execution_count": 84,
     "metadata": {},
     "output_type": "execute_result"
    }
   ],
   "source": [
    "sc_pipe.fit(X_train, y_train)"
   ]
  },
  {
   "cell_type": "code",
   "execution_count": 87,
   "metadata": {},
   "outputs": [
    {
     "data": {
      "text/plain": [
       "0.9580722172485825"
      ]
     },
     "execution_count": 87,
     "metadata": {},
     "output_type": "execute_result"
    }
   ],
   "source": [
    "y_pred = sc_pipe.predict(X_train)\n",
    "accuracy_score(y_train, y_pred)"
   ]
  },
  {
   "cell_type": "markdown",
   "metadata": {},
   "source": [
    "### 'Final' Model\n",
    "\n",
    "In the end, you'll arrive at a 'final' model - aka the one you'll use to make your recommendations/conclusions. This likely blends any group work. It might not be the one with the highest scores, but instead might be considered 'final' or 'best' for other reasons."
   ]
  },
  {
   "cell_type": "code",
   "execution_count": null,
   "metadata": {},
   "outputs": [],
   "source": [
    "# code here to show your final model"
   ]
  },
  {
   "cell_type": "code",
   "execution_count": null,
   "metadata": {},
   "outputs": [],
   "source": [
    "# code here to evaluate your final model"
   ]
  },
  {
   "cell_type": "markdown",
   "metadata": {},
   "source": [
    "## Conclusions\n",
    "\n",
    "Provide your conclusions about the work you've done, including any limitations or next steps.\n",
    "\n",
    "Questions to consider:\n",
    "\n",
    "- What would you recommend the business do as a result of this work?\n",
    "- How could the stakeholder use your model effectively?\n",
    "- What are some reasons why your analysis might not fully solve the business problem?\n",
    "- What else could you do in the future to improve this project (future work)?\n"
   ]
  }
 ],
 "metadata": {
  "kernelspec": {
   "display_name": "Python (learn-env)",
   "language": "python",
   "name": "learn-env"
  },
  "language_info": {
   "codemirror_mode": {
    "name": "ipython",
    "version": 3
   },
   "file_extension": ".py",
   "mimetype": "text/x-python",
   "name": "python",
   "nbconvert_exporter": "python",
   "pygments_lexer": "ipython3",
   "version": "3.8.5"
  }
 },
 "nbformat": 4,
 "nbformat_minor": 4
}
